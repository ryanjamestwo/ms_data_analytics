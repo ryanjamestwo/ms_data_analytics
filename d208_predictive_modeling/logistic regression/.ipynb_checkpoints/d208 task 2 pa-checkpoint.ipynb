{
 "cells": [
  {
   "cell_type": "markdown",
   "metadata": {},
   "source": [
    "# D208 Performance Assessment Task 2"
   ]
  },
  {
   "cell_type": "markdown",
   "metadata": {},
   "source": [
    "This is the code for my d208 performance assessment task 2. Student id: 012047746"
   ]
  },
  {
   "cell_type": "markdown",
   "metadata": {},
   "source": [
    "## A1. Research Question"
   ]
  },
  {
   "cell_type": "markdown",
   "metadata": {},
   "source": [
    "For this performance assessment, my research question is \"What qualitative variables most signficantly contribute to Churn?\". This is an important question to ask because understanding what factors contribute to Churn can allow the business to focus on customers that provide higher revenue for the company."
   ]
  },
  {
   "cell_type": "markdown",
   "metadata": {},
   "source": [
    "## A2. State Objectives and Goals for Analysis"
   ]
  },
  {
   "cell_type": "markdown",
   "metadata": {},
   "source": [
    "The goal of this analysis is to gain greater insight into what factors directly correlate with MonthlyCharge. In this analysis, I will be using linear regression modeling. Using linear regression, we can identify what multiple quantitative variables correlate with a single quantitative variable. The objective is to finish this analysis with a list of quantitative variables that signficantly correlate with MonthlyCharge."
   ]
  },
  {
   "cell_type": "markdown",
   "metadata": {},
   "source": [
    "## B1. Assumptions"
   ]
  },
  {
   "cell_type": "markdown",
   "metadata": {},
   "source": [
    "There are four assumptions of a multiple logistic regression model that we should consider. These are: \n",
    "- The dependant variable is binary, For example, with churn as my dependent variable, I can only predict a yes or a no with logarithmic regression.\n",
    "- We have to watch out for multicollinearity. This means that none of the independent variables can be significantly related with one another, or the regression model will be inaccurate\n",
    "- Logistic regression requires a large sample size to be sufficiently accurate\n",
    "- The logistic regression requires that the independent variables must be independent of one another. That they have no repeated measurements or shared date."
   ]
  },
  {
   "cell_type": "markdown",
   "metadata": {
    "tags": []
   },
   "source": [
    "## B2. Programming Language and Benefits"
   ]
  },
  {
   "cell_type": "markdown",
   "metadata": {},
   "source": [
    "The programming language that I used for this analysis is Python. Two reasons why I am using this language are:\n",
    "- I am familiar with the language. I am not as comfortable with using R and understand how to code in Python. This will make the project completion more timely and efficient.\n",
    "- Access to python libraries that can do multiple linear regression. There are a widespread list of libraries that I can use to finish my analysis for this project. This flexibility assists in timely \n",
    "\n",
    "The libraries that I will be using in this analysis are as follows:\n",
    "- Pandas: This library is essential to import the CSV and apply analysis to the data.\n",
    "- numpy: We use numpy to use arrays and set up the dataframe to be used for statistical analysis\n",
    "- scipy.stats: We use scipy for many of the statistical models. For instance using zscores in order to detect outliers\n",
    "- matplotlib: We use matplotlib for visualization such as histograms\n",
    "- statsmodels.api: We use statsmodel to run our multiple linear regression model. We also use this for our VIF"
   ]
  },
  {
   "cell_type": "markdown",
   "metadata": {
    "tags": []
   },
   "source": [
    "### Import Libraries"
   ]
  },
  {
   "cell_type": "code",
   "execution_count": 3,
   "metadata": {},
   "outputs": [],
   "source": [
    "# import the libraries\n",
    "import pandas as pd\n",
    "from pandas import DataFrame\n",
    "import numpy as np\n",
    "import scipy.stats as stats\n",
    "import matplotlib.pyplot as plt\n",
    "import statsmodels.api as sm\n",
    "from statsmodels.formula.api import ols\n",
    "from statsmodels.compat import lzip\n",
    "from statsmodels.stats.outliers_influence import variance_inflation_factor\n",
    "from statsmodels.tools.tools import add_constant"
   ]
  },
  {
   "cell_type": "markdown",
   "metadata": {},
   "source": [
    "## B3. Justification of Using Regression"
   ]
  },
  {
   "cell_type": "markdown",
   "metadata": {},
   "source": [
    "Logistic regression is an appropriate technique to use for this analysis because the research question focuses on a dependant qualitative variable. In logistic regression, it is important that the dependent variable is a binary qualitative variable. In our research question, we are focusing on churn, which is a binary (Yes or No) variable as our depednent variable. Because churn is the dependent variable, logistic regression must be used. Linear regression would not be usable in this case because that requires a quantiative variable as the dependent variable."
   ]
  },
  {
   "cell_type": "markdown",
   "metadata": {},
   "source": [
    "## C1. Data Cleaning"
   ]
  },
  {
   "cell_type": "markdown",
   "metadata": {},
   "source": [
    "For my data cleaning, I am going to start by focusing on null data, outliers, and duplicates. We can start by importing our data from a CSV. I am also going to drop all the numerical variables since we are only focusing on qualitative variables for this analysis. This means dropping CaseOrder, Population, Children, Age, Income, Outage_sec_perweek, Email, Contacts, Yearly_equip_failure, Tenure, MonthlyCharge, Bandwidth_GB_Year, Item1, Item2, Item3, Item4, Item5, Item6, Item7, and Item8."
   ]
  },
  {
   "cell_type": "code",
   "execution_count": 4,
   "metadata": {},
   "outputs": [],
   "source": [
    "df = pd.read_csv('churn_clean.csv')"
   ]
  },
  {
   "cell_type": "code",
   "execution_count": 5,
   "metadata": {
    "tags": []
   },
   "outputs": [
    {
     "name": "stdout",
     "output_type": "stream",
     "text": [
      "<class 'pandas.core.frame.DataFrame'>\n",
      "RangeIndex: 10000 entries, 0 to 9999\n",
      "Data columns (total 50 columns):\n",
      " #   Column                Non-Null Count  Dtype  \n",
      "---  ------                --------------  -----  \n",
      " 0   CaseOrder             10000 non-null  int64  \n",
      " 1   Customer_id           10000 non-null  object \n",
      " 2   Interaction           10000 non-null  object \n",
      " 3   UID                   10000 non-null  object \n",
      " 4   City                  10000 non-null  object \n",
      " 5   State                 10000 non-null  object \n",
      " 6   County                10000 non-null  object \n",
      " 7   Zip                   10000 non-null  int64  \n",
      " 8   Lat                   10000 non-null  float64\n",
      " 9   Lng                   10000 non-null  float64\n",
      " 10  Population            10000 non-null  int64  \n",
      " 11  Area                  10000 non-null  object \n",
      " 12  TimeZone              10000 non-null  object \n",
      " 13  Job                   10000 non-null  object \n",
      " 14  Children              10000 non-null  int64  \n",
      " 15  Age                   10000 non-null  int64  \n",
      " 16  Income                10000 non-null  float64\n",
      " 17  Marital               10000 non-null  object \n",
      " 18  Gender                10000 non-null  object \n",
      " 19  Churn                 10000 non-null  object \n",
      " 20  Outage_sec_perweek    10000 non-null  float64\n",
      " 21  Email                 10000 non-null  int64  \n",
      " 22  Contacts              10000 non-null  int64  \n",
      " 23  Yearly_equip_failure  10000 non-null  int64  \n",
      " 24  Techie                10000 non-null  object \n",
      " 25  Contract              10000 non-null  object \n",
      " 26  Port_modem            10000 non-null  object \n",
      " 27  Tablet                10000 non-null  object \n",
      " 28  InternetService       10000 non-null  object \n",
      " 29  Phone                 10000 non-null  object \n",
      " 30  Multiple              10000 non-null  object \n",
      " 31  OnlineSecurity        10000 non-null  object \n",
      " 32  OnlineBackup          10000 non-null  object \n",
      " 33  DeviceProtection      10000 non-null  object \n",
      " 34  TechSupport           10000 non-null  object \n",
      " 35  StreamingTV           10000 non-null  object \n",
      " 36  StreamingMovies       10000 non-null  object \n",
      " 37  PaperlessBilling      10000 non-null  object \n",
      " 38  PaymentMethod         10000 non-null  object \n",
      " 39  Tenure                10000 non-null  float64\n",
      " 40  MonthlyCharge         10000 non-null  float64\n",
      " 41  Bandwidth_GB_Year     10000 non-null  float64\n",
      " 42  Item1                 10000 non-null  int64  \n",
      " 43  Item2                 10000 non-null  int64  \n",
      " 44  Item3                 10000 non-null  int64  \n",
      " 45  Item4                 10000 non-null  int64  \n",
      " 46  Item5                 10000 non-null  int64  \n",
      " 47  Item6                 10000 non-null  int64  \n",
      " 48  Item7                 10000 non-null  int64  \n",
      " 49  Item8                 10000 non-null  int64  \n",
      "dtypes: float64(7), int64(16), object(27)\n",
      "memory usage: 3.8+ MB\n"
     ]
    }
   ],
   "source": [
    "df.info()"
   ]
  },
  {
   "cell_type": "code",
   "execution_count": 7,
   "metadata": {
    "tags": []
   },
   "outputs": [
    {
     "name": "stdout",
     "output_type": "stream",
     "text": [
      "<class 'pandas.core.frame.DataFrame'>\n",
      "RangeIndex: 10000 entries, 0 to 9999\n",
      "Data columns (total 30 columns):\n",
      " #   Column            Non-Null Count  Dtype  \n",
      "---  ------            --------------  -----  \n",
      " 0   Customer_id       10000 non-null  object \n",
      " 1   Interaction       10000 non-null  object \n",
      " 2   UID               10000 non-null  object \n",
      " 3   City              10000 non-null  object \n",
      " 4   State             10000 non-null  object \n",
      " 5   County            10000 non-null  object \n",
      " 6   Zip               10000 non-null  int64  \n",
      " 7   Lat               10000 non-null  float64\n",
      " 8   Lng               10000 non-null  float64\n",
      " 9   Area              10000 non-null  object \n",
      " 10  TimeZone          10000 non-null  object \n",
      " 11  Job               10000 non-null  object \n",
      " 12  Marital           10000 non-null  object \n",
      " 13  Gender            10000 non-null  object \n",
      " 14  Churn             10000 non-null  object \n",
      " 15  Techie            10000 non-null  object \n",
      " 16  Contract          10000 non-null  object \n",
      " 17  Port_modem        10000 non-null  object \n",
      " 18  Tablet            10000 non-null  object \n",
      " 19  InternetService   10000 non-null  object \n",
      " 20  Phone             10000 non-null  object \n",
      " 21  Multiple          10000 non-null  object \n",
      " 22  OnlineSecurity    10000 non-null  object \n",
      " 23  OnlineBackup      10000 non-null  object \n",
      " 24  DeviceProtection  10000 non-null  object \n",
      " 25  TechSupport       10000 non-null  object \n",
      " 26  StreamingTV       10000 non-null  object \n",
      " 27  StreamingMovies   10000 non-null  object \n",
      " 28  PaperlessBilling  10000 non-null  object \n",
      " 29  PaymentMethod     10000 non-null  object \n",
      "dtypes: float64(2), int64(1), object(27)\n",
      "memory usage: 2.3+ MB\n"
     ]
    }
   ],
   "source": [
    "dfq = df[['Customer_id','Interaction','UID','City','State','County','Zip','Lat','Lng','Area','TimeZone','Job','Marital','Gender','Churn','Techie','Contract','Port_modem','Tablet','InternetService','Phone','Multiple','OnlineSecurity','OnlineBackup','DeviceProtection','TechSupport','StreamingTV','StreamingMovies','PaperlessBilling','PaymentMethod']]\n",
    "dfq.info()"
   ]
  },
  {
   "cell_type": "markdown",
   "metadata": {},
   "source": [
    "### Treating Nulls"
   ]
  },
  {
   "cell_type": "markdown",
   "metadata": {},
   "source": [
    "We begin by checking the dataframe for nulls. We can use .isnlull().sum() to look through the variables and see if there is any missing data. Using this function we can see that there are no nulls present in the data. "
   ]
  },
  {
   "cell_type": "code",
   "execution_count": 8,
   "metadata": {},
   "outputs": [
    {
     "data": {
      "text/plain": [
       "Customer_id         0\n",
       "Interaction         0\n",
       "UID                 0\n",
       "City                0\n",
       "State               0\n",
       "County              0\n",
       "Zip                 0\n",
       "Lat                 0\n",
       "Lng                 0\n",
       "Area                0\n",
       "TimeZone            0\n",
       "Job                 0\n",
       "Marital             0\n",
       "Gender              0\n",
       "Churn               0\n",
       "Techie              0\n",
       "Contract            0\n",
       "Port_modem          0\n",
       "Tablet              0\n",
       "InternetService     0\n",
       "Phone               0\n",
       "Multiple            0\n",
       "OnlineSecurity      0\n",
       "OnlineBackup        0\n",
       "DeviceProtection    0\n",
       "TechSupport         0\n",
       "StreamingTV         0\n",
       "StreamingMovies     0\n",
       "PaperlessBilling    0\n",
       "PaymentMethod       0\n",
       "dtype: int64"
      ]
     },
     "execution_count": 8,
     "metadata": {},
     "output_type": "execute_result"
    }
   ],
   "source": [
    "dfq.isnull().sum()"
   ]
  },
  {
   "cell_type": "markdown",
   "metadata": {},
   "source": [
    "### Finding & Treating Duplicates"
   ]
  },
  {
   "cell_type": "markdown",
   "metadata": {},
   "source": [
    "Next, we will check to see if there are any duplicates in the data. We can do this by using .duplicated().value_counts() which will output a true or false depending on whether or not duplicates exist within the dataframe. We can see from the output of false 10,000 times that there are no duplicates within the data."
   ]
  },
  {
   "cell_type": "code",
   "execution_count": 9,
   "metadata": {},
   "outputs": [
    {
     "data": {
      "text/plain": [
       "False    10000\n",
       "dtype: int64"
      ]
     },
     "execution_count": 9,
     "metadata": {},
     "output_type": "execute_result"
    }
   ],
   "source": [
    "dfq.duplicated().value_counts()"
   ]
  },
  {
   "cell_type": "markdown",
   "metadata": {},
   "source": [
    "### Finding & Treating Outliers"
   ]
  },
  {
   "cell_type": "markdown",
   "metadata": {},
   "source": [
    "Because we are not dealing with quantitative variables in this analysis, there are no outliers that we can detect using z-scores."
   ]
  },
  {
   "cell_type": "markdown",
   "metadata": {},
   "source": [
    "## C2. Data Exploration (EDA)"
   ]
  },
  {
   "cell_type": "markdown",
   "metadata": {},
   "source": [
    "To get out summary statistics, we can use the describe function. I use a for loop to run the .describe() function and get summary statistics of all the variables. Its also important to note that all outliers have been removed.\n",
    "\n",
    "- Customer_id: Its important to note from this that there are 10,000 rows of data and 10,000 unique values. That means every value is unique.\n",
    "- Interaction: This is the same as Customer_id in that it has all unique values\n",
    "- UID:  This is another unique id, we should consider dropping the customer_id and interaction since they are effectively the all the same.\n",
    "- City:  We can see that there  6058 unique cities, the most common city is Houston\n",
    "- State:  There are 52 unique states. The top one is texas.\n",
    "- County: There 1620 unique counties. \n",
    "- Zip: \n",
    "- Lat: \n",
    "- Lng:\n",
    "- Area: There are 3 types of areas.\n",
    "- TimeZone:  There 25 unique timezones, with the most being in New York timezone\n",
    "- Job:  There are 629 unique occip\n",
    "- Marital: Marital has 5 different categories\n",
    "- Gender: There are 3 gender categories]\\\n",
    "\\\n",
    "\n",
    "\n",
    "- Churn\n",
    "- Techie\n",
    "- Contract\n",
    "- Port_modem\n",
    "- Tablet\n",
    "- InternetService\n",
    "- Phone\n",
    "- Multiple\n",
    "- OnlineSecurity\n",
    "- OnlineBackup\n",
    "- DeviceProtection\n",
    "- TechSupport\n",
    "- StreamingTV\n",
    "- StreamingMovies\n",
    "- PaperlessBilling\n",
    "- PaymentMethod"
   ]
  },
  {
   "cell_type": "code",
   "execution_count": 12,
   "metadata": {
    "tags": []
   },
   "outputs": [
    {
     "name": "stdout",
     "output_type": "stream",
     "text": [
      "Variable:  Customer_id \n",
      " count       10000\n",
      "unique      10000\n",
      "top       K409198\n",
      "freq            1\n",
      "Name: Customer_id, dtype: object \n",
      "\n",
      "Variable:  Interaction \n",
      " count                                    10000\n",
      "unique                                   10000\n",
      "top       aa90260b-4141-4a24-8e36-b04ce1f4f77b\n",
      "freq                                         1\n",
      "Name: Interaction, dtype: object \n",
      "\n",
      "Variable:  UID \n",
      " count                                10000\n",
      "unique                               10000\n",
      "top       e885b299883d4f9fb18e39c75155d990\n",
      "freq                                     1\n",
      "Name: UID, dtype: object \n",
      "\n",
      "Variable:  City \n",
      " count       10000\n",
      "unique       6058\n",
      "top       Houston\n",
      "freq           34\n",
      "Name: City, dtype: object \n",
      "\n",
      "Variable:  State \n",
      " count     10000\n",
      "unique       52\n",
      "top          TX\n",
      "freq        603\n",
      "Name: State, dtype: object \n",
      "\n",
      "Variable:  County \n",
      " count          10000\n",
      "unique          1620\n",
      "top       Washington\n",
      "freq             111\n",
      "Name: County, dtype: object \n",
      "\n",
      "Variable:  Zip \n",
      " count    10000.000000\n",
      "mean     49153.319600\n",
      "std      27532.196108\n",
      "min        601.000000\n",
      "25%      26292.500000\n",
      "50%      48869.500000\n",
      "75%      71866.500000\n",
      "max      99929.000000\n",
      "Name: Zip, dtype: float64 \n",
      "\n",
      "Variable:  Lat \n",
      " count    10000.000000\n",
      "mean        38.757567\n",
      "std          5.437389\n",
      "min         17.966120\n",
      "25%         35.341828\n",
      "50%         39.395800\n",
      "75%         42.106908\n",
      "max         70.640660\n",
      "Name: Lat, dtype: float64 \n",
      "\n",
      "Variable:  Lng \n",
      " count    10000.000000\n",
      "mean       -90.782536\n",
      "std         15.156142\n",
      "min       -171.688150\n",
      "25%        -97.082812\n",
      "50%        -87.918800\n",
      "75%        -80.088745\n",
      "max        -65.667850\n",
      "Name: Lng, dtype: float64 \n",
      "\n",
      "Variable:  Area \n",
      " count        10000\n",
      "unique           3\n",
      "top       Suburban\n",
      "freq          3346\n",
      "Name: Area, dtype: object \n",
      "\n",
      "Variable:  TimeZone \n",
      " count                10000\n",
      "unique                  25\n",
      "top       America/New_York\n",
      "freq                  4072\n",
      "Name: TimeZone, dtype: object \n",
      "\n",
      "Variable:  Job \n",
      " count                         10000\n",
      "unique                          639\n",
      "top       Occupational psychologist\n",
      "freq                             30\n",
      "Name: Job, dtype: object \n",
      "\n",
      "Variable:  Marital \n",
      " count        10000\n",
      "unique           5\n",
      "top       Divorced\n",
      "freq          2092\n",
      "Name: Marital, dtype: object \n",
      "\n",
      "Variable:  Gender \n",
      " count      10000\n",
      "unique         3\n",
      "top       Female\n",
      "freq        5025\n",
      "Name: Gender, dtype: object \n",
      "\n",
      "Variable:  Churn \n",
      " count     10000\n",
      "unique        2\n",
      "top          No\n",
      "freq       7350\n",
      "Name: Churn, dtype: object \n",
      "\n",
      "Variable:  Techie \n",
      " count     10000\n",
      "unique        2\n",
      "top          No\n",
      "freq       8321\n",
      "Name: Techie, dtype: object \n",
      "\n",
      "Variable:  Contract \n",
      " count              10000\n",
      "unique                 3\n",
      "top       Month-to-month\n",
      "freq                5456\n",
      "Name: Contract, dtype: object \n",
      "\n",
      "Variable:  Port_modem \n",
      " count     10000\n",
      "unique        2\n",
      "top          No\n",
      "freq       5166\n",
      "Name: Port_modem, dtype: object \n",
      "\n",
      "Variable:  Tablet \n",
      " count     10000\n",
      "unique        2\n",
      "top          No\n",
      "freq       7009\n",
      "Name: Tablet, dtype: object \n",
      "\n",
      "Variable:  InternetService \n",
      " count           10000\n",
      "unique              3\n",
      "top       Fiber Optic\n",
      "freq             4408\n",
      "Name: InternetService, dtype: object \n",
      "\n",
      "Variable:  Phone \n",
      " count     10000\n",
      "unique        2\n",
      "top         Yes\n",
      "freq       9067\n",
      "Name: Phone, dtype: object \n",
      "\n",
      "Variable:  Multiple \n",
      " count     10000\n",
      "unique        2\n",
      "top          No\n",
      "freq       5392\n",
      "Name: Multiple, dtype: object \n",
      "\n",
      "Variable:  OnlineSecurity \n",
      " count     10000\n",
      "unique        2\n",
      "top          No\n",
      "freq       6424\n",
      "Name: OnlineSecurity, dtype: object \n",
      "\n",
      "Variable:  OnlineBackup \n",
      " count     10000\n",
      "unique        2\n",
      "top          No\n",
      "freq       5494\n",
      "Name: OnlineBackup, dtype: object \n",
      "\n",
      "Variable:  DeviceProtection \n",
      " count     10000\n",
      "unique        2\n",
      "top          No\n",
      "freq       5614\n",
      "Name: DeviceProtection, dtype: object \n",
      "\n",
      "Variable:  TechSupport \n",
      " count     10000\n",
      "unique        2\n",
      "top          No\n",
      "freq       6250\n",
      "Name: TechSupport, dtype: object \n",
      "\n",
      "Variable:  StreamingTV \n",
      " count     10000\n",
      "unique        2\n",
      "top          No\n",
      "freq       5071\n",
      "Name: StreamingTV, dtype: object \n",
      "\n",
      "Variable:  StreamingMovies \n",
      " count     10000\n",
      "unique        2\n",
      "top          No\n",
      "freq       5110\n",
      "Name: StreamingMovies, dtype: object \n",
      "\n",
      "Variable:  PaperlessBilling \n",
      " count     10000\n",
      "unique        2\n",
      "top         Yes\n",
      "freq       5882\n",
      "Name: PaperlessBilling, dtype: object \n",
      "\n",
      "Variable:  PaymentMethod \n",
      " count                10000\n",
      "unique                   4\n",
      "top       Electronic Check\n",
      "freq                  3398\n",
      "Name: PaymentMethod, dtype: object \n",
      "\n"
     ]
    }
   ],
   "source": [
    "dfq_c = ['Customer_id','Interaction','UID','City','State','County','Zip','Lat','Lng','Area','TimeZone','Job','Marital','Gender','Churn','Techie','Contract','Port_modem','Tablet','InternetService','Phone','Multiple','OnlineSecurity','OnlineBackup','DeviceProtection','TechSupport','StreamingTV','StreamingMovies','PaperlessBilling','PaymentMethod']\n",
    "# run a for loop that goes through and uses .describe()\n",
    "for column in dfq_c:\n",
    "    print('Variable: ', column,'\\n', dfq[column].describe(),'\\n')"
   ]
  }
 ],
 "metadata": {
  "kernelspec": {
   "display_name": "Python 3 (ipykernel)",
   "language": "python",
   "name": "python3"
  },
  "language_info": {
   "codemirror_mode": {
    "name": "ipython",
    "version": 3
   },
   "file_extension": ".py",
   "mimetype": "text/x-python",
   "name": "python",
   "nbconvert_exporter": "python",
   "pygments_lexer": "ipython3",
   "version": "3.9.13"
  }
 },
 "nbformat": 4,
 "nbformat_minor": 4
}
