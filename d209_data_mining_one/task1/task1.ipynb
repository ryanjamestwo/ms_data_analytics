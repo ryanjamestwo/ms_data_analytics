{
 "cells": [
  {
   "cell_type": "markdown",
   "id": "061e9387-ea8d-487b-90ba-ef0a4a5a5a82",
   "metadata": {},
   "source": [
    "## A1:PROPOSAL OF QUESTION"
   ]
  },
  {
   "cell_type": "markdown",
   "id": "eca75d86-5b7c-431f-96d7-88bebd058031",
   "metadata": {},
   "source": [
    "The research question that I want to answer is \"What factor's affect whether or not a customer will churn?\". This is an important question to answer because understanding what causes a customer to churn or not can help influence business decisions related to those factors."
   ]
  },
  {
   "cell_type": "markdown",
   "id": "3cf968c2-c245-49ec-b38a-3ac0c261d384",
   "metadata": {},
   "source": [
    "## A2:DEFINED GOAL"
   ]
  },
  {
   "cell_type": "markdown",
   "id": "375984a5-2133-46dd-9a63-ea0c67aa5b57",
   "metadata": {},
   "source": [
    "The goal is to determine which factors are most significantly correlated to the variable of churn. In order to determine this, I am going to use scikitlearn and the K nearest neighbors method in order. This will leave us with a set of variables that are related to churn and those that are not. From these list of variables that are relevant, we can then begin to make interpretations about the data and how it can be used to affect churn in a way that is beneficial to the business."
   ]
  },
  {
   "cell_type": "markdown",
   "id": "f8432ba6-e125-4629-8a15-7a4a126400bb",
   "metadata": {},
   "source": [
    "## B1:EXPLANATION OF CLASSIFICATION METHOD"
   ]
  },
  {
   "cell_type": "code",
   "execution_count": null,
   "id": "364851c7-916c-44d8-b3ad-cffdcbf3b52e",
   "metadata": {},
   "outputs": [],
   "source": []
  },
  {
   "cell_type": "markdown",
   "id": "51a45e70-cf66-468e-abd1-7d7ee06bdeb2",
   "metadata": {},
   "source": [
    "## B2:SUMMARY OF METHOD ASSUMPTION"
   ]
  },
  {
   "cell_type": "code",
   "execution_count": null,
   "id": "ce94890b-286e-45e6-a4e2-0fbf4a3faca5",
   "metadata": {},
   "outputs": [],
   "source": []
  },
  {
   "cell_type": "markdown",
   "id": "24a1c0a7-ce70-4e8c-8d0c-b7e77dcda630",
   "metadata": {},
   "source": [
    "## B3:PACKAGES OR LIBRARIES LIST"
   ]
  },
  {
   "cell_type": "code",
   "execution_count": null,
   "id": "9c48db7e-0954-48cc-8ab9-600fb87ea155",
   "metadata": {},
   "outputs": [],
   "source": []
  },
  {
   "cell_type": "markdown",
   "id": "602c08c4-de9e-47a5-83a9-66d3cba94834",
   "metadata": {},
   "source": [
    "## C1:DATA PREPROCESSING"
   ]
  },
  {
   "cell_type": "code",
   "execution_count": null,
   "id": "b66accb5-3189-4cb6-aa54-7c4fb99b7a52",
   "metadata": {},
   "outputs": [],
   "source": []
  },
  {
   "cell_type": "markdown",
   "id": "ab007511-9451-42b4-93d4-6e99383988ba",
   "metadata": {},
   "source": [
    "## C2:DATA SET VARIABLES"
   ]
  },
  {
   "cell_type": "code",
   "execution_count": null,
   "id": "e9856306-3bf3-4bd8-b1e2-2b4318eb962e",
   "metadata": {},
   "outputs": [],
   "source": []
  },
  {
   "cell_type": "markdown",
   "id": "79748688-4f47-438e-bd5e-bf8ebaa7096b",
   "metadata": {},
   "source": [
    "## C3:STEPS FOR ANALYSIS"
   ]
  },
  {
   "cell_type": "code",
   "execution_count": null,
   "id": "9f980d9f-f11e-4c13-866e-2657a96eff17",
   "metadata": {},
   "outputs": [],
   "source": []
  },
  {
   "cell_type": "markdown",
   "id": "257f4278-0fcb-4a10-974e-a57097d3915c",
   "metadata": {},
   "source": [
    "## C4:CLEANED DATA SET"
   ]
  },
  {
   "cell_type": "code",
   "execution_count": null,
   "id": "22a55e2b-a174-44d5-ab8d-07236403ce42",
   "metadata": {},
   "outputs": [],
   "source": []
  },
  {
   "cell_type": "markdown",
   "id": "85aeff27-9b64-4a85-8007-7a1f1102c547",
   "metadata": {},
   "source": [
    "## D1:SPLITTING THE DATA"
   ]
  },
  {
   "cell_type": "code",
   "execution_count": null,
   "id": "60becb46-a6f5-4ea4-8e5a-5fd362ed81b3",
   "metadata": {},
   "outputs": [],
   "source": []
  },
  {
   "cell_type": "markdown",
   "id": "0815a828-4a2c-41c6-8215-32f5f61c8f0f",
   "metadata": {},
   "source": [
    "## D2:OUTPUT AND INTERMEDIATE CALCULATIONS"
   ]
  },
  {
   "cell_type": "code",
   "execution_count": null,
   "id": "c1d920c0-1bb2-4aa4-8a3b-6d714400daa7",
   "metadata": {},
   "outputs": [],
   "source": []
  },
  {
   "cell_type": "markdown",
   "id": "4dd44f90-4a25-4526-8673-32f8eb83969e",
   "metadata": {},
   "source": [
    "## D3:CODE EXECUTION"
   ]
  },
  {
   "cell_type": "code",
   "execution_count": null,
   "id": "9e5257c2-7599-4696-9a18-13d77da9815c",
   "metadata": {},
   "outputs": [],
   "source": []
  },
  {
   "cell_type": "markdown",
   "id": "17c60ffa-a7ac-4f48-bfb5-34e7b5f934b0",
   "metadata": {},
   "source": [
    "## E1:ACCURACY AND AUC"
   ]
  },
  {
   "cell_type": "code",
   "execution_count": null,
   "id": "5c73289e-059d-4a59-8c62-db1b07025a72",
   "metadata": {},
   "outputs": [],
   "source": []
  },
  {
   "cell_type": "markdown",
   "id": "9d28bc09-b681-49ab-99d4-3c69352bc26d",
   "metadata": {},
   "source": [
    "## E2:RESULTS AND IMPLICATIONS"
   ]
  },
  {
   "cell_type": "code",
   "execution_count": null,
   "id": "e707ce45-481b-4e55-9689-4dba17ec42cd",
   "metadata": {},
   "outputs": [],
   "source": []
  },
  {
   "cell_type": "markdown",
   "id": "c785102d-5a3f-4d1e-8e5d-c54f9388eb23",
   "metadata": {},
   "source": [
    "## E3:LIMITATION"
   ]
  },
  {
   "cell_type": "code",
   "execution_count": null,
   "id": "88ebfc2d-500d-4d83-ba8b-ab6ebac3f971",
   "metadata": {},
   "outputs": [],
   "source": []
  },
  {
   "cell_type": "markdown",
   "id": "1e3af286-660a-4afc-af4c-cd91a80c2038",
   "metadata": {},
   "source": [
    "## E4:COURSE OF ACTION"
   ]
  },
  {
   "cell_type": "code",
   "execution_count": null,
   "id": "7c86dffd-8796-4d08-913e-39b5298e49d9",
   "metadata": {},
   "outputs": [],
   "source": []
  },
  {
   "cell_type": "markdown",
   "id": "27549eb8-da05-4c1c-aee7-33558940a389",
   "metadata": {},
   "source": [
    "## G:SOURCES FOR THIRD-PARTY CODE"
   ]
  },
  {
   "cell_type": "code",
   "execution_count": null,
   "id": "1b001c85-0195-4eee-a93c-17a3f196a56d",
   "metadata": {},
   "outputs": [],
   "source": []
  },
  {
   "cell_type": "markdown",
   "id": "05e9d590-a00b-47ab-8816-b370bcb0a9f0",
   "metadata": {},
   "source": [
    "## H:SOURCES"
   ]
  },
  {
   "cell_type": "code",
   "execution_count": null,
   "id": "c1138b32-69b6-4070-9779-4db4cbb0c9ad",
   "metadata": {},
   "outputs": [],
   "source": []
  }
 ],
 "metadata": {
  "kernelspec": {
   "display_name": "Python 3 (ipykernel)",
   "language": "python",
   "name": "python3"
  },
  "language_info": {
   "codemirror_mode": {
    "name": "ipython",
    "version": 3
   },
   "file_extension": ".py",
   "mimetype": "text/x-python",
   "name": "python",
   "nbconvert_exporter": "python",
   "pygments_lexer": "ipython3",
   "version": "3.9.13"
  }
 },
 "nbformat": 4,
 "nbformat_minor": 5
}
