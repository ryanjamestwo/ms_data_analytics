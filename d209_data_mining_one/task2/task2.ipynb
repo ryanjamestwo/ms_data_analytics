{
 "cells": [
  {
   "cell_type": "markdown",
   "id": "0d8a35a9-ff5d-479e-8bf8-3abfc271806f",
   "metadata": {},
   "source": [
    "# D209 Task 2"
   ]
  },
  {
   "cell_type": "markdown",
   "id": "d8be692d-37cf-4b8e-9e77-45d3194b7628",
   "metadata": {},
   "source": [
    "This is the code for my d209 performance assessment task 2. Student id: 012047746"
   ]
  },
  {
   "cell_type": "markdown",
   "id": "16ef89bf-f3cd-486d-ae41-6095458cb068",
   "metadata": {},
   "source": [
    "# A1:PROPOSAL OF QUESTION\n"
   ]
  },
  {
   "cell_type": "markdown",
   "id": "a1c812b0-f766-4990-bdf3-f7cfa52205cb",
   "metadata": {},
   "source": [
    "The research question I want to ask for this task 2, is \"whether or not a decision tree algorithm can predict if a customer will churn using binary qualitative data?\". This analysis is similar to my task 1 for D209 but uses a different algorithm. This is a useful analysis to explore because it helps us understand what factors may possibly affect what causes someone to be a customer that churns and a customer that doesn't. It can also help with planning for the future, to see if there will be more or less customers that are churning."
   ]
  },
  {
   "cell_type": "markdown",
   "id": "0eacaf42-6162-4fa5-9458-da216dc0bf3b",
   "metadata": {},
   "source": [
    "# A2:DEFINED GOAL\n"
   ]
  },
  {
   "cell_type": "markdown",
   "id": "bf48641b-1d83-4993-b0a4-0c4d999eae64",
   "metadata": {},
   "source": [
    "The goal is to determine if its possible to create a decision tree model that can accurately determine whether or not a customer is going to churn given the input of binary qualitative factors. In order to do this, I am going to use scikitlearn and the decision tree method. From the accuracy of the model, we can determine whether or not it will be useful to use this forecast to try and implement into business practices."
   ]
  },
  {
   "cell_type": "markdown",
   "id": "5b0e9cc3-ed61-4f39-9a61-317e11279da6",
   "metadata": {},
   "source": [
    "# B1:EXPLANATION OF PREDICTION\n"
   ]
  },
  {
   "cell_type": "markdown",
   "id": "ecbf5fc5-6a91-4554-87fd-e84675f2afd4",
   "metadata": {},
   "source": [
    "For the analysis I am going to be using decision trees to classify contributing factors as to whether or not a customer is going to churn. Decision trees work by starting with a root node, and defining different possible factors that could affect an outcome. For instance, it could start by being if you are outside, and then one of the nodes if you are outside could be whether the weather is sunny or not. This would continue until you reach an outcome or leaf node that categorizes the steps into an outcome."
   ]
  },
  {
   "cell_type": "markdown",
   "id": "5109b70c-5dbd-42fc-bc8b-7ee90668a4e4",
   "metadata": {},
   "source": [
    "# B2:SUMMARY OF METHOD ASSUMPTION\n"
   ]
  },
  {
   "cell_type": "markdown",
   "id": "4120f9cf-9050-4b46-9a93-784494acb572",
   "metadata": {},
   "source": [
    "One assumption of the decision tree methods is that all variable can be represented as a binary choice. This is because the decision tree will create splits, and develop two subsets of the data based upon a particular feature. It also is assumed that the data can be split into smalled subsets of data. Another assumption of decision trees is that they assume that there is feature independence between the inputted features for the model. \n",
    "\n",
    "These are all things that we have to take into account when it comes to implementing decision trees. For instance, we can't use data that is not representable as a binary choice. When it comes to numerical data we would have to determine a way for the model to split the data into two subsets, like above the value of ten and below the value of ten. We also should avoid using features that are not independent of one another, like height and weight."
   ]
  },
  {
   "cell_type": "markdown",
   "id": "ea67e227-afe6-40d3-8e34-ee83068a5ef0",
   "metadata": {},
   "source": [
    "# B3:PACKAGES OR LIBRARIES LIST\n"
   ]
  },
  {
   "cell_type": "markdown",
   "id": "af30c9c2-2890-48ab-8819-59b2ce5de08f",
   "metadata": {},
   "source": [
    "I have used the following packages for my analysis:\n",
    "- Pandas: This library is essential to import the CSV and apply analysis to the data. This is also used to map the qualitative variables to a numeric value depending on whether its 'yes' or 'no'.\n",
    "- numpy: We use numpy to use arrays and set up the dataframe to be used for statistical analysis\n",
    "- scikitlearn: This is the library that is used to bring in the decision tree model. I also use mse, classification report, and auc scoring\n"
   ]
  },
  {
   "cell_type": "code",
   "execution_count": 24,
   "id": "fcb1b174-5d16-4a53-8ff5-7cfd2d1ab972",
   "metadata": {},
   "outputs": [],
   "source": [
    "# import the libraries\n",
    "import pandas as pd\n",
    "from pandas import DataFrame\n",
    "import numpy as np\n",
    "import sklearn\n",
    "from sklearn.model_selection import train_test_split\n",
    "from sklearn.tree import DecisionTreeClassifier\n",
    "from sklearn.metrics import mean_squared_error\n",
    "from sklearn.metrics import classification_report"
   ]
  },
  {
   "cell_type": "markdown",
   "id": "3fb550ec-adac-40c7-bd0d-8447fcf2f791",
   "metadata": {},
   "source": [
    "# C1:DATA PREPROCESSING\n"
   ]
  },
  {
   "cell_type": "markdown",
   "id": "ccac3aee-8d54-4f22-b5fe-3cf3d9921390",
   "metadata": {},
   "source": [
    "We need to remove the numerical variables and non-binary categorical variables from the dataset. We are doing this as it does not fit our initial goal of testing whether or not we can build this model based off of binary qualitative factors. To accurately test this, we need to remove all of these variables. This process is done later on in the code by selecting only the variables we need and keeping only those variables in the dataframe."
   ]
  },
  {
   "cell_type": "markdown",
   "id": "4f45ea3e-6c89-4550-aff0-310c511a4a10",
   "metadata": {},
   "source": [
    "# C2:DATA SET VARIABLES\n"
   ]
  },
  {
   "cell_type": "markdown",
   "id": "0333d84f-c33a-4d73-920b-daf4cd01f19f",
   "metadata": {},
   "source": [
    "For the qualitative variables we need: \n",
    "\n",
    "- Churn: This is a binary variable with either yes or no values. This variable is categorical.\n",
    "- Techie: This is a binary variable with either yes or no values. This variable is categorical.\n",
    "- Port_modem: This is a binary variable with either yes or no values. This variable is categorical.\n",
    "- Tablet: This is a binary variable with either yes or no values. This variable is categorical.\n",
    "- Phone: This is a binary variable with either yes or no values. This variable is categorical.\n",
    "- Multiple:This is a binary variable with either yes or no values. This variable is categorical.\n",
    "- OnlineSecurity: This is a binary variable with either yes or no values. This variable is categorical.\n",
    "- OnlineBackup: This is a binary variable with either yes or no values. This variable is categorical.\n",
    "- DeviceProtection: This is a binary variable with either yes or no values. This variable is categorical.\n",
    "- TechSupport: This is a binary variable with either yes or no values. This variable is categorical.\n",
    "- StreamingTV: This is a binary variable with either yes or no values. This variable is categorical.\n",
    "- StreamingMovies: This is a binary variable with either yes or no values. This variable is categorical.\n",
    "- PaperlessBilling: This is a binary variable with either yes or no values. This variable is categorical.\n",
    "\n",
    "All these variables are categorical\n"
   ]
  },
  {
   "cell_type": "code",
   "execution_count": 25,
   "id": "2aad76b8-db75-44d0-8327-831c58f4ce8e",
   "metadata": {},
   "outputs": [],
   "source": [
    "dfq_cq = ['Churn','Techie','Port_modem','Tablet','Phone','Multiple','OnlineSecurity','OnlineBackup','DeviceProtection','TechSupport','StreamingTV','StreamingMovies','PaperlessBilling']"
   ]
  },
  {
   "cell_type": "markdown",
   "id": "556b110e-bab6-4b0a-b437-09e22a57c4e5",
   "metadata": {},
   "source": [
    "# C3:STEPS FOR ANALYSIS\n"
   ]
  },
  {
   "cell_type": "markdown",
   "id": "e85ef462-ff07-4206-a837-d267fc97b7f7",
   "metadata": {},
   "source": [
    "I will start by selecting only the variables that we need. This means removed all numerical and non-binary qualitative variables."
   ]
  },
  {
   "cell_type": "code",
   "execution_count": 26,
   "id": "e5580548-fec0-464e-a2cb-19a4648b48c3",
   "metadata": {},
   "outputs": [],
   "source": [
    "df = pd.read_csv('churn_clean.csv')"
   ]
  },
  {
   "cell_type": "code",
   "execution_count": 27,
   "id": "f187a701-3da3-465a-b1ab-199485acec42",
   "metadata": {},
   "outputs": [
    {
     "data": {
      "text/html": [
       "<div>\n",
       "<style scoped>\n",
       "    .dataframe tbody tr th:only-of-type {\n",
       "        vertical-align: middle;\n",
       "    }\n",
       "\n",
       "    .dataframe tbody tr th {\n",
       "        vertical-align: top;\n",
       "    }\n",
       "\n",
       "    .dataframe thead th {\n",
       "        text-align: right;\n",
       "    }\n",
       "</style>\n",
       "<table border=\"1\" class=\"dataframe\">\n",
       "  <thead>\n",
       "    <tr style=\"text-align: right;\">\n",
       "      <th></th>\n",
       "      <th>Churn</th>\n",
       "      <th>Techie</th>\n",
       "      <th>Port_modem</th>\n",
       "      <th>Tablet</th>\n",
       "      <th>Phone</th>\n",
       "      <th>Multiple</th>\n",
       "      <th>OnlineSecurity</th>\n",
       "      <th>OnlineBackup</th>\n",
       "      <th>DeviceProtection</th>\n",
       "      <th>TechSupport</th>\n",
       "      <th>StreamingTV</th>\n",
       "      <th>StreamingMovies</th>\n",
       "      <th>PaperlessBilling</th>\n",
       "    </tr>\n",
       "  </thead>\n",
       "  <tbody>\n",
       "    <tr>\n",
       "      <th>0</th>\n",
       "      <td>No</td>\n",
       "      <td>No</td>\n",
       "      <td>Yes</td>\n",
       "      <td>Yes</td>\n",
       "      <td>Yes</td>\n",
       "      <td>No</td>\n",
       "      <td>Yes</td>\n",
       "      <td>Yes</td>\n",
       "      <td>No</td>\n",
       "      <td>No</td>\n",
       "      <td>No</td>\n",
       "      <td>Yes</td>\n",
       "      <td>Yes</td>\n",
       "    </tr>\n",
       "    <tr>\n",
       "      <th>1</th>\n",
       "      <td>Yes</td>\n",
       "      <td>Yes</td>\n",
       "      <td>No</td>\n",
       "      <td>Yes</td>\n",
       "      <td>Yes</td>\n",
       "      <td>Yes</td>\n",
       "      <td>Yes</td>\n",
       "      <td>No</td>\n",
       "      <td>No</td>\n",
       "      <td>No</td>\n",
       "      <td>Yes</td>\n",
       "      <td>Yes</td>\n",
       "      <td>Yes</td>\n",
       "    </tr>\n",
       "    <tr>\n",
       "      <th>2</th>\n",
       "      <td>No</td>\n",
       "      <td>Yes</td>\n",
       "      <td>Yes</td>\n",
       "      <td>No</td>\n",
       "      <td>Yes</td>\n",
       "      <td>Yes</td>\n",
       "      <td>No</td>\n",
       "      <td>No</td>\n",
       "      <td>No</td>\n",
       "      <td>No</td>\n",
       "      <td>No</td>\n",
       "      <td>Yes</td>\n",
       "      <td>Yes</td>\n",
       "    </tr>\n",
       "    <tr>\n",
       "      <th>3</th>\n",
       "      <td>No</td>\n",
       "      <td>Yes</td>\n",
       "      <td>No</td>\n",
       "      <td>No</td>\n",
       "      <td>Yes</td>\n",
       "      <td>No</td>\n",
       "      <td>Yes</td>\n",
       "      <td>No</td>\n",
       "      <td>No</td>\n",
       "      <td>No</td>\n",
       "      <td>Yes</td>\n",
       "      <td>No</td>\n",
       "      <td>Yes</td>\n",
       "    </tr>\n",
       "    <tr>\n",
       "      <th>4</th>\n",
       "      <td>Yes</td>\n",
       "      <td>No</td>\n",
       "      <td>Yes</td>\n",
       "      <td>No</td>\n",
       "      <td>No</td>\n",
       "      <td>No</td>\n",
       "      <td>No</td>\n",
       "      <td>No</td>\n",
       "      <td>No</td>\n",
       "      <td>Yes</td>\n",
       "      <td>Yes</td>\n",
       "      <td>No</td>\n",
       "      <td>No</td>\n",
       "    </tr>\n",
       "    <tr>\n",
       "      <th>...</th>\n",
       "      <td>...</td>\n",
       "      <td>...</td>\n",
       "      <td>...</td>\n",
       "      <td>...</td>\n",
       "      <td>...</td>\n",
       "      <td>...</td>\n",
       "      <td>...</td>\n",
       "      <td>...</td>\n",
       "      <td>...</td>\n",
       "      <td>...</td>\n",
       "      <td>...</td>\n",
       "      <td>...</td>\n",
       "      <td>...</td>\n",
       "    </tr>\n",
       "    <tr>\n",
       "      <th>9995</th>\n",
       "      <td>No</td>\n",
       "      <td>No</td>\n",
       "      <td>Yes</td>\n",
       "      <td>Yes</td>\n",
       "      <td>Yes</td>\n",
       "      <td>Yes</td>\n",
       "      <td>No</td>\n",
       "      <td>Yes</td>\n",
       "      <td>Yes</td>\n",
       "      <td>No</td>\n",
       "      <td>No</td>\n",
       "      <td>No</td>\n",
       "      <td>No</td>\n",
       "    </tr>\n",
       "    <tr>\n",
       "      <th>9996</th>\n",
       "      <td>No</td>\n",
       "      <td>No</td>\n",
       "      <td>No</td>\n",
       "      <td>No</td>\n",
       "      <td>Yes</td>\n",
       "      <td>Yes</td>\n",
       "      <td>Yes</td>\n",
       "      <td>Yes</td>\n",
       "      <td>Yes</td>\n",
       "      <td>No</td>\n",
       "      <td>Yes</td>\n",
       "      <td>No</td>\n",
       "      <td>No</td>\n",
       "    </tr>\n",
       "    <tr>\n",
       "      <th>9997</th>\n",
       "      <td>No</td>\n",
       "      <td>No</td>\n",
       "      <td>No</td>\n",
       "      <td>No</td>\n",
       "      <td>Yes</td>\n",
       "      <td>Yes</td>\n",
       "      <td>Yes</td>\n",
       "      <td>Yes</td>\n",
       "      <td>No</td>\n",
       "      <td>No</td>\n",
       "      <td>No</td>\n",
       "      <td>No</td>\n",
       "      <td>Yes</td>\n",
       "    </tr>\n",
       "    <tr>\n",
       "      <th>9998</th>\n",
       "      <td>No</td>\n",
       "      <td>No</td>\n",
       "      <td>No</td>\n",
       "      <td>Yes</td>\n",
       "      <td>No</td>\n",
       "      <td>Yes</td>\n",
       "      <td>No</td>\n",
       "      <td>No</td>\n",
       "      <td>No</td>\n",
       "      <td>Yes</td>\n",
       "      <td>Yes</td>\n",
       "      <td>Yes</td>\n",
       "      <td>Yes</td>\n",
       "    </tr>\n",
       "    <tr>\n",
       "      <th>9999</th>\n",
       "      <td>No</td>\n",
       "      <td>No</td>\n",
       "      <td>Yes</td>\n",
       "      <td>No</td>\n",
       "      <td>Yes</td>\n",
       "      <td>Yes</td>\n",
       "      <td>Yes</td>\n",
       "      <td>Yes</td>\n",
       "      <td>Yes</td>\n",
       "      <td>No</td>\n",
       "      <td>No</td>\n",
       "      <td>Yes</td>\n",
       "      <td>Yes</td>\n",
       "    </tr>\n",
       "  </tbody>\n",
       "</table>\n",
       "<p>10000 rows × 13 columns</p>\n",
       "</div>"
      ],
      "text/plain": [
       "     Churn Techie Port_modem Tablet Phone Multiple OnlineSecurity  \\\n",
       "0       No     No        Yes    Yes   Yes       No            Yes   \n",
       "1      Yes    Yes         No    Yes   Yes      Yes            Yes   \n",
       "2       No    Yes        Yes     No   Yes      Yes             No   \n",
       "3       No    Yes         No     No   Yes       No            Yes   \n",
       "4      Yes     No        Yes     No    No       No             No   \n",
       "...    ...    ...        ...    ...   ...      ...            ...   \n",
       "9995    No     No        Yes    Yes   Yes      Yes             No   \n",
       "9996    No     No         No     No   Yes      Yes            Yes   \n",
       "9997    No     No         No     No   Yes      Yes            Yes   \n",
       "9998    No     No         No    Yes    No      Yes             No   \n",
       "9999    No     No        Yes     No   Yes      Yes            Yes   \n",
       "\n",
       "     OnlineBackup DeviceProtection TechSupport StreamingTV StreamingMovies  \\\n",
       "0             Yes               No          No          No             Yes   \n",
       "1              No               No          No         Yes             Yes   \n",
       "2              No               No          No          No             Yes   \n",
       "3              No               No          No         Yes              No   \n",
       "4              No               No         Yes         Yes              No   \n",
       "...           ...              ...         ...         ...             ...   \n",
       "9995          Yes              Yes          No          No              No   \n",
       "9996          Yes              Yes          No         Yes              No   \n",
       "9997          Yes               No          No          No              No   \n",
       "9998           No               No         Yes         Yes             Yes   \n",
       "9999          Yes              Yes          No          No             Yes   \n",
       "\n",
       "     PaperlessBilling  \n",
       "0                 Yes  \n",
       "1                 Yes  \n",
       "2                 Yes  \n",
       "3                 Yes  \n",
       "4                  No  \n",
       "...               ...  \n",
       "9995               No  \n",
       "9996               No  \n",
       "9997              Yes  \n",
       "9998              Yes  \n",
       "9999              Yes  \n",
       "\n",
       "[10000 rows x 13 columns]"
      ]
     },
     "execution_count": 27,
     "metadata": {},
     "output_type": "execute_result"
    }
   ],
   "source": [
    "dfq = df[dfq_cq]\n",
    "dfq"
   ]
  },
  {
   "cell_type": "markdown",
   "id": "bfb967d2-15fd-49ce-b1f8-0cdd294cb521",
   "metadata": {},
   "source": [
    "### Check for nulls in data"
   ]
  },
  {
   "cell_type": "markdown",
   "id": "1570f78f-0552-4d83-a0df-b1af4c3d8caa",
   "metadata": {},
   "source": [
    "We check for nulls in the data to make sure that there are no empty values. In the table below you can see that there are none."
   ]
  },
  {
   "cell_type": "code",
   "execution_count": 28,
   "id": "b6a6321d-873c-4958-93e0-869dfe961699",
   "metadata": {},
   "outputs": [
    {
     "data": {
      "text/plain": [
       "Churn               0\n",
       "Techie              0\n",
       "Port_modem          0\n",
       "Tablet              0\n",
       "Phone               0\n",
       "Multiple            0\n",
       "OnlineSecurity      0\n",
       "OnlineBackup        0\n",
       "DeviceProtection    0\n",
       "TechSupport         0\n",
       "StreamingTV         0\n",
       "StreamingMovies     0\n",
       "PaperlessBilling    0\n",
       "dtype: int64"
      ]
     },
     "execution_count": 28,
     "metadata": {},
     "output_type": "execute_result"
    }
   ],
   "source": [
    "dfq.isnull().sum()"
   ]
  },
  {
   "cell_type": "markdown",
   "id": "a34b892b-d7ee-412c-a9cc-6de2688d151a",
   "metadata": {},
   "source": [
    "### One hot encoding"
   ]
  },
  {
   "cell_type": "markdown",
   "id": "eed8c33b-6606-4876-b878-cb0ffff8d414",
   "metadata": {},
   "source": [
    "We use the .map function to map yes to 1 and 0 to no"
   ]
  },
  {
   "cell_type": "code",
   "execution_count": 29,
   "id": "a0cee1ce-28c7-4828-8cf8-726fa29ed109",
   "metadata": {},
   "outputs": [],
   "source": [
    "dfq_ql = ['Churn','Techie','Port_modem','Tablet','Phone','Multiple','OnlineSecurity','OnlineBackup','DeviceProtection','TechSupport','StreamingTV','StreamingMovies','PaperlessBilling']\n",
    "dfq_e = pd.DataFrame()\n",
    "for column in dfq_ql:\n",
    "    dfq_e[column] = df[column].map({'Yes': 1,'No': 0})"
   ]
  },
  {
   "cell_type": "code",
   "execution_count": 30,
   "id": "58461efd-7cda-4d35-ab3d-503a37a1503d",
   "metadata": {},
   "outputs": [
    {
     "data": {
      "text/html": [
       "<div>\n",
       "<style scoped>\n",
       "    .dataframe tbody tr th:only-of-type {\n",
       "        vertical-align: middle;\n",
       "    }\n",
       "\n",
       "    .dataframe tbody tr th {\n",
       "        vertical-align: top;\n",
       "    }\n",
       "\n",
       "    .dataframe thead th {\n",
       "        text-align: right;\n",
       "    }\n",
       "</style>\n",
       "<table border=\"1\" class=\"dataframe\">\n",
       "  <thead>\n",
       "    <tr style=\"text-align: right;\">\n",
       "      <th></th>\n",
       "      <th>Churn</th>\n",
       "      <th>Techie</th>\n",
       "      <th>Port_modem</th>\n",
       "      <th>Tablet</th>\n",
       "      <th>Phone</th>\n",
       "      <th>Multiple</th>\n",
       "      <th>OnlineSecurity</th>\n",
       "      <th>OnlineBackup</th>\n",
       "      <th>DeviceProtection</th>\n",
       "      <th>TechSupport</th>\n",
       "      <th>StreamingTV</th>\n",
       "      <th>StreamingMovies</th>\n",
       "      <th>PaperlessBilling</th>\n",
       "    </tr>\n",
       "  </thead>\n",
       "  <tbody>\n",
       "    <tr>\n",
       "      <th>0</th>\n",
       "      <td>0</td>\n",
       "      <td>0</td>\n",
       "      <td>1</td>\n",
       "      <td>1</td>\n",
       "      <td>1</td>\n",
       "      <td>0</td>\n",
       "      <td>1</td>\n",
       "      <td>1</td>\n",
       "      <td>0</td>\n",
       "      <td>0</td>\n",
       "      <td>0</td>\n",
       "      <td>1</td>\n",
       "      <td>1</td>\n",
       "    </tr>\n",
       "    <tr>\n",
       "      <th>1</th>\n",
       "      <td>1</td>\n",
       "      <td>1</td>\n",
       "      <td>0</td>\n",
       "      <td>1</td>\n",
       "      <td>1</td>\n",
       "      <td>1</td>\n",
       "      <td>1</td>\n",
       "      <td>0</td>\n",
       "      <td>0</td>\n",
       "      <td>0</td>\n",
       "      <td>1</td>\n",
       "      <td>1</td>\n",
       "      <td>1</td>\n",
       "    </tr>\n",
       "    <tr>\n",
       "      <th>2</th>\n",
       "      <td>0</td>\n",
       "      <td>1</td>\n",
       "      <td>1</td>\n",
       "      <td>0</td>\n",
       "      <td>1</td>\n",
       "      <td>1</td>\n",
       "      <td>0</td>\n",
       "      <td>0</td>\n",
       "      <td>0</td>\n",
       "      <td>0</td>\n",
       "      <td>0</td>\n",
       "      <td>1</td>\n",
       "      <td>1</td>\n",
       "    </tr>\n",
       "    <tr>\n",
       "      <th>3</th>\n",
       "      <td>0</td>\n",
       "      <td>1</td>\n",
       "      <td>0</td>\n",
       "      <td>0</td>\n",
       "      <td>1</td>\n",
       "      <td>0</td>\n",
       "      <td>1</td>\n",
       "      <td>0</td>\n",
       "      <td>0</td>\n",
       "      <td>0</td>\n",
       "      <td>1</td>\n",
       "      <td>0</td>\n",
       "      <td>1</td>\n",
       "    </tr>\n",
       "    <tr>\n",
       "      <th>4</th>\n",
       "      <td>1</td>\n",
       "      <td>0</td>\n",
       "      <td>1</td>\n",
       "      <td>0</td>\n",
       "      <td>0</td>\n",
       "      <td>0</td>\n",
       "      <td>0</td>\n",
       "      <td>0</td>\n",
       "      <td>0</td>\n",
       "      <td>1</td>\n",
       "      <td>1</td>\n",
       "      <td>0</td>\n",
       "      <td>0</td>\n",
       "    </tr>\n",
       "    <tr>\n",
       "      <th>...</th>\n",
       "      <td>...</td>\n",
       "      <td>...</td>\n",
       "      <td>...</td>\n",
       "      <td>...</td>\n",
       "      <td>...</td>\n",
       "      <td>...</td>\n",
       "      <td>...</td>\n",
       "      <td>...</td>\n",
       "      <td>...</td>\n",
       "      <td>...</td>\n",
       "      <td>...</td>\n",
       "      <td>...</td>\n",
       "      <td>...</td>\n",
       "    </tr>\n",
       "    <tr>\n",
       "      <th>9995</th>\n",
       "      <td>0</td>\n",
       "      <td>0</td>\n",
       "      <td>1</td>\n",
       "      <td>1</td>\n",
       "      <td>1</td>\n",
       "      <td>1</td>\n",
       "      <td>0</td>\n",
       "      <td>1</td>\n",
       "      <td>1</td>\n",
       "      <td>0</td>\n",
       "      <td>0</td>\n",
       "      <td>0</td>\n",
       "      <td>0</td>\n",
       "    </tr>\n",
       "    <tr>\n",
       "      <th>9996</th>\n",
       "      <td>0</td>\n",
       "      <td>0</td>\n",
       "      <td>0</td>\n",
       "      <td>0</td>\n",
       "      <td>1</td>\n",
       "      <td>1</td>\n",
       "      <td>1</td>\n",
       "      <td>1</td>\n",
       "      <td>1</td>\n",
       "      <td>0</td>\n",
       "      <td>1</td>\n",
       "      <td>0</td>\n",
       "      <td>0</td>\n",
       "    </tr>\n",
       "    <tr>\n",
       "      <th>9997</th>\n",
       "      <td>0</td>\n",
       "      <td>0</td>\n",
       "      <td>0</td>\n",
       "      <td>0</td>\n",
       "      <td>1</td>\n",
       "      <td>1</td>\n",
       "      <td>1</td>\n",
       "      <td>1</td>\n",
       "      <td>0</td>\n",
       "      <td>0</td>\n",
       "      <td>0</td>\n",
       "      <td>0</td>\n",
       "      <td>1</td>\n",
       "    </tr>\n",
       "    <tr>\n",
       "      <th>9998</th>\n",
       "      <td>0</td>\n",
       "      <td>0</td>\n",
       "      <td>0</td>\n",
       "      <td>1</td>\n",
       "      <td>0</td>\n",
       "      <td>1</td>\n",
       "      <td>0</td>\n",
       "      <td>0</td>\n",
       "      <td>0</td>\n",
       "      <td>1</td>\n",
       "      <td>1</td>\n",
       "      <td>1</td>\n",
       "      <td>1</td>\n",
       "    </tr>\n",
       "    <tr>\n",
       "      <th>9999</th>\n",
       "      <td>0</td>\n",
       "      <td>0</td>\n",
       "      <td>1</td>\n",
       "      <td>0</td>\n",
       "      <td>1</td>\n",
       "      <td>1</td>\n",
       "      <td>1</td>\n",
       "      <td>1</td>\n",
       "      <td>1</td>\n",
       "      <td>0</td>\n",
       "      <td>0</td>\n",
       "      <td>1</td>\n",
       "      <td>1</td>\n",
       "    </tr>\n",
       "  </tbody>\n",
       "</table>\n",
       "<p>10000 rows × 13 columns</p>\n",
       "</div>"
      ],
      "text/plain": [
       "      Churn  Techie  Port_modem  Tablet  Phone  Multiple  OnlineSecurity  \\\n",
       "0         0       0           1       1      1         0               1   \n",
       "1         1       1           0       1      1         1               1   \n",
       "2         0       1           1       0      1         1               0   \n",
       "3         0       1           0       0      1         0               1   \n",
       "4         1       0           1       0      0         0               0   \n",
       "...     ...     ...         ...     ...    ...       ...             ...   \n",
       "9995      0       0           1       1      1         1               0   \n",
       "9996      0       0           0       0      1         1               1   \n",
       "9997      0       0           0       0      1         1               1   \n",
       "9998      0       0           0       1      0         1               0   \n",
       "9999      0       0           1       0      1         1               1   \n",
       "\n",
       "      OnlineBackup  DeviceProtection  TechSupport  StreamingTV  \\\n",
       "0                1                 0            0            0   \n",
       "1                0                 0            0            1   \n",
       "2                0                 0            0            0   \n",
       "3                0                 0            0            1   \n",
       "4                0                 0            1            1   \n",
       "...            ...               ...          ...          ...   \n",
       "9995             1                 1            0            0   \n",
       "9996             1                 1            0            1   \n",
       "9997             1                 0            0            0   \n",
       "9998             0                 0            1            1   \n",
       "9999             1                 1            0            0   \n",
       "\n",
       "      StreamingMovies  PaperlessBilling  \n",
       "0                   1                 1  \n",
       "1                   1                 1  \n",
       "2                   1                 1  \n",
       "3                   0                 1  \n",
       "4                   0                 0  \n",
       "...               ...               ...  \n",
       "9995                0                 0  \n",
       "9996                0                 0  \n",
       "9997                0                 1  \n",
       "9998                1                 1  \n",
       "9999                1                 1  \n",
       "\n",
       "[10000 rows x 13 columns]"
      ]
     },
     "execution_count": 30,
     "metadata": {},
     "output_type": "execute_result"
    }
   ],
   "source": [
    "dfq_e"
   ]
  },
  {
   "cell_type": "markdown",
   "id": "ae1985de-ebbb-4663-93d7-c98f0610a755",
   "metadata": {},
   "source": [
    "There is no need to chcek for outliers since there are non for binary qualitative variables."
   ]
  },
  {
   "cell_type": "markdown",
   "id": "92af2fa5-14f8-4bc3-ab27-b06037d33ab0",
   "metadata": {},
   "source": [
    "# C4:CLEANED DATA SET\n"
   ]
  },
  {
   "cell_type": "markdown",
   "id": "6703772c-3402-48dc-bb45-5a865631efb2",
   "metadata": {},
   "source": [
    "Here we export the cleaned dataset. The main difference between this cleaned dataset and the original one is that we have one hot encoded the categorical binary data into 0 and 1. This allows us to read into the model easier the data that we want it to predict on."
   ]
  },
  {
   "cell_type": "code",
   "execution_count": 31,
   "id": "62185ba6-d0eb-46e7-a4b4-7392ce9864df",
   "metadata": {},
   "outputs": [],
   "source": [
    "dfq_e.to_csv('prepared_data_task2.csv')"
   ]
  },
  {
   "cell_type": "markdown",
   "id": "504e852c-abb9-4387-a80b-bae975fb1630",
   "metadata": {},
   "source": [
    "# D1:SPLITTING THE DATA\n"
   ]
  },
  {
   "cell_type": "markdown",
   "id": "952c5461-3643-4b75-bede-eb0d1769d548",
   "metadata": {},
   "source": [
    "We use the train test split function to split our data into a training dataset and a testing dataset. The model will be trained on the training dataset, and then will compare results against the testing dataset to determine accuracy."
   ]
  },
  {
   "cell_type": "code",
   "execution_count": 32,
   "id": "22dd4ed2-7fe7-42b4-bf02-64080347e79c",
   "metadata": {},
   "outputs": [],
   "source": [
    "# Split into X and y\n",
    "X = dfq_e.drop(\"Churn\", axis=1)\n",
    "y = dfq_e[\"Churn\"]"
   ]
  },
  {
   "cell_type": "code",
   "execution_count": 33,
   "id": "5004c328-6700-4bf8-b3b4-e8e4e3911ef9",
   "metadata": {},
   "outputs": [],
   "source": [
    "# split into test and training data sets for both\n",
    "X_train, X_test, y_train, y_test = train_test_split(X, y, test_size=0.2, random_state=42, stratify=y)\n"
   ]
  },
  {
   "cell_type": "code",
   "execution_count": 34,
   "id": "1227036d-f520-4539-963d-bf08d1526a3c",
   "metadata": {},
   "outputs": [],
   "source": [
    "pd.DataFrame(X_test).to_csv('task2_test_data.csv')"
   ]
  },
  {
   "cell_type": "code",
   "execution_count": 35,
   "id": "6add36ca-c864-48c1-9ebe-2509b52a165b",
   "metadata": {},
   "outputs": [],
   "source": [
    "pd.DataFrame(X_train).to_csv('task2_train_data.csv')"
   ]
  },
  {
   "cell_type": "markdown",
   "id": "9f1a4542-8243-4ff9-b691-b2a7bc503497",
   "metadata": {},
   "source": [
    "# D2 & D3:OUTPUT AND INTERMEDIATE CALCULATIONS\n"
   ]
  },
  {
   "cell_type": "markdown",
   "id": "74147ca4-57d6-4d67-aee0-203ae4ec5cf1",
   "metadata": {},
   "source": [
    "Here we create the model, we choose a number for random state so the model results are reproducable and consistent for when we run this again. Then we fit the training data to the model. After that we run the predictions which produces the results for us in churn_results_df."
   ]
  },
  {
   "cell_type": "code",
   "execution_count": 36,
   "id": "1cae624f-87a6-4556-a291-25aecb867152",
   "metadata": {},
   "outputs": [],
   "source": [
    "dt_model = DecisionTreeClassifier(random_state=42)"
   ]
  },
  {
   "cell_type": "code",
   "execution_count": 37,
   "id": "6291f482-7c52-48c9-adde-f6d68473d3f1",
   "metadata": {},
   "outputs": [
    {
     "data": {
      "text/plain": [
       "DecisionTreeClassifier(random_state=42)"
      ]
     },
     "execution_count": 37,
     "metadata": {},
     "output_type": "execute_result"
    }
   ],
   "source": [
    "dt_model.fit(X_train, y_train)"
   ]
  },
  {
   "cell_type": "code",
   "execution_count": 38,
   "id": "f97b57df-4816-4afb-843e-26710e04d04d",
   "metadata": {},
   "outputs": [],
   "source": [
    "# predicts the actual class for churn\n",
    "y_pred = dt_model.predict(X_test)"
   ]
  },
  {
   "cell_type": "code",
   "execution_count": 39,
   "id": "9beb4cad-d9b6-4781-b888-be228418e1ff",
   "metadata": {},
   "outputs": [],
   "source": [
    "# used for class probabilties\n",
    "y_prob = dt_model.predict_proba(X_test)[:, 1]"
   ]
  },
  {
   "cell_type": "code",
   "execution_count": 40,
   "id": "0fbb35d3-0638-4934-924f-beb31d4b880e",
   "metadata": {},
   "outputs": [],
   "source": [
    "#prints the results\n",
    "churn_results_df = pd.DataFrame({\n",
    "    'Churn Label': y_test,\n",
    "    'Predicted Label': y_pred,\n",
    "    'Probability Score': y_prob\n",
    "})"
   ]
  },
  {
   "cell_type": "code",
   "execution_count": 41,
   "id": "a2f2bab3-bd59-4d4a-9b24-354a91d50d80",
   "metadata": {},
   "outputs": [
    {
     "data": {
      "text/html": [
       "<div>\n",
       "<style scoped>\n",
       "    .dataframe tbody tr th:only-of-type {\n",
       "        vertical-align: middle;\n",
       "    }\n",
       "\n",
       "    .dataframe tbody tr th {\n",
       "        vertical-align: top;\n",
       "    }\n",
       "\n",
       "    .dataframe thead th {\n",
       "        text-align: right;\n",
       "    }\n",
       "</style>\n",
       "<table border=\"1\" class=\"dataframe\">\n",
       "  <thead>\n",
       "    <tr style=\"text-align: right;\">\n",
       "      <th></th>\n",
       "      <th>Churn Label</th>\n",
       "      <th>Predicted Label</th>\n",
       "      <th>Probability Score</th>\n",
       "    </tr>\n",
       "  </thead>\n",
       "  <tbody>\n",
       "    <tr>\n",
       "      <th>8158</th>\n",
       "      <td>0</td>\n",
       "      <td>0</td>\n",
       "      <td>0.500000</td>\n",
       "    </tr>\n",
       "    <tr>\n",
       "      <th>3484</th>\n",
       "      <td>0</td>\n",
       "      <td>0</td>\n",
       "      <td>0.428571</td>\n",
       "    </tr>\n",
       "    <tr>\n",
       "      <th>5443</th>\n",
       "      <td>0</td>\n",
       "      <td>0</td>\n",
       "      <td>0.000000</td>\n",
       "    </tr>\n",
       "    <tr>\n",
       "      <th>7278</th>\n",
       "      <td>0</td>\n",
       "      <td>0</td>\n",
       "      <td>0.000000</td>\n",
       "    </tr>\n",
       "    <tr>\n",
       "      <th>8278</th>\n",
       "      <td>0</td>\n",
       "      <td>1</td>\n",
       "      <td>0.666667</td>\n",
       "    </tr>\n",
       "    <tr>\n",
       "      <th>...</th>\n",
       "      <td>...</td>\n",
       "      <td>...</td>\n",
       "      <td>...</td>\n",
       "    </tr>\n",
       "    <tr>\n",
       "      <th>3759</th>\n",
       "      <td>0</td>\n",
       "      <td>0</td>\n",
       "      <td>0.000000</td>\n",
       "    </tr>\n",
       "    <tr>\n",
       "      <th>7659</th>\n",
       "      <td>0</td>\n",
       "      <td>0</td>\n",
       "      <td>0.000000</td>\n",
       "    </tr>\n",
       "    <tr>\n",
       "      <th>8081</th>\n",
       "      <td>0</td>\n",
       "      <td>0</td>\n",
       "      <td>0.400000</td>\n",
       "    </tr>\n",
       "    <tr>\n",
       "      <th>3072</th>\n",
       "      <td>0</td>\n",
       "      <td>0</td>\n",
       "      <td>0.000000</td>\n",
       "    </tr>\n",
       "    <tr>\n",
       "      <th>3530</th>\n",
       "      <td>0</td>\n",
       "      <td>0</td>\n",
       "      <td>0.000000</td>\n",
       "    </tr>\n",
       "  </tbody>\n",
       "</table>\n",
       "<p>2000 rows × 3 columns</p>\n",
       "</div>"
      ],
      "text/plain": [
       "      Churn Label  Predicted Label  Probability Score\n",
       "8158            0                0           0.500000\n",
       "3484            0                0           0.428571\n",
       "5443            0                0           0.000000\n",
       "7278            0                0           0.000000\n",
       "8278            0                1           0.666667\n",
       "...           ...              ...                ...\n",
       "3759            0                0           0.000000\n",
       "7659            0                0           0.000000\n",
       "8081            0                0           0.400000\n",
       "3072            0                0           0.000000\n",
       "3530            0                0           0.000000\n",
       "\n",
       "[2000 rows x 3 columns]"
      ]
     },
     "execution_count": 41,
     "metadata": {},
     "output_type": "execute_result"
    }
   ],
   "source": [
    "churn_results_df"
   ]
  },
  {
   "cell_type": "markdown",
   "id": "5f5ff464-7353-4a55-9ec5-cdf08680946a",
   "metadata": {},
   "source": [
    "# E1:ACCURACY AND MSE\n"
   ]
  },
  {
   "cell_type": "markdown",
   "id": "7befac7c-f639-4f30-8ab5-fd292567ee4b",
   "metadata": {},
   "source": [
    "Here we calculate the MSE which accounts for variation in our model. We print the accuracy and the MSE, and then use the classification report for more details."
   ]
  },
  {
   "cell_type": "code",
   "execution_count": 42,
   "id": "08170ee1-099d-4d25-9121-b3d5a88de74c",
   "metadata": {},
   "outputs": [],
   "source": [
    "mse = mean_squared_error(y_test, y_prob)"
   ]
  },
  {
   "cell_type": "code",
   "execution_count": 43,
   "id": "6cb55938-16ac-4ea6-9c5d-3e6d2d1aa1f1",
   "metadata": {},
   "outputs": [
    {
     "name": "stdout",
     "output_type": "stream",
     "text": [
      "Accuracy: 0.7265\n",
      "MSE: 0.22239470009889015\n"
     ]
    }
   ],
   "source": [
    "# print the results\n",
    "print(f\"Accuracy: {dt_model.score(X_test, y_test)}\")\n",
    "print(f\"MSE: {mse}\")"
   ]
  },
  {
   "cell_type": "code",
   "execution_count": 44,
   "id": "cb563de0-ab0d-483b-8410-c761749026d1",
   "metadata": {},
   "outputs": [
    {
     "name": "stdout",
     "output_type": "stream",
     "text": [
      "              precision    recall  f1-score   support\n",
      "\n",
      "           0       0.78      0.87      0.82      1470\n",
      "           1       0.48      0.32      0.38       530\n",
      "\n",
      "    accuracy                           0.73      2000\n",
      "   macro avg       0.63      0.60      0.60      2000\n",
      "weighted avg       0.70      0.73      0.71      2000\n",
      "\n"
     ]
    }
   ],
   "source": [
    "print(classification_report(y_test, y_pred))"
   ]
  },
  {
   "cell_type": "markdown",
   "id": "bba8d2e6-22e4-43d6-b251-de74f178e2bb",
   "metadata": {},
   "source": [
    "# E2:RESULTS AND IMPLICATIONS\n"
   ]
  },
  {
   "cell_type": "markdown",
   "id": "af8b0e1e-3839-4061-a55a-45bc1194ac50",
   "metadata": {},
   "source": [
    "The accuracy of the model that was developed for this analysis is 0.7265. Accuracy in relation to this model represents the amount of points that our model correctly categorized based on the test data.\n",
    "\n",
    "The MSE of the model that was develop for this analysis is 0.2223. MSE means is the average of the squared difference between the predicted and actual values. A lower MSE means lower variance and a closer prediction to the actual result."
   ]
  },
  {
   "cell_type": "markdown",
   "id": "675dfc17-3387-41d4-809f-a8c5782aa250",
   "metadata": {},
   "source": [
    "# E3:LIMITATION\n"
   ]
  },
  {
   "cell_type": "markdown",
   "id": "074eb732-b006-45b2-a301-4e27d5b1bda3",
   "metadata": {},
   "source": [
    "A limitation is that the decision trees may overly give weight to nodes earlier on in the tree. This may reduce the amount of nuance that is considered in the analysis in regards to how different variances in variables may interect with one another."
   ]
  },
  {
   "cell_type": "markdown",
   "id": "95045c11-4830-4159-a86c-ee2b43fadd75",
   "metadata": {},
   "source": [
    "# E4:COURSE OF ACTION\n"
   ]
  },
  {
   "cell_type": "markdown",
   "id": "8044d23d-197c-4486-ad8f-89cf550ac178",
   "metadata": {},
   "source": [
    "The next course of action would to assess the accuracy of this model with the model in task 1 because they both attempt to predict churn in customers. If one is more accurate than another, than it may make sense to implement that model into assisting with decision making when it comes to whether or not a customer will churn. This can help us decide what kind of customer that we need to focus on, and if there are certain commonalities among these customers that the model is predicting is going to churn."
   ]
  },
  {
   "cell_type": "markdown",
   "id": "ce4f53e8-0f40-4479-8772-31e53392fa46",
   "metadata": {},
   "source": [
    "# G:SOURCES FOR THIRD-PARY CODE\n"
   ]
  },
  {
   "cell_type": "markdown",
   "id": "5c5ae0cd-234c-4906-8329-0b65d0c6bdb1",
   "metadata": {},
   "source": [
    "No third party code used"
   ]
  },
  {
   "cell_type": "markdown",
   "id": "0a27e0c0-7cd1-438e-b9c4-31615f95e359",
   "metadata": {},
   "source": [
    "# H:SOURCES"
   ]
  },
  {
   "cell_type": "markdown",
   "id": "24b43f15-b1c4-45c3-9989-1c8bcfe5de8f",
   "metadata": {},
   "source": [
    "https://www.mastersindatascience.org/learning/machine-learning-algorithms/decision-tree/"
   ]
  },
  {
   "cell_type": "markdown",
   "id": "ac3f287a-c4c5-42f3-8e54-14059ad966b2",
   "metadata": {},
   "source": [
    "https://www.kdnuggets.com/2020/01/decision-tree-algorithm-explained.html#:~:text=Below%20are%20some%20of%20the,prior%20to%20building%20the%20model."
   ]
  },
  {
   "cell_type": "markdown",
   "id": "0716f845-b6ed-4d37-8478-bbe6778d93b7",
   "metadata": {},
   "source": [
    "https://medium.com/featurepreneur/decision-tree-regression-9170dc2f6a95#:~:text=We%20can%20predict%20the%20accuracy,is%20it's%20prediction%20to%20actual."
   ]
  },
  {
   "cell_type": "markdown",
   "id": "ac0b9b7d-344c-4b9e-ab0f-344ef5339bf9",
   "metadata": {},
   "source": [
    "https://www.analyticsvidhya.com/blog/2021/08/decision-tree-algorithm/#h-decision-tree-assumptions"
   ]
  }
 ],
 "metadata": {
  "kernelspec": {
   "display_name": "Python 3 (ipykernel)",
   "language": "python",
   "name": "python3"
  },
  "language_info": {
   "codemirror_mode": {
    "name": "ipython",
    "version": 3
   },
   "file_extension": ".py",
   "mimetype": "text/x-python",
   "name": "python",
   "nbconvert_exporter": "python",
   "pygments_lexer": "ipython3",
   "version": "3.9.13"
  }
 },
 "nbformat": 4,
 "nbformat_minor": 5
}
