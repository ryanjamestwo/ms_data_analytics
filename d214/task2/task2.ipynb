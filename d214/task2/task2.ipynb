{
 "cells": [
  {
   "cell_type": "markdown",
   "id": "c6d78ffa-f32e-434a-b43b-db6f35d3cfd0",
   "metadata": {},
   "source": [
    "# Task 2"
   ]
  },
  {
   "cell_type": "markdown",
   "id": "d1771981-b705-4ca4-a2d5-a789dbf1192f",
   "metadata": {},
   "source": [
    "This is the task 2 portion of my D214 Course for the WGU MS Data Analytics Masters Degree."
   ]
  },
  {
   "cell_type": "markdown",
   "id": "0c1665fe-8cf2-4a42-8161-030b704c55cf",
   "metadata": {},
   "source": [
    "## Research Question"
   ]
  },
  {
   "cell_type": "markdown",
   "id": "e310535a-8b00-41d8-901b-a1e5ebc7934d",
   "metadata": {},
   "source": [
    "> Summarize the original real-data research question you identified in task 1. Your summary should include justification for the research question you identified in task 1, a description of the context in which the research question exists, and a discussion of your hypothesis."
   ]
  },
  {
   "cell_type": "markdown",
   "id": "ac658425-f75b-48a7-b6fe-f4f59cf5f6d5",
   "metadata": {},
   "source": [
    "Do songs that are released after Spotify comes out have a statistically significantly shorter average length than songs that came out before Spotify (2008)? \n",
    "\n",
    "This question would benefit from data analysis because it gives us insight into both a cultural aspect of modern society in the seemingly widespread shortening of consumed entertainment and a guideline for musicians. It gives a measure for where the music industry could possibly be going and whether there are outliers that are able to make longer music, or if statistically it is necessary to stay within the bounds of certain song timeframes. \n",
    "\n",
    "My hypothesis for this research question is that released music has become statistically significantly shorter since after Spotify’s release.\n"
   ]
  },
  {
   "cell_type": "markdown",
   "id": "69475ea2-bba8-4335-9bbc-f47877f9ddc5",
   "metadata": {},
   "source": [
    "## Data Collection"
   ]
  },
  {
   "cell_type": "markdown",
   "id": "f7bd14ae-a1e0-4841-a1aa-12624747933b",
   "metadata": {},
   "source": [
    "> B.  Report on your data-collection process by describing the relevant data you collected, discussing one advantage and one disadvantage of the data-gathering methodology you used, and discussing how you overcame any challenges you encountered during the process of collecting your data.\n",
    "\n"
   ]
  },
  {
   "cell_type": "markdown",
   "id": "42b7d11d-ed49-406c-8a30-753295c4500d",
   "metadata": {},
   "source": [
    "For data collection, I will be using a dataset from Kaggle that has 1.3 million songs with metadata related to answering the hypothesis of this question."
   ]
  },
  {
   "cell_type": "markdown",
   "id": "5b072306-6c11-4ea6-94ba-fd9594b5fb92",
   "metadata": {},
   "source": [
    "## Data Extraction and Preparation\n",
    "\n"
   ]
  },
  {
   "cell_type": "markdown",
   "id": "0204854f-1379-45eb-b8b7-e2c5da5f718d",
   "metadata": {},
   "source": [
    "> C.  Describe your data-extraction and -preparation process and provide screenshots to illustrate each step. Explain the tools and techniques you used for data extraction and data preparation, including how these tools and techniques were used on the data. Justify why you used these particular tools and techniques, including one advantage and one disadvantage when they are used with your data-extraction and -preparation methods. \n",
    "\n"
   ]
  },
  {
   "cell_type": "markdown",
   "id": "dbb7fced-b9a9-43c6-a433-143ad1cca3a0",
   "metadata": {},
   "source": [
    "My data extraction and preparation process involves importing the track metadata.\n",
    "\n",
    "The libraries I use are:\n",
    "- Pandas: Used for dataframe manipulation\n",
    "- matplotlib: Used for visualization"
   ]
  },
  {
   "cell_type": "code",
   "execution_count": 32,
   "id": "4b1fd134-cfec-49e9-b7c1-6ef8c86328d2",
   "metadata": {},
   "outputs": [],
   "source": [
    "import pandas as pd\n",
    "import matplotlib.pyplot as plt\n",
    "import scipy.stats as stats"
   ]
  },
  {
   "cell_type": "code",
   "execution_count": 3,
   "id": "2fc0c9f2-72bd-4fce-903d-8ecd991bbef9",
   "metadata": {},
   "outputs": [],
   "source": [
    "df = pd.read_csv('tracks_features.csv')"
   ]
  },
  {
   "cell_type": "code",
   "execution_count": 4,
   "id": "e8148adb-0498-4fc5-bd7c-c3676e906205",
   "metadata": {},
   "outputs": [
    {
     "data": {
      "text/html": [
       "<div>\n",
       "<style scoped>\n",
       "    .dataframe tbody tr th:only-of-type {\n",
       "        vertical-align: middle;\n",
       "    }\n",
       "\n",
       "    .dataframe tbody tr th {\n",
       "        vertical-align: top;\n",
       "    }\n",
       "\n",
       "    .dataframe thead th {\n",
       "        text-align: right;\n",
       "    }\n",
       "</style>\n",
       "<table border=\"1\" class=\"dataframe\">\n",
       "  <thead>\n",
       "    <tr style=\"text-align: right;\">\n",
       "      <th></th>\n",
       "      <th>id</th>\n",
       "      <th>name</th>\n",
       "      <th>album</th>\n",
       "      <th>album_id</th>\n",
       "      <th>artists</th>\n",
       "      <th>artist_ids</th>\n",
       "      <th>track_number</th>\n",
       "      <th>disc_number</th>\n",
       "      <th>explicit</th>\n",
       "      <th>danceability</th>\n",
       "      <th>...</th>\n",
       "      <th>speechiness</th>\n",
       "      <th>acousticness</th>\n",
       "      <th>instrumentalness</th>\n",
       "      <th>liveness</th>\n",
       "      <th>valence</th>\n",
       "      <th>tempo</th>\n",
       "      <th>duration_ms</th>\n",
       "      <th>time_signature</th>\n",
       "      <th>year</th>\n",
       "      <th>release_date</th>\n",
       "    </tr>\n",
       "  </thead>\n",
       "  <tbody>\n",
       "    <tr>\n",
       "      <th>0</th>\n",
       "      <td>7lmeHLHBe4nmXzuXc0HDjk</td>\n",
       "      <td>Testify</td>\n",
       "      <td>The Battle Of Los Angeles</td>\n",
       "      <td>2eia0myWFgoHuttJytCxgX</td>\n",
       "      <td>['Rage Against The Machine']</td>\n",
       "      <td>['2d0hyoQ5ynDBnkvAbJKORj']</td>\n",
       "      <td>1</td>\n",
       "      <td>1</td>\n",
       "      <td>False</td>\n",
       "      <td>0.470</td>\n",
       "      <td>...</td>\n",
       "      <td>0.0727</td>\n",
       "      <td>0.02610</td>\n",
       "      <td>0.000011</td>\n",
       "      <td>0.3560</td>\n",
       "      <td>0.503</td>\n",
       "      <td>117.906</td>\n",
       "      <td>210133</td>\n",
       "      <td>4.0</td>\n",
       "      <td>1999</td>\n",
       "      <td>1999-11-02</td>\n",
       "    </tr>\n",
       "    <tr>\n",
       "      <th>1</th>\n",
       "      <td>1wsRitfRRtWyEapl0q22o8</td>\n",
       "      <td>Guerrilla Radio</td>\n",
       "      <td>The Battle Of Los Angeles</td>\n",
       "      <td>2eia0myWFgoHuttJytCxgX</td>\n",
       "      <td>['Rage Against The Machine']</td>\n",
       "      <td>['2d0hyoQ5ynDBnkvAbJKORj']</td>\n",
       "      <td>2</td>\n",
       "      <td>1</td>\n",
       "      <td>True</td>\n",
       "      <td>0.599</td>\n",
       "      <td>...</td>\n",
       "      <td>0.1880</td>\n",
       "      <td>0.01290</td>\n",
       "      <td>0.000071</td>\n",
       "      <td>0.1550</td>\n",
       "      <td>0.489</td>\n",
       "      <td>103.680</td>\n",
       "      <td>206200</td>\n",
       "      <td>4.0</td>\n",
       "      <td>1999</td>\n",
       "      <td>1999-11-02</td>\n",
       "    </tr>\n",
       "    <tr>\n",
       "      <th>2</th>\n",
       "      <td>1hR0fIFK2qRG3f3RF70pb7</td>\n",
       "      <td>Calm Like a Bomb</td>\n",
       "      <td>The Battle Of Los Angeles</td>\n",
       "      <td>2eia0myWFgoHuttJytCxgX</td>\n",
       "      <td>['Rage Against The Machine']</td>\n",
       "      <td>['2d0hyoQ5ynDBnkvAbJKORj']</td>\n",
       "      <td>3</td>\n",
       "      <td>1</td>\n",
       "      <td>False</td>\n",
       "      <td>0.315</td>\n",
       "      <td>...</td>\n",
       "      <td>0.4830</td>\n",
       "      <td>0.02340</td>\n",
       "      <td>0.000002</td>\n",
       "      <td>0.1220</td>\n",
       "      <td>0.370</td>\n",
       "      <td>149.749</td>\n",
       "      <td>298893</td>\n",
       "      <td>4.0</td>\n",
       "      <td>1999</td>\n",
       "      <td>1999-11-02</td>\n",
       "    </tr>\n",
       "    <tr>\n",
       "      <th>3</th>\n",
       "      <td>2lbASgTSoDO7MTuLAXlTW0</td>\n",
       "      <td>Mic Check</td>\n",
       "      <td>The Battle Of Los Angeles</td>\n",
       "      <td>2eia0myWFgoHuttJytCxgX</td>\n",
       "      <td>['Rage Against The Machine']</td>\n",
       "      <td>['2d0hyoQ5ynDBnkvAbJKORj']</td>\n",
       "      <td>4</td>\n",
       "      <td>1</td>\n",
       "      <td>True</td>\n",
       "      <td>0.440</td>\n",
       "      <td>...</td>\n",
       "      <td>0.2370</td>\n",
       "      <td>0.16300</td>\n",
       "      <td>0.000004</td>\n",
       "      <td>0.1210</td>\n",
       "      <td>0.574</td>\n",
       "      <td>96.752</td>\n",
       "      <td>213640</td>\n",
       "      <td>4.0</td>\n",
       "      <td>1999</td>\n",
       "      <td>1999-11-02</td>\n",
       "    </tr>\n",
       "    <tr>\n",
       "      <th>4</th>\n",
       "      <td>1MQTmpYOZ6fcMQc56Hdo7T</td>\n",
       "      <td>Sleep Now In the Fire</td>\n",
       "      <td>The Battle Of Los Angeles</td>\n",
       "      <td>2eia0myWFgoHuttJytCxgX</td>\n",
       "      <td>['Rage Against The Machine']</td>\n",
       "      <td>['2d0hyoQ5ynDBnkvAbJKORj']</td>\n",
       "      <td>5</td>\n",
       "      <td>1</td>\n",
       "      <td>False</td>\n",
       "      <td>0.426</td>\n",
       "      <td>...</td>\n",
       "      <td>0.0701</td>\n",
       "      <td>0.00162</td>\n",
       "      <td>0.105000</td>\n",
       "      <td>0.0789</td>\n",
       "      <td>0.539</td>\n",
       "      <td>127.059</td>\n",
       "      <td>205600</td>\n",
       "      <td>4.0</td>\n",
       "      <td>1999</td>\n",
       "      <td>1999-11-02</td>\n",
       "    </tr>\n",
       "  </tbody>\n",
       "</table>\n",
       "<p>5 rows × 24 columns</p>\n",
       "</div>"
      ],
      "text/plain": [
       "                       id                   name                      album  \\\n",
       "0  7lmeHLHBe4nmXzuXc0HDjk                Testify  The Battle Of Los Angeles   \n",
       "1  1wsRitfRRtWyEapl0q22o8        Guerrilla Radio  The Battle Of Los Angeles   \n",
       "2  1hR0fIFK2qRG3f3RF70pb7       Calm Like a Bomb  The Battle Of Los Angeles   \n",
       "3  2lbASgTSoDO7MTuLAXlTW0              Mic Check  The Battle Of Los Angeles   \n",
       "4  1MQTmpYOZ6fcMQc56Hdo7T  Sleep Now In the Fire  The Battle Of Los Angeles   \n",
       "\n",
       "                 album_id                       artists  \\\n",
       "0  2eia0myWFgoHuttJytCxgX  ['Rage Against The Machine']   \n",
       "1  2eia0myWFgoHuttJytCxgX  ['Rage Against The Machine']   \n",
       "2  2eia0myWFgoHuttJytCxgX  ['Rage Against The Machine']   \n",
       "3  2eia0myWFgoHuttJytCxgX  ['Rage Against The Machine']   \n",
       "4  2eia0myWFgoHuttJytCxgX  ['Rage Against The Machine']   \n",
       "\n",
       "                   artist_ids  track_number  disc_number  explicit  \\\n",
       "0  ['2d0hyoQ5ynDBnkvAbJKORj']             1            1     False   \n",
       "1  ['2d0hyoQ5ynDBnkvAbJKORj']             2            1      True   \n",
       "2  ['2d0hyoQ5ynDBnkvAbJKORj']             3            1     False   \n",
       "3  ['2d0hyoQ5ynDBnkvAbJKORj']             4            1      True   \n",
       "4  ['2d0hyoQ5ynDBnkvAbJKORj']             5            1     False   \n",
       "\n",
       "   danceability  ...  speechiness  acousticness  instrumentalness  liveness  \\\n",
       "0         0.470  ...       0.0727       0.02610          0.000011    0.3560   \n",
       "1         0.599  ...       0.1880       0.01290          0.000071    0.1550   \n",
       "2         0.315  ...       0.4830       0.02340          0.000002    0.1220   \n",
       "3         0.440  ...       0.2370       0.16300          0.000004    0.1210   \n",
       "4         0.426  ...       0.0701       0.00162          0.105000    0.0789   \n",
       "\n",
       "   valence    tempo  duration_ms  time_signature  year  release_date  \n",
       "0    0.503  117.906       210133             4.0  1999    1999-11-02  \n",
       "1    0.489  103.680       206200             4.0  1999    1999-11-02  \n",
       "2    0.370  149.749       298893             4.0  1999    1999-11-02  \n",
       "3    0.574   96.752       213640             4.0  1999    1999-11-02  \n",
       "4    0.539  127.059       205600             4.0  1999    1999-11-02  \n",
       "\n",
       "[5 rows x 24 columns]"
      ]
     },
     "execution_count": 4,
     "metadata": {},
     "output_type": "execute_result"
    }
   ],
   "source": [
    "df.head()"
   ]
  },
  {
   "cell_type": "code",
   "execution_count": 5,
   "id": "3c805d66-d851-4dfb-88e2-c9746e31c24f",
   "metadata": {},
   "outputs": [
    {
     "name": "stdout",
     "output_type": "stream",
     "text": [
      "<class 'pandas.core.frame.DataFrame'>\n",
      "RangeIndex: 1204025 entries, 0 to 1204024\n",
      "Data columns (total 24 columns):\n",
      " #   Column            Non-Null Count    Dtype  \n",
      "---  ------            --------------    -----  \n",
      " 0   id                1204025 non-null  object \n",
      " 1   name              1204025 non-null  object \n",
      " 2   album             1204025 non-null  object \n",
      " 3   album_id          1204025 non-null  object \n",
      " 4   artists           1204025 non-null  object \n",
      " 5   artist_ids        1204025 non-null  object \n",
      " 6   track_number      1204025 non-null  int64  \n",
      " 7   disc_number       1204025 non-null  int64  \n",
      " 8   explicit          1204025 non-null  bool   \n",
      " 9   danceability      1204025 non-null  float64\n",
      " 10  energy            1204025 non-null  float64\n",
      " 11  key               1204025 non-null  int64  \n",
      " 12  loudness          1204025 non-null  float64\n",
      " 13  mode              1204025 non-null  int64  \n",
      " 14  speechiness       1204025 non-null  float64\n",
      " 15  acousticness      1204025 non-null  float64\n",
      " 16  instrumentalness  1204025 non-null  float64\n",
      " 17  liveness          1204025 non-null  float64\n",
      " 18  valence           1204025 non-null  float64\n",
      " 19  tempo             1204025 non-null  float64\n",
      " 20  duration_ms       1204025 non-null  int64  \n",
      " 21  time_signature    1204025 non-null  float64\n",
      " 22  year              1204025 non-null  int64  \n",
      " 23  release_date      1204025 non-null  object \n",
      "dtypes: bool(1), float64(10), int64(6), object(7)\n",
      "memory usage: 212.4+ MB\n"
     ]
    }
   ],
   "source": [
    "df.info()"
   ]
  },
  {
   "cell_type": "markdown",
   "id": "2b281a5a-27bd-47d6-9946-f5e0cf3fa085",
   "metadata": {},
   "source": [
    "A lot of this data is not relevant for the analysis, so I will only keep important metadata and release dates."
   ]
  },
  {
   "cell_type": "code",
   "execution_count": 6,
   "id": "3cd84af7-3702-4a81-be52-98099f081aa6",
   "metadata": {},
   "outputs": [],
   "source": [
    "df = df[['name','album','artists','duration_ms','year','release_date']]"
   ]
  },
  {
   "cell_type": "code",
   "execution_count": 7,
   "id": "2d693ae5-bf0a-4683-b60e-0ae034decb5b",
   "metadata": {},
   "outputs": [
    {
     "data": {
      "text/html": [
       "<div>\n",
       "<style scoped>\n",
       "    .dataframe tbody tr th:only-of-type {\n",
       "        vertical-align: middle;\n",
       "    }\n",
       "\n",
       "    .dataframe tbody tr th {\n",
       "        vertical-align: top;\n",
       "    }\n",
       "\n",
       "    .dataframe thead th {\n",
       "        text-align: right;\n",
       "    }\n",
       "</style>\n",
       "<table border=\"1\" class=\"dataframe\">\n",
       "  <thead>\n",
       "    <tr style=\"text-align: right;\">\n",
       "      <th></th>\n",
       "      <th>name</th>\n",
       "      <th>album</th>\n",
       "      <th>artists</th>\n",
       "      <th>duration_ms</th>\n",
       "      <th>year</th>\n",
       "      <th>release_date</th>\n",
       "    </tr>\n",
       "  </thead>\n",
       "  <tbody>\n",
       "    <tr>\n",
       "      <th>0</th>\n",
       "      <td>Testify</td>\n",
       "      <td>The Battle Of Los Angeles</td>\n",
       "      <td>['Rage Against The Machine']</td>\n",
       "      <td>210133</td>\n",
       "      <td>1999</td>\n",
       "      <td>1999-11-02</td>\n",
       "    </tr>\n",
       "    <tr>\n",
       "      <th>1</th>\n",
       "      <td>Guerrilla Radio</td>\n",
       "      <td>The Battle Of Los Angeles</td>\n",
       "      <td>['Rage Against The Machine']</td>\n",
       "      <td>206200</td>\n",
       "      <td>1999</td>\n",
       "      <td>1999-11-02</td>\n",
       "    </tr>\n",
       "    <tr>\n",
       "      <th>2</th>\n",
       "      <td>Calm Like a Bomb</td>\n",
       "      <td>The Battle Of Los Angeles</td>\n",
       "      <td>['Rage Against The Machine']</td>\n",
       "      <td>298893</td>\n",
       "      <td>1999</td>\n",
       "      <td>1999-11-02</td>\n",
       "    </tr>\n",
       "    <tr>\n",
       "      <th>3</th>\n",
       "      <td>Mic Check</td>\n",
       "      <td>The Battle Of Los Angeles</td>\n",
       "      <td>['Rage Against The Machine']</td>\n",
       "      <td>213640</td>\n",
       "      <td>1999</td>\n",
       "      <td>1999-11-02</td>\n",
       "    </tr>\n",
       "    <tr>\n",
       "      <th>4</th>\n",
       "      <td>Sleep Now In the Fire</td>\n",
       "      <td>The Battle Of Los Angeles</td>\n",
       "      <td>['Rage Against The Machine']</td>\n",
       "      <td>205600</td>\n",
       "      <td>1999</td>\n",
       "      <td>1999-11-02</td>\n",
       "    </tr>\n",
       "    <tr>\n",
       "      <th>...</th>\n",
       "      <td>...</td>\n",
       "      <td>...</td>\n",
       "      <td>...</td>\n",
       "      <td>...</td>\n",
       "      <td>...</td>\n",
       "      <td>...</td>\n",
       "    </tr>\n",
       "    <tr>\n",
       "      <th>1204020</th>\n",
       "      <td>Gospel of Juke</td>\n",
       "      <td>Notch - EP</td>\n",
       "      <td>['FVLCRVM']</td>\n",
       "      <td>276213</td>\n",
       "      <td>2014</td>\n",
       "      <td>2014-01-09</td>\n",
       "    </tr>\n",
       "    <tr>\n",
       "      <th>1204021</th>\n",
       "      <td>Prism Visions</td>\n",
       "      <td>Notch - EP</td>\n",
       "      <td>['FVLCRVM']</td>\n",
       "      <td>363179</td>\n",
       "      <td>2014</td>\n",
       "      <td>2014-01-09</td>\n",
       "    </tr>\n",
       "    <tr>\n",
       "      <th>1204022</th>\n",
       "      <td>Tokyo 360</td>\n",
       "      <td>Notch - EP</td>\n",
       "      <td>['FVLCRVM']</td>\n",
       "      <td>385335</td>\n",
       "      <td>2014</td>\n",
       "      <td>2014-01-09</td>\n",
       "    </tr>\n",
       "    <tr>\n",
       "      <th>1204023</th>\n",
       "      <td>Yummy!</td>\n",
       "      <td>Notch - EP</td>\n",
       "      <td>['FVLCRVM']</td>\n",
       "      <td>324455</td>\n",
       "      <td>2014</td>\n",
       "      <td>2014-01-09</td>\n",
       "    </tr>\n",
       "    <tr>\n",
       "      <th>1204024</th>\n",
       "      <td>That's The Way It Is</td>\n",
       "      <td>Notch - EP</td>\n",
       "      <td>['FVLCRVM']</td>\n",
       "      <td>304982</td>\n",
       "      <td>2014</td>\n",
       "      <td>2014-01-09</td>\n",
       "    </tr>\n",
       "  </tbody>\n",
       "</table>\n",
       "<p>1204025 rows × 6 columns</p>\n",
       "</div>"
      ],
      "text/plain": [
       "                          name                      album  \\\n",
       "0                      Testify  The Battle Of Los Angeles   \n",
       "1              Guerrilla Radio  The Battle Of Los Angeles   \n",
       "2             Calm Like a Bomb  The Battle Of Los Angeles   \n",
       "3                    Mic Check  The Battle Of Los Angeles   \n",
       "4        Sleep Now In the Fire  The Battle Of Los Angeles   \n",
       "...                        ...                        ...   \n",
       "1204020         Gospel of Juke                 Notch - EP   \n",
       "1204021          Prism Visions                 Notch - EP   \n",
       "1204022              Tokyo 360                 Notch - EP   \n",
       "1204023                 Yummy!                 Notch - EP   \n",
       "1204024   That's The Way It Is                 Notch - EP   \n",
       "\n",
       "                              artists  duration_ms  year release_date  \n",
       "0        ['Rage Against The Machine']       210133  1999   1999-11-02  \n",
       "1        ['Rage Against The Machine']       206200  1999   1999-11-02  \n",
       "2        ['Rage Against The Machine']       298893  1999   1999-11-02  \n",
       "3        ['Rage Against The Machine']       213640  1999   1999-11-02  \n",
       "4        ['Rage Against The Machine']       205600  1999   1999-11-02  \n",
       "...                               ...          ...   ...          ...  \n",
       "1204020                   ['FVLCRVM']       276213  2014   2014-01-09  \n",
       "1204021                   ['FVLCRVM']       363179  2014   2014-01-09  \n",
       "1204022                   ['FVLCRVM']       385335  2014   2014-01-09  \n",
       "1204023                   ['FVLCRVM']       324455  2014   2014-01-09  \n",
       "1204024                   ['FVLCRVM']       304982  2014   2014-01-09  \n",
       "\n",
       "[1204025 rows x 6 columns]"
      ]
     },
     "execution_count": 7,
     "metadata": {},
     "output_type": "execute_result"
    }
   ],
   "source": [
    "df"
   ]
  },
  {
   "cell_type": "markdown",
   "id": "2dd6917b-09ec-4259-91dc-7417c2298cdb",
   "metadata": {},
   "source": [
    "### Data Cleaning"
   ]
  },
  {
   "cell_type": "markdown",
   "id": "d7a670bd-cb57-4bc8-b3e3-4aee3a4f5edc",
   "metadata": {},
   "source": [
    "#### Treating Nulls and Old Songs With Wrong Release Dates"
   ]
  },
  {
   "cell_type": "markdown",
   "id": "f001acc7-397a-4d6e-9fb7-b3cd87d29ec6",
   "metadata": {},
   "source": [
    "First I want to start by getting some useful stats about the data. We can see there a few songs without release dates so I will drop those"
   ]
  },
  {
   "cell_type": "code",
   "execution_count": 8,
   "id": "a30f89e3-8a7d-4f4e-8b3d-beb9d67858cf",
   "metadata": {},
   "outputs": [
    {
     "data": {
      "text/html": [
       "<div>\n",
       "<style scoped>\n",
       "    .dataframe tbody tr th:only-of-type {\n",
       "        vertical-align: middle;\n",
       "    }\n",
       "\n",
       "    .dataframe tbody tr th {\n",
       "        vertical-align: top;\n",
       "    }\n",
       "\n",
       "    .dataframe thead th {\n",
       "        text-align: right;\n",
       "    }\n",
       "</style>\n",
       "<table border=\"1\" class=\"dataframe\">\n",
       "  <thead>\n",
       "    <tr style=\"text-align: right;\">\n",
       "      <th></th>\n",
       "      <th>name</th>\n",
       "      <th>album</th>\n",
       "      <th>artists</th>\n",
       "      <th>duration_ms</th>\n",
       "      <th>year</th>\n",
       "      <th>release_date</th>\n",
       "    </tr>\n",
       "  </thead>\n",
       "  <tbody>\n",
       "    <tr>\n",
       "      <th>815351</th>\n",
       "      <td>Jimmy Neutron</td>\n",
       "      <td>Optimism 2</td>\n",
       "      <td>['iCizzle']</td>\n",
       "      <td>183000</td>\n",
       "      <td>0</td>\n",
       "      <td>0000</td>\n",
       "    </tr>\n",
       "    <tr>\n",
       "      <th>815352</th>\n",
       "      <td>I Luv You</td>\n",
       "      <td>Optimism 2</td>\n",
       "      <td>['iCizzle']</td>\n",
       "      <td>145161</td>\n",
       "      <td>0</td>\n",
       "      <td>0000</td>\n",
       "    </tr>\n",
       "    <tr>\n",
       "      <th>815353</th>\n",
       "      <td>My Heart</td>\n",
       "      <td>Optimism 2</td>\n",
       "      <td>['iCizzle']</td>\n",
       "      <td>176561</td>\n",
       "      <td>0</td>\n",
       "      <td>0000</td>\n",
       "    </tr>\n",
       "    <tr>\n",
       "      <th>815354</th>\n",
       "      <td>I Am (Invincible)</td>\n",
       "      <td>Optimism 2</td>\n",
       "      <td>['iCizzle']</td>\n",
       "      <td>192000</td>\n",
       "      <td>0</td>\n",
       "      <td>0000</td>\n",
       "    </tr>\n",
       "    <tr>\n",
       "      <th>815355</th>\n",
       "      <td>Flower Power</td>\n",
       "      <td>Optimism 2</td>\n",
       "      <td>['iCizzle']</td>\n",
       "      <td>138666</td>\n",
       "      <td>0</td>\n",
       "      <td>0000</td>\n",
       "    </tr>\n",
       "    <tr>\n",
       "      <th>815356</th>\n",
       "      <td>Heard It Low</td>\n",
       "      <td>Optimism 2</td>\n",
       "      <td>['iCizzle']</td>\n",
       "      <td>138667</td>\n",
       "      <td>0</td>\n",
       "      <td>0000</td>\n",
       "    </tr>\n",
       "    <tr>\n",
       "      <th>815357</th>\n",
       "      <td>Hangin On</td>\n",
       "      <td>Optimism 2</td>\n",
       "      <td>['iCizzle']</td>\n",
       "      <td>142620</td>\n",
       "      <td>0</td>\n",
       "      <td>0000</td>\n",
       "    </tr>\n",
       "    <tr>\n",
       "      <th>815358</th>\n",
       "      <td>God Loves You</td>\n",
       "      <td>Optimism 2</td>\n",
       "      <td>['iCizzle']</td>\n",
       "      <td>161000</td>\n",
       "      <td>0</td>\n",
       "      <td>0000</td>\n",
       "    </tr>\n",
       "    <tr>\n",
       "      <th>815359</th>\n",
       "      <td>You In My Life</td>\n",
       "      <td>Optimism 2</td>\n",
       "      <td>['iCizzle']</td>\n",
       "      <td>214867</td>\n",
       "      <td>0</td>\n",
       "      <td>0000</td>\n",
       "    </tr>\n",
       "    <tr>\n",
       "      <th>815360</th>\n",
       "      <td>I Wonder</td>\n",
       "      <td>Optimism 2</td>\n",
       "      <td>['iCizzle']</td>\n",
       "      <td>180822</td>\n",
       "      <td>0</td>\n",
       "      <td>0000</td>\n",
       "    </tr>\n",
       "  </tbody>\n",
       "</table>\n",
       "</div>"
      ],
      "text/plain": [
       "                     name       album      artists  duration_ms  year  \\\n",
       "815351      Jimmy Neutron  Optimism 2  ['iCizzle']       183000     0   \n",
       "815352          I Luv You  Optimism 2  ['iCizzle']       145161     0   \n",
       "815353           My Heart  Optimism 2  ['iCizzle']       176561     0   \n",
       "815354  I Am (Invincible)  Optimism 2  ['iCizzle']       192000     0   \n",
       "815355       Flower Power  Optimism 2  ['iCizzle']       138666     0   \n",
       "815356       Heard It Low  Optimism 2  ['iCizzle']       138667     0   \n",
       "815357          Hangin On  Optimism 2  ['iCizzle']       142620     0   \n",
       "815358      God Loves You  Optimism 2  ['iCizzle']       161000     0   \n",
       "815359     You In My Life  Optimism 2  ['iCizzle']       214867     0   \n",
       "815360           I Wonder  Optimism 2  ['iCizzle']       180822     0   \n",
       "\n",
       "       release_date  \n",
       "815351         0000  \n",
       "815352         0000  \n",
       "815353         0000  \n",
       "815354         0000  \n",
       "815355         0000  \n",
       "815356         0000  \n",
       "815357         0000  \n",
       "815358         0000  \n",
       "815359         0000  \n",
       "815360         0000  "
      ]
     },
     "execution_count": 8,
     "metadata": {},
     "output_type": "execute_result"
    }
   ],
   "source": [
    "df.loc[df['year'] == 0]"
   ]
  },
  {
   "cell_type": "code",
   "execution_count": 9,
   "id": "2c5475f6-157c-46fb-8774-3204a66cf3fc",
   "metadata": {},
   "outputs": [],
   "source": [
    "df = df.loc[df['year'] != 0]"
   ]
  },
  {
   "cell_type": "markdown",
   "id": "f65f546e-780c-44a0-8838-e47cec74887b",
   "metadata": {},
   "source": [
    "Then we will look into the oldest songs in the dataset"
   ]
  },
  {
   "cell_type": "code",
   "execution_count": 10,
   "id": "8bfacb99-fd05-47fe-88a2-2f4c405b191b",
   "metadata": {},
   "outputs": [
    {
     "data": {
      "text/plain": [
       "1900"
      ]
     },
     "execution_count": 10,
     "metadata": {},
     "output_type": "execute_result"
    }
   ],
   "source": [
    "# This gives us the oldest released song in the dataset\n",
    "df['year'].min()"
   ]
  },
  {
   "cell_type": "markdown",
   "id": "8c1590bc-6019-4042-a2e3-cff1eb5a935e",
   "metadata": {
    "tags": []
   },
   "source": [
    "Out of curiousity I will look at some info related to the songs released in 1900.\n",
    "\n",
    "Appears they are mostly from Rabih Abou-Khalil. The issue is that the songs here were released in 1996. I will drop these songs since they are not correct"
   ]
  },
  {
   "cell_type": "code",
   "execution_count": 11,
   "id": "a1c6add2-51dd-4a29-a422-926b10a796d4",
   "metadata": {
    "tags": []
   },
   "outputs": [
    {
     "data": {
      "text/html": [
       "<div>\n",
       "<style scoped>\n",
       "    .dataframe tbody tr th:only-of-type {\n",
       "        vertical-align: middle;\n",
       "    }\n",
       "\n",
       "    .dataframe tbody tr th {\n",
       "        vertical-align: top;\n",
       "    }\n",
       "\n",
       "    .dataframe thead th {\n",
       "        text-align: right;\n",
       "    }\n",
       "</style>\n",
       "<table border=\"1\" class=\"dataframe\">\n",
       "  <thead>\n",
       "    <tr style=\"text-align: right;\">\n",
       "      <th></th>\n",
       "      <th>name</th>\n",
       "      <th>album</th>\n",
       "      <th>artists</th>\n",
       "      <th>duration_ms</th>\n",
       "      <th>year</th>\n",
       "      <th>release_date</th>\n",
       "    </tr>\n",
       "  </thead>\n",
       "  <tbody>\n",
       "    <tr>\n",
       "      <th>450071</th>\n",
       "      <td>Arabian Waltz</td>\n",
       "      <td>Arabian Waltz</td>\n",
       "      <td>['Rabih Abou-Khalil']</td>\n",
       "      <td>493867</td>\n",
       "      <td>1900</td>\n",
       "      <td>1900-01-01</td>\n",
       "    </tr>\n",
       "    <tr>\n",
       "      <th>450072</th>\n",
       "      <td>Dreams Of A Dying City</td>\n",
       "      <td>Arabian Waltz</td>\n",
       "      <td>['Rabih Abou-Khalil']</td>\n",
       "      <td>730667</td>\n",
       "      <td>1900</td>\n",
       "      <td>1900-01-01</td>\n",
       "    </tr>\n",
       "    <tr>\n",
       "      <th>450073</th>\n",
       "      <td>Ornette Never Sleeps</td>\n",
       "      <td>Arabian Waltz</td>\n",
       "      <td>['Rabih Abou-Khalil']</td>\n",
       "      <td>421760</td>\n",
       "      <td>1900</td>\n",
       "      <td>1900-01-01</td>\n",
       "    </tr>\n",
       "    <tr>\n",
       "      <th>450074</th>\n",
       "      <td>Georgina</td>\n",
       "      <td>Arabian Waltz</td>\n",
       "      <td>['Rabih Abou-Khalil']</td>\n",
       "      <td>672707</td>\n",
       "      <td>1900</td>\n",
       "      <td>1900-01-01</td>\n",
       "    </tr>\n",
       "    <tr>\n",
       "      <th>450075</th>\n",
       "      <td>No Visa</td>\n",
       "      <td>Arabian Waltz</td>\n",
       "      <td>['Rabih Abou-Khalil']</td>\n",
       "      <td>601027</td>\n",
       "      <td>1900</td>\n",
       "      <td>1900-01-01</td>\n",
       "    </tr>\n",
       "    <tr>\n",
       "      <th>450076</th>\n",
       "      <td>The Pain After</td>\n",
       "      <td>Arabian Waltz</td>\n",
       "      <td>['Rabih Abou-Khalil']</td>\n",
       "      <td>566840</td>\n",
       "      <td>1900</td>\n",
       "      <td>1900-01-01</td>\n",
       "    </tr>\n",
       "    <tr>\n",
       "      <th>459980</th>\n",
       "      <td>Catania</td>\n",
       "      <td>Al-Jadida</td>\n",
       "      <td>['Rabih Abou-Khalil']</td>\n",
       "      <td>465000</td>\n",
       "      <td>1900</td>\n",
       "      <td>1900-01-01</td>\n",
       "    </tr>\n",
       "    <tr>\n",
       "      <th>459981</th>\n",
       "      <td>Nashwa</td>\n",
       "      <td>Al-Jadida</td>\n",
       "      <td>['Rabih Abou-Khalil']</td>\n",
       "      <td>578000</td>\n",
       "      <td>1900</td>\n",
       "      <td>1900-01-01</td>\n",
       "    </tr>\n",
       "    <tr>\n",
       "      <th>459982</th>\n",
       "      <td>An Evening With Jerry</td>\n",
       "      <td>Al-Jadida</td>\n",
       "      <td>['Rabih Abou-Khalil']</td>\n",
       "      <td>423000</td>\n",
       "      <td>1900</td>\n",
       "      <td>1900-01-01</td>\n",
       "    </tr>\n",
       "    <tr>\n",
       "      <th>459983</th>\n",
       "      <td>When The Lights Go Out</td>\n",
       "      <td>Al-Jadida</td>\n",
       "      <td>['Rabih Abou-Khalil']</td>\n",
       "      <td>433960</td>\n",
       "      <td>1900</td>\n",
       "      <td>1900-01-01</td>\n",
       "    </tr>\n",
       "    <tr>\n",
       "      <th>459984</th>\n",
       "      <td>Story Teller</td>\n",
       "      <td>Al-Jadida</td>\n",
       "      <td>['Rabih Abou-Khalil']</td>\n",
       "      <td>532173</td>\n",
       "      <td>1900</td>\n",
       "      <td>1900-01-01</td>\n",
       "    </tr>\n",
       "    <tr>\n",
       "      <th>459985</th>\n",
       "      <td>Ornette Never Sleps</td>\n",
       "      <td>Al-Jadida</td>\n",
       "      <td>['Rabih Abou-Khalil']</td>\n",
       "      <td>243867</td>\n",
       "      <td>1900</td>\n",
       "      <td>1900-01-01</td>\n",
       "    </tr>\n",
       "    <tr>\n",
       "      <th>459986</th>\n",
       "      <td>Nadim</td>\n",
       "      <td>Al-Jadida</td>\n",
       "      <td>['Rabih Abou-Khalil']</td>\n",
       "      <td>513000</td>\n",
       "      <td>1900</td>\n",
       "      <td>1900-01-01</td>\n",
       "    </tr>\n",
       "    <tr>\n",
       "      <th>459987</th>\n",
       "      <td>Wishing Well</td>\n",
       "      <td>Al-Jadida</td>\n",
       "      <td>['Rabih Abou-Khalil']</td>\n",
       "      <td>325000</td>\n",
       "      <td>1900</td>\n",
       "      <td>1900-01-01</td>\n",
       "    </tr>\n",
       "  </tbody>\n",
       "</table>\n",
       "</div>"
      ],
      "text/plain": [
       "                          name          album                artists  \\\n",
       "450071           Arabian Waltz  Arabian Waltz  ['Rabih Abou-Khalil']   \n",
       "450072  Dreams Of A Dying City  Arabian Waltz  ['Rabih Abou-Khalil']   \n",
       "450073    Ornette Never Sleeps  Arabian Waltz  ['Rabih Abou-Khalil']   \n",
       "450074                Georgina  Arabian Waltz  ['Rabih Abou-Khalil']   \n",
       "450075                 No Visa  Arabian Waltz  ['Rabih Abou-Khalil']   \n",
       "450076          The Pain After  Arabian Waltz  ['Rabih Abou-Khalil']   \n",
       "459980                 Catania      Al-Jadida  ['Rabih Abou-Khalil']   \n",
       "459981                  Nashwa      Al-Jadida  ['Rabih Abou-Khalil']   \n",
       "459982   An Evening With Jerry      Al-Jadida  ['Rabih Abou-Khalil']   \n",
       "459983  When The Lights Go Out      Al-Jadida  ['Rabih Abou-Khalil']   \n",
       "459984            Story Teller      Al-Jadida  ['Rabih Abou-Khalil']   \n",
       "459985     Ornette Never Sleps      Al-Jadida  ['Rabih Abou-Khalil']   \n",
       "459986                   Nadim      Al-Jadida  ['Rabih Abou-Khalil']   \n",
       "459987            Wishing Well      Al-Jadida  ['Rabih Abou-Khalil']   \n",
       "\n",
       "        duration_ms  year release_date  \n",
       "450071       493867  1900   1900-01-01  \n",
       "450072       730667  1900   1900-01-01  \n",
       "450073       421760  1900   1900-01-01  \n",
       "450074       672707  1900   1900-01-01  \n",
       "450075       601027  1900   1900-01-01  \n",
       "450076       566840  1900   1900-01-01  \n",
       "459980       465000  1900   1900-01-01  \n",
       "459981       578000  1900   1900-01-01  \n",
       "459982       423000  1900   1900-01-01  \n",
       "459983       433960  1900   1900-01-01  \n",
       "459984       532173  1900   1900-01-01  \n",
       "459985       243867  1900   1900-01-01  \n",
       "459986       513000  1900   1900-01-01  \n",
       "459987       325000  1900   1900-01-01  "
      ]
     },
     "execution_count": 11,
     "metadata": {},
     "output_type": "execute_result"
    }
   ],
   "source": [
    "df.loc[df['year'] == 1900]"
   ]
  },
  {
   "cell_type": "code",
   "execution_count": 12,
   "id": "d8bd0cb1-5a0d-4731-9229-cf2f3c930e6a",
   "metadata": {},
   "outputs": [],
   "source": [
    "df = df.loc[df['year'] != 1900]"
   ]
  },
  {
   "cell_type": "markdown",
   "id": "4d2394f1-527d-4085-b124-4f434c939253",
   "metadata": {},
   "source": [
    "Now that those rows are dropped lets look at what is next"
   ]
  },
  {
   "cell_type": "code",
   "execution_count": 13,
   "id": "434e8cb4-1cf3-414b-a78e-57610d7902f5",
   "metadata": {},
   "outputs": [
    {
     "data": {
      "text/plain": [
       "1908"
      ]
     },
     "execution_count": 13,
     "metadata": {},
     "output_type": "execute_result"
    }
   ],
   "source": [
    "# This gives us the oldest released song in the dataset\n",
    "df['year'].min()"
   ]
  },
  {
   "cell_type": "markdown",
   "id": "ced94607-ffd4-4fb4-a66d-8063355910c5",
   "metadata": {},
   "source": [
    "This album also seems to be set as the wrong year so I will drop it"
   ]
  },
  {
   "cell_type": "code",
   "execution_count": 14,
   "id": "f8677052-62c0-4a4b-a2d3-8c78ae81cb44",
   "metadata": {},
   "outputs": [
    {
     "data": {
      "text/html": [
       "<div>\n",
       "<style scoped>\n",
       "    .dataframe tbody tr th:only-of-type {\n",
       "        vertical-align: middle;\n",
       "    }\n",
       "\n",
       "    .dataframe tbody tr th {\n",
       "        vertical-align: top;\n",
       "    }\n",
       "\n",
       "    .dataframe thead th {\n",
       "        text-align: right;\n",
       "    }\n",
       "</style>\n",
       "<table border=\"1\" class=\"dataframe\">\n",
       "  <thead>\n",
       "    <tr style=\"text-align: right;\">\n",
       "      <th></th>\n",
       "      <th>name</th>\n",
       "      <th>album</th>\n",
       "      <th>artists</th>\n",
       "      <th>duration_ms</th>\n",
       "      <th>year</th>\n",
       "      <th>release_date</th>\n",
       "    </tr>\n",
       "  </thead>\n",
       "  <tbody>\n",
       "    <tr>\n",
       "      <th>358067</th>\n",
       "      <td>Hard Times</td>\n",
       "      <td>Living Chicago Blues, Vol. 3</td>\n",
       "      <td>['A.C. Reed']</td>\n",
       "      <td>198533</td>\n",
       "      <td>1908</td>\n",
       "      <td>1908-08-01</td>\n",
       "    </tr>\n",
       "    <tr>\n",
       "      <th>358068</th>\n",
       "      <td>She's Fine</td>\n",
       "      <td>Living Chicago Blues, Vol. 3</td>\n",
       "      <td>['A.C. Reed']</td>\n",
       "      <td>258227</td>\n",
       "      <td>1908</td>\n",
       "      <td>1908-08-01</td>\n",
       "    </tr>\n",
       "    <tr>\n",
       "      <th>358069</th>\n",
       "      <td>Moving Out Of The Ghetto</td>\n",
       "      <td>Living Chicago Blues, Vol. 3</td>\n",
       "      <td>['A.C. Reed']</td>\n",
       "      <td>233733</td>\n",
       "      <td>1908</td>\n",
       "      <td>1908-08-01</td>\n",
       "    </tr>\n",
       "    <tr>\n",
       "      <th>358070</th>\n",
       "      <td>Going To New York</td>\n",
       "      <td>Living Chicago Blues, Vol. 3</td>\n",
       "      <td>['A.C. Reed']</td>\n",
       "      <td>219173</td>\n",
       "      <td>1908</td>\n",
       "      <td>1908-08-01</td>\n",
       "    </tr>\n",
       "    <tr>\n",
       "      <th>358071</th>\n",
       "      <td>Big Leg Woman</td>\n",
       "      <td>Living Chicago Blues, Vol. 3</td>\n",
       "      <td>['Scotty And The Rib Tips']</td>\n",
       "      <td>221400</td>\n",
       "      <td>1908</td>\n",
       "      <td>1908-08-01</td>\n",
       "    </tr>\n",
       "    <tr>\n",
       "      <th>358072</th>\n",
       "      <td>Careless With Our Love</td>\n",
       "      <td>Living Chicago Blues, Vol. 3</td>\n",
       "      <td>['Scotty And The Rib Tips']</td>\n",
       "      <td>182733</td>\n",
       "      <td>1908</td>\n",
       "      <td>1908-08-01</td>\n",
       "    </tr>\n",
       "    <tr>\n",
       "      <th>358073</th>\n",
       "      <td>Road Block</td>\n",
       "      <td>Living Chicago Blues, Vol. 3</td>\n",
       "      <td>['Scotty And The Rib Tips']</td>\n",
       "      <td>169733</td>\n",
       "      <td>1908</td>\n",
       "      <td>1908-08-01</td>\n",
       "    </tr>\n",
       "    <tr>\n",
       "      <th>358074</th>\n",
       "      <td>Poison Ivy</td>\n",
       "      <td>Living Chicago Blues, Vol. 3</td>\n",
       "      <td>['Scotty And The Rib Tips']</td>\n",
       "      <td>197467</td>\n",
       "      <td>1908</td>\n",
       "      <td>1908-08-01</td>\n",
       "    </tr>\n",
       "    <tr>\n",
       "      <th>358075</th>\n",
       "      <td>I Dare You</td>\n",
       "      <td>Living Chicago Blues, Vol. 3</td>\n",
       "      <td>['Lovie Lee']</td>\n",
       "      <td>168200</td>\n",
       "      <td>1908</td>\n",
       "      <td>1908-08-01</td>\n",
       "    </tr>\n",
       "    <tr>\n",
       "      <th>358076</th>\n",
       "      <td>Nobody Knows My Troubles</td>\n",
       "      <td>Living Chicago Blues, Vol. 3</td>\n",
       "      <td>['Lovie Lee']</td>\n",
       "      <td>318627</td>\n",
       "      <td>1908</td>\n",
       "      <td>1908-08-01</td>\n",
       "    </tr>\n",
       "    <tr>\n",
       "      <th>358077</th>\n",
       "      <td>Sweet Little Girl</td>\n",
       "      <td>Living Chicago Blues, Vol. 3</td>\n",
       "      <td>['Lovie Lee']</td>\n",
       "      <td>193933</td>\n",
       "      <td>1908</td>\n",
       "      <td>1908-08-01</td>\n",
       "    </tr>\n",
       "    <tr>\n",
       "      <th>358078</th>\n",
       "      <td>Naptown</td>\n",
       "      <td>Living Chicago Blues, Vol. 3</td>\n",
       "      <td>['Lovie Lee']</td>\n",
       "      <td>185000</td>\n",
       "      <td>1908</td>\n",
       "      <td>1908-08-01</td>\n",
       "    </tr>\n",
       "    <tr>\n",
       "      <th>358079</th>\n",
       "      <td>Drown In My Own Tears</td>\n",
       "      <td>Living Chicago Blues, Vol. 3</td>\n",
       "      <td>['Lacy Gibson']</td>\n",
       "      <td>280573</td>\n",
       "      <td>1908</td>\n",
       "      <td>1908-08-01</td>\n",
       "    </tr>\n",
       "    <tr>\n",
       "      <th>358080</th>\n",
       "      <td>Crying For My Baby</td>\n",
       "      <td>Living Chicago Blues, Vol. 3</td>\n",
       "      <td>['Lacy Gibson']</td>\n",
       "      <td>168893</td>\n",
       "      <td>1908</td>\n",
       "      <td>1908-08-01</td>\n",
       "    </tr>\n",
       "    <tr>\n",
       "      <th>358081</th>\n",
       "      <td>Feel So Bad</td>\n",
       "      <td>Living Chicago Blues, Vol. 3</td>\n",
       "      <td>['Lacy Gibson']</td>\n",
       "      <td>234640</td>\n",
       "      <td>1908</td>\n",
       "      <td>1908-08-01</td>\n",
       "    </tr>\n",
       "    <tr>\n",
       "      <th>358082</th>\n",
       "      <td>Wish Me Well</td>\n",
       "      <td>Living Chicago Blues, Vol. 3</td>\n",
       "      <td>['Lacy Gibson']</td>\n",
       "      <td>177627</td>\n",
       "      <td>1908</td>\n",
       "      <td>1908-08-01</td>\n",
       "    </tr>\n",
       "    <tr>\n",
       "      <th>358083</th>\n",
       "      <td>Have You Ever Loved A Woman</td>\n",
       "      <td>Living Chicago Blues, Vol. 3</td>\n",
       "      <td>['Sons of the Blues']</td>\n",
       "      <td>370067</td>\n",
       "      <td>1908</td>\n",
       "      <td>1908-08-01</td>\n",
       "    </tr>\n",
       "    <tr>\n",
       "      <th>358084</th>\n",
       "      <td>Berlin Wall</td>\n",
       "      <td>Living Chicago Blues, Vol. 3</td>\n",
       "      <td>['Sons of the Blues']</td>\n",
       "      <td>265640</td>\n",
       "      <td>1908</td>\n",
       "      <td>1908-08-01</td>\n",
       "    </tr>\n",
       "    <tr>\n",
       "      <th>358085</th>\n",
       "      <td>Prisoner Of The Blues</td>\n",
       "      <td>Living Chicago Blues, Vol. 3</td>\n",
       "      <td>['Sons of the Blues']</td>\n",
       "      <td>253667</td>\n",
       "      <td>1908</td>\n",
       "      <td>1908-08-01</td>\n",
       "    </tr>\n",
       "  </tbody>\n",
       "</table>\n",
       "</div>"
      ],
      "text/plain": [
       "                               name                         album  \\\n",
       "358067                   Hard Times  Living Chicago Blues, Vol. 3   \n",
       "358068                   She's Fine  Living Chicago Blues, Vol. 3   \n",
       "358069     Moving Out Of The Ghetto  Living Chicago Blues, Vol. 3   \n",
       "358070            Going To New York  Living Chicago Blues, Vol. 3   \n",
       "358071                Big Leg Woman  Living Chicago Blues, Vol. 3   \n",
       "358072       Careless With Our Love  Living Chicago Blues, Vol. 3   \n",
       "358073                   Road Block  Living Chicago Blues, Vol. 3   \n",
       "358074                   Poison Ivy  Living Chicago Blues, Vol. 3   \n",
       "358075                   I Dare You  Living Chicago Blues, Vol. 3   \n",
       "358076     Nobody Knows My Troubles  Living Chicago Blues, Vol. 3   \n",
       "358077            Sweet Little Girl  Living Chicago Blues, Vol. 3   \n",
       "358078                      Naptown  Living Chicago Blues, Vol. 3   \n",
       "358079        Drown In My Own Tears  Living Chicago Blues, Vol. 3   \n",
       "358080           Crying For My Baby  Living Chicago Blues, Vol. 3   \n",
       "358081                  Feel So Bad  Living Chicago Blues, Vol. 3   \n",
       "358082                 Wish Me Well  Living Chicago Blues, Vol. 3   \n",
       "358083  Have You Ever Loved A Woman  Living Chicago Blues, Vol. 3   \n",
       "358084                  Berlin Wall  Living Chicago Blues, Vol. 3   \n",
       "358085        Prisoner Of The Blues  Living Chicago Blues, Vol. 3   \n",
       "\n",
       "                            artists  duration_ms  year release_date  \n",
       "358067                ['A.C. Reed']       198533  1908   1908-08-01  \n",
       "358068                ['A.C. Reed']       258227  1908   1908-08-01  \n",
       "358069                ['A.C. Reed']       233733  1908   1908-08-01  \n",
       "358070                ['A.C. Reed']       219173  1908   1908-08-01  \n",
       "358071  ['Scotty And The Rib Tips']       221400  1908   1908-08-01  \n",
       "358072  ['Scotty And The Rib Tips']       182733  1908   1908-08-01  \n",
       "358073  ['Scotty And The Rib Tips']       169733  1908   1908-08-01  \n",
       "358074  ['Scotty And The Rib Tips']       197467  1908   1908-08-01  \n",
       "358075                ['Lovie Lee']       168200  1908   1908-08-01  \n",
       "358076                ['Lovie Lee']       318627  1908   1908-08-01  \n",
       "358077                ['Lovie Lee']       193933  1908   1908-08-01  \n",
       "358078                ['Lovie Lee']       185000  1908   1908-08-01  \n",
       "358079              ['Lacy Gibson']       280573  1908   1908-08-01  \n",
       "358080              ['Lacy Gibson']       168893  1908   1908-08-01  \n",
       "358081              ['Lacy Gibson']       234640  1908   1908-08-01  \n",
       "358082              ['Lacy Gibson']       177627  1908   1908-08-01  \n",
       "358083        ['Sons of the Blues']       370067  1908   1908-08-01  \n",
       "358084        ['Sons of the Blues']       265640  1908   1908-08-01  \n",
       "358085        ['Sons of the Blues']       253667  1908   1908-08-01  "
      ]
     },
     "execution_count": 14,
     "metadata": {},
     "output_type": "execute_result"
    }
   ],
   "source": [
    "df.loc[df['year'] == 1908]"
   ]
  },
  {
   "cell_type": "code",
   "execution_count": 15,
   "id": "f471be2e-fe08-4f94-92b4-c1b4a88201de",
   "metadata": {},
   "outputs": [],
   "source": [
    "df = df.loc[df['year'] != 1908]"
   ]
  },
  {
   "cell_type": "markdown",
   "id": "a8379c14-14ec-4216-811b-7263562ead43",
   "metadata": {},
   "source": [
    "The aptly named Music of Cuba 1909 seems to be in the right release years so I will keep these here"
   ]
  },
  {
   "cell_type": "code",
   "execution_count": 16,
   "id": "6178ae8e-f0c3-46a1-89e6-3d4cf0e8ef8f",
   "metadata": {},
   "outputs": [
    {
     "data": {
      "text/html": [
       "<div>\n",
       "<style scoped>\n",
       "    .dataframe tbody tr th:only-of-type {\n",
       "        vertical-align: middle;\n",
       "    }\n",
       "\n",
       "    .dataframe tbody tr th {\n",
       "        vertical-align: top;\n",
       "    }\n",
       "\n",
       "    .dataframe thead th {\n",
       "        text-align: right;\n",
       "    }\n",
       "</style>\n",
       "<table border=\"1\" class=\"dataframe\">\n",
       "  <thead>\n",
       "    <tr style=\"text-align: right;\">\n",
       "      <th></th>\n",
       "      <th>name</th>\n",
       "      <th>album</th>\n",
       "      <th>artists</th>\n",
       "      <th>duration_ms</th>\n",
       "      <th>year</th>\n",
       "      <th>release_date</th>\n",
       "    </tr>\n",
       "  </thead>\n",
       "  <tbody>\n",
       "    <tr>\n",
       "      <th>181527</th>\n",
       "      <td>Unknown</td>\n",
       "      <td>The Music Of Cuba 1909-1951</td>\n",
       "      <td>['Orquesta Felipe Valdéz', 'Pablo Valenzuela']</td>\n",
       "      <td>210227</td>\n",
       "      <td>1909</td>\n",
       "      <td>1909</td>\n",
       "    </tr>\n",
       "    <tr>\n",
       "      <th>181528</th>\n",
       "      <td>Se Acabó La Choricera</td>\n",
       "      <td>The Music Of Cuba 1909-1951</td>\n",
       "      <td>['Floro Zorrilla', 'Miguel Zaballa']</td>\n",
       "      <td>193533</td>\n",
       "      <td>1909</td>\n",
       "      <td>1909</td>\n",
       "    </tr>\n",
       "    <tr>\n",
       "      <th>181529</th>\n",
       "      <td>Miguel, Los Hombres No Lloran</td>\n",
       "      <td>The Music Of Cuba 1909-1951</td>\n",
       "      <td>['Sexteto Nacional']</td>\n",
       "      <td>173840</td>\n",
       "      <td>1909</td>\n",
       "      <td>1909</td>\n",
       "    </tr>\n",
       "    <tr>\n",
       "      <th>181530</th>\n",
       "      <td>Somos Ocho Orientales</td>\n",
       "      <td>The Music Of Cuba 1909-1951</td>\n",
       "      <td>['Grupo Típico Oriental']</td>\n",
       "      <td>193573</td>\n",
       "      <td>1909</td>\n",
       "      <td>1909</td>\n",
       "    </tr>\n",
       "    <tr>\n",
       "      <th>181531</th>\n",
       "      <td>Tus Manos Blancas</td>\n",
       "      <td>The Music Of Cuba 1909-1951</td>\n",
       "      <td>['Maria Cervantes']</td>\n",
       "      <td>182600</td>\n",
       "      <td>1909</td>\n",
       "      <td>1909</td>\n",
       "    </tr>\n",
       "  </tbody>\n",
       "</table>\n",
       "</div>"
      ],
      "text/plain": [
       "                                 name                        album  \\\n",
       "181527                        Unknown  The Music Of Cuba 1909-1951   \n",
       "181528          Se Acabó La Choricera  The Music Of Cuba 1909-1951   \n",
       "181529  Miguel, Los Hombres No Lloran  The Music Of Cuba 1909-1951   \n",
       "181530          Somos Ocho Orientales  The Music Of Cuba 1909-1951   \n",
       "181531              Tus Manos Blancas  The Music Of Cuba 1909-1951   \n",
       "\n",
       "                                               artists  duration_ms  year  \\\n",
       "181527  ['Orquesta Felipe Valdéz', 'Pablo Valenzuela']       210227  1909   \n",
       "181528            ['Floro Zorrilla', 'Miguel Zaballa']       193533  1909   \n",
       "181529                            ['Sexteto Nacional']       173840  1909   \n",
       "181530                       ['Grupo Típico Oriental']       193573  1909   \n",
       "181531                             ['Maria Cervantes']       182600  1909   \n",
       "\n",
       "       release_date  \n",
       "181527         1909  \n",
       "181528         1909  \n",
       "181529         1909  \n",
       "181530         1909  \n",
       "181531         1909  "
      ]
     },
     "execution_count": 16,
     "metadata": {},
     "output_type": "execute_result"
    }
   ],
   "source": [
    "df.loc[df['year'] == 1909].head()"
   ]
  },
  {
   "cell_type": "markdown",
   "id": "0b9a495c-f224-4a1f-932c-8a7ac83adb86",
   "metadata": {},
   "source": [
    "## Analysis\n",
    "\n"
   ]
  },
  {
   "cell_type": "markdown",
   "id": "815498df-b969-4865-842e-9a5bbaf5b5bd",
   "metadata": {},
   "source": [
    "> D.  Report on your data-analysis process by describing the analysis technique(s) you used to appropriately analyze the data. Include the calculations you performed and their outputs. Justify how you selected the analysis technique(s) you used, including one advantage and one disadvantage of these technique(s).\n",
    "\n"
   ]
  },
  {
   "cell_type": "markdown",
   "id": "ee1d2a16-13b9-4bae-925d-6f0d840f6d2c",
   "metadata": {},
   "source": [
    "I will start by creating a graph showing the number of songs that came out before and after 2008. The red line indicates the year that Spotify was released"
   ]
  },
  {
   "cell_type": "code",
   "execution_count": 17,
   "id": "126303a4-077d-48dc-b89b-2c09d1039582",
   "metadata": {},
   "outputs": [],
   "source": [
    "year_count = df['year'].value_counts().sort_index()"
   ]
  },
  {
   "cell_type": "code",
   "execution_count": 18,
   "id": "6741e9cf-67c3-4682-b518-002f5d804cf2",
   "metadata": {},
   "outputs": [
    {
     "data": {
      "image/png": "[encoded data removed]",
      "text/plain": [
       "<Figure size 640x480 with 1 Axes>"
      ]
     },
     "metadata": {},
     "output_type": "display_data"
    }
   ],
   "source": [
    "plt.bar(year_count.index, year_count.values)\n",
    "\n",
    "plt.xlabel('Years')\n",
    "plt.ylabel('Count of Songs Released')\n",
    "plt.title('Count of Songs Released on Spotify by Year')\n",
    "\n",
    "plt.axvline(x=2008, color='red', linestyle='--', linewidth=1)\n",
    "\n",
    "plt.show()"
   ]
  },
  {
   "cell_type": "markdown",
   "id": "442affdc-e102-4846-9eec-ab21b9d2aa5f",
   "metadata": {},
   "source": [
    "Next I would like to know what the oldest and newest songs in the dataset are"
   ]
  },
  {
   "cell_type": "code",
   "execution_count": 19,
   "id": "ace2cf74-62a0-4686-ae8a-31da74932689",
   "metadata": {},
   "outputs": [
    {
     "name": "stdout",
     "output_type": "stream",
     "text": [
      "Oldest:  1909\n",
      "Newest:  2020\n"
     ]
    }
   ],
   "source": [
    "print('Oldest: ',df['year'].min())\n",
    "print('Newest: ',df['year'].max())"
   ]
  },
  {
   "cell_type": "markdown",
   "id": "aaf4d1ea-e108-4661-b703-f66042eb427e",
   "metadata": {},
   "source": [
    "Another thing I would like to know is the number of songs we have data on before and after 2008.\n",
    "\n",
    "There are 540,129 songs released before 2008 and 663,853 songs released in and after 2008. This is quite a lot of data for both sides so I think this will be fairly representative of the music on spotify."
   ]
  },
  {
   "cell_type": "code",
   "execution_count": 20,
   "id": "0f4da131-8de1-4f0b-b505-9eab15845d91",
   "metadata": {},
   "outputs": [
    {
     "name": "stdout",
     "output_type": "stream",
     "text": [
      "Pre-2008 Count:  540129\n",
      "2008 & After Count:  663853\n"
     ]
    }
   ],
   "source": [
    "print('Pre-2008 Count: ',df['year'].loc[df['year'] < 2008].count())\n",
    "print('2008 & After Count: ',df['year'].loc[df['year'] >= 2008].count())"
   ]
  },
  {
   "cell_type": "markdown",
   "id": "ba237299-85c2-473d-8f3d-63528cefb8b1",
   "metadata": {},
   "source": [
    "### ANOVA Analysis"
   ]
  },
  {
   "cell_type": "markdown",
   "id": "9b9feee9-e032-464c-9f47-303a1a7f720b",
   "metadata": {},
   "source": [
    "To do the analysis, I will split the data into two seperate dataframes. One dataframe will contain duration of songs released before 2008, and the second dataframe will include duration of songs from 2008 and after."
   ]
  },
  {
   "cell_type": "code",
   "execution_count": 25,
   "id": "6add22cd-3b53-4aeb-bcb8-795fa13b1720",
   "metadata": {},
   "outputs": [],
   "source": [
    "pre_2008 = df[['duration_ms','year']].loc[df['year'] < 2008]"
   ]
  },
  {
   "cell_type": "markdown",
   "id": "f990fb99-c248-4b47-85e4-e692a717d025",
   "metadata": {},
   "source": [
    "df['year'].loc[df['year'] < 2008]## Data Summary and Implications\n",
    "\n"
   ]
  },
  {
   "cell_type": "code",
   "execution_count": 27,
   "id": "c6fa407e-a585-4bce-ab1d-146fa77573b9",
   "metadata": {},
   "outputs": [
    {
     "data": {
      "text/html": [
       "<div>\n",
       "<style scoped>\n",
       "    .dataframe tbody tr th:only-of-type {\n",
       "        vertical-align: middle;\n",
       "    }\n",
       "\n",
       "    .dataframe tbody tr th {\n",
       "        vertical-align: top;\n",
       "    }\n",
       "\n",
       "    .dataframe thead th {\n",
       "        text-align: right;\n",
       "    }\n",
       "</style>\n",
       "<table border=\"1\" class=\"dataframe\">\n",
       "  <thead>\n",
       "    <tr style=\"text-align: right;\">\n",
       "      <th></th>\n",
       "      <th>duration_ms</th>\n",
       "      <th>year</th>\n",
       "    </tr>\n",
       "  </thead>\n",
       "  <tbody>\n",
       "    <tr>\n",
       "      <th>0</th>\n",
       "      <td>210133</td>\n",
       "      <td>1999</td>\n",
       "    </tr>\n",
       "    <tr>\n",
       "      <th>1</th>\n",
       "      <td>206200</td>\n",
       "      <td>1999</td>\n",
       "    </tr>\n",
       "    <tr>\n",
       "      <th>2</th>\n",
       "      <td>298893</td>\n",
       "      <td>1999</td>\n",
       "    </tr>\n",
       "    <tr>\n",
       "      <th>3</th>\n",
       "      <td>213640</td>\n",
       "      <td>1999</td>\n",
       "    </tr>\n",
       "    <tr>\n",
       "      <th>4</th>\n",
       "      <td>205600</td>\n",
       "      <td>1999</td>\n",
       "    </tr>\n",
       "  </tbody>\n",
       "</table>\n",
       "</div>"
      ],
      "text/plain": [
       "   duration_ms  year\n",
       "0       210133  1999\n",
       "1       206200  1999\n",
       "2       298893  1999\n",
       "3       213640  1999\n",
       "4       205600  1999"
      ]
     },
     "execution_count": 27,
     "metadata": {},
     "output_type": "execute_result"
    }
   ],
   "source": [
    "pre_2008.head()"
   ]
  },
  {
   "cell_type": "code",
   "execution_count": 30,
   "id": "d6a92930-3e9b-4d62-9f85-bfc452baca87",
   "metadata": {},
   "outputs": [],
   "source": [
    "during_after_2008 = df[['duration_ms','year']].loc[df['year'] >= 2008]"
   ]
  },
  {
   "cell_type": "code",
   "execution_count": 31,
   "id": "cc30e2f5-31f2-43a2-afdc-1f9fe001dd70",
   "metadata": {},
   "outputs": [
    {
     "data": {
      "text/html": [
       "<div>\n",
       "<style scoped>\n",
       "    .dataframe tbody tr th:only-of-type {\n",
       "        vertical-align: middle;\n",
       "    }\n",
       "\n",
       "    .dataframe tbody tr th {\n",
       "        vertical-align: top;\n",
       "    }\n",
       "\n",
       "    .dataframe thead th {\n",
       "        text-align: right;\n",
       "    }\n",
       "</style>\n",
       "<table border=\"1\" class=\"dataframe\">\n",
       "  <thead>\n",
       "    <tr style=\"text-align: right;\">\n",
       "      <th></th>\n",
       "      <th>duration_ms</th>\n",
       "      <th>year</th>\n",
       "    </tr>\n",
       "  </thead>\n",
       "  <tbody>\n",
       "    <tr>\n",
       "      <th>22</th>\n",
       "      <td>224307</td>\n",
       "      <td>2018</td>\n",
       "    </tr>\n",
       "    <tr>\n",
       "      <th>23</th>\n",
       "      <td>238000</td>\n",
       "      <td>2018</td>\n",
       "    </tr>\n",
       "    <tr>\n",
       "      <th>24</th>\n",
       "      <td>268013</td>\n",
       "      <td>2018</td>\n",
       "    </tr>\n",
       "    <tr>\n",
       "      <th>25</th>\n",
       "      <td>277813</td>\n",
       "      <td>2018</td>\n",
       "    </tr>\n",
       "    <tr>\n",
       "      <th>26</th>\n",
       "      <td>209960</td>\n",
       "      <td>2018</td>\n",
       "    </tr>\n",
       "  </tbody>\n",
       "</table>\n",
       "</div>"
      ],
      "text/plain": [
       "    duration_ms  year\n",
       "22       224307  2018\n",
       "23       238000  2018\n",
       "24       268013  2018\n",
       "25       277813  2018\n",
       "26       209960  2018"
      ]
     },
     "execution_count": 31,
     "metadata": {},
     "output_type": "execute_result"
    }
   ],
   "source": [
    "during_after_2008.head()"
   ]
  },
  {
   "cell_type": "code",
   "execution_count": 35,
   "id": "5764d555-e74a-410b-82ca-48185fc4ef0e",
   "metadata": {},
   "outputs": [
    {
     "name": "stdout",
     "output_type": "stream",
     "text": [
      "ANOVA Results:  \n",
      " F_onewayResult(statistic=1.9157774994603458, pvalue=0.16632315098948963) \n",
      "\n"
     ]
    }
   ],
   "source": [
    "print(\"ANOVA Results: \" , \"\\n\", stats.f_oneway(pre_2008['duration_ms'],during_after_2008['duration_ms']), \"\\n\")"
   ]
  },
  {
   "cell_type": "markdown",
   "id": "5c9efba7-c9db-485d-8eea-5cba703cab67",
   "metadata": {},
   "source": [
    "From this ANOVA analysis, we can determine that the two means of pre-2008 and during/post-2008 are not the same."
   ]
  },
  {
   "cell_type": "code",
   "execution_count": 40,
   "id": "3cde4b7f-91be-4763-8e3c-d40619ad2c0b",
   "metadata": {},
   "outputs": [
    {
     "name": "stdout",
     "output_type": "stream",
     "text": [
      "Averages:  249064.81797311382 248653.40735072372\n"
     ]
    },
    {
     "data": {
      "text/plain": [
       "<BarContainer object of 2 artists>"
      ]
     },
     "execution_count": 40,
     "metadata": {},
     "output_type": "execute_result"
    },
    {
     "data": {
      "image/png": "[encoded data removed]",
      "text/plain": [
       "<Figure size 640x480 with 1 Axes>"
      ]
     },
     "metadata": {},
     "output_type": "display_data"
    }
   ],
   "source": [
    "#get mean values\n",
    "mean_value1 = pre_2008['duration_ms'].mean()\n",
    "mean_value2 = during_after_2008['duration_ms'].mean()\n",
    "print('Averages: ',mean_value1, mean_value2)\n",
    "\n",
    "labels = ['Pre-2008', 'During/Post-2008']\n",
    "means = [mean_value1, mean_value2]\n",
    "\n",
    "plt.title('Pre-2008 Duration Mean vs. During/Post 2008 Mean')\n",
    "plt.xlabel('Release Year')\n",
    "plt.ylabel('Duration (MS)')\n",
    "\n",
    "plt.bar(labels, means)\n"
   ]
  },
  {
   "cell_type": "markdown",
   "id": "3bb3bbd4-7689-46ed-81b0-453cefe6ebd8",
   "metadata": {},
   "source": [
    "I am curious to see if on the graph we can see a more significant change if we just focus on various times post-2008 since it was not as extreme a reduction as I personally expected."
   ]
  },
  {
   "cell_type": "code",
   "execution_count": 47,
   "id": "67697c5e-66c6-447a-a72b-4ed43844bde4",
   "metadata": {},
   "outputs": [
    {
     "name": "stdout",
     "output_type": "stream",
     "text": [
      "Averages:  249064.81797311382 248653.40735072372 240693.216293713 222865.38444769525\n"
     ]
    },
    {
     "data": {
      "text/plain": [
       "<BarContainer object of 4 artists>"
      ]
     },
     "execution_count": 48,
     "metadata": {},
     "output_type": "execute_result"
    },
    {
     "data": {
      "image/png": "[encoded data removed]",
      "text/plain": [
       "<Figure size 800x600 with 1 Axes>"
      ]
     },
     "metadata": {},
     "output_type": "display_data"
    }
   ],
   "source": [
    "during_after_2016 = df[['duration_ms','year']].loc[df['year'] >= 2016]\n",
    "during_after_2020 = df[['duration_ms','year']].loc[df['year'] >= 2020]\n",
    "\n",
    "\n",
    "#get mean values\n",
    "mean_value1 = pre_2008['duration_ms'].mean()\n",
    "mean_value2 = during_after_2008['duration_ms'].mean()\n",
    "mean_value3 = during_after_2016['duration_ms'].mean()\n",
    "mean_value4 = during_after_2020['duration_ms'].mean()\n",
    "\n",
    "print('Averages: ',mean_value1, mean_value2, mean_value3, mean_value4 )\n",
    "\n",
    "labels = ['Pre-2008', 'During/Post-2008', 'During/Post-2016', 'During/Post-2020']\n",
    "means = [mean_value1, mean_value2, mean_value3, mean_value4]\n",
    "\n",
    "plt.figure(figsize=(8, 6))\n",
    "\n",
    "plt.title('Pre-2008 Duration Mean vs. During/Post 2008 Mean')\n",
    "plt.xlabel('Release Year')\n",
    "plt.ylabel('Duration (MS)')\n",
    "\n",
    "plt.bar(labels, means)\n"
   ]
  },
  {
   "cell_type": "markdown",
   "id": "41925755-af1b-4df7-b7c5-02650cd53418",
   "metadata": {},
   "source": [
    "> E.  Summarize the implications of your data analysis by discussing the results of your data analysis in the context of the research question, including one limitation of your analysis. Within the context of your research question, recommend a course of action based on your results. Then propose two directions or approaches for future study of the data set.\n",
    "\n"
   ]
  },
  {
   "cell_type": "markdown",
   "id": "e48cd2f1-03a0-415a-9649-21ef09855841",
   "metadata": {},
   "source": [
    "The implications of my data analysis are that there was a statistically significant change in the duration of music before 2008 and during/post-2008. We know this since the ANOVA analysis returns that our p-value is .166, which means we have to reject our null-hypothesis that the two means of the dataset are the same, which would imply that the average duration of songs would have changed. "
   ]
  },
  {
   "cell_type": "markdown",
   "id": "e08ce521-2be0-4823-ac29-897bf89a47e3",
   "metadata": {},
   "source": [
    "The implication of this analysis is that music is being reduced by a statistically significant amount as time goes on. We can see that in the graph if we focus on smaller time points past 2008 that the mean appears to be reduced even more. This data is not enough to attribute the causation to Spotify's release. In terms of reccomended course of action, as a musician, one can justify a reduced length in songs length as it appears that the trend is to continue to reduce the average length of songs as time goes on. If one would want to break the trend, creating a longer song would be different then what most people are moving towards."
   ]
  },
  {
   "cell_type": "markdown",
   "id": "76658eb3-a7f8-4407-9a19-c925b378fa7b",
   "metadata": {},
   "source": [
    "> F.  Acknowledge sources, using in-text citations and references, for content that is quoted.\n",
    "\n"
   ]
  },
  {
   "cell_type": "markdown",
   "id": "99250039-837a-4bd4-b17e-4d879b5ca5fb",
   "metadata": {},
   "source": [
    "https://docs.scipy.org/doc/scipy/reference/generated/scipy.stats.f_oneway.html"
   ]
  }
 ],
 "metadata": {
  "kernelspec": {
   "display_name": "Python 3 (ipykernel)",
   "language": "python",
   "name": "python3"
  },
  "language_info": {
   "codemirror_mode": {
    "name": "ipython",
    "version": 3
   },
   "file_extension": ".py",
   "mimetype": "text/x-python",
   "name": "python",
   "nbconvert_exporter": "python",
   "pygments_lexer": "ipython3",
   "version": "3.9.13"
  }
 },
 "nbformat": 4,
 "nbformat_minor": 5
}
