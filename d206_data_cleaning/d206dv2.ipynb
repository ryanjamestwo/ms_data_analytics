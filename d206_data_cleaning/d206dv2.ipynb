{
 "cells": [
  {
   "cell_type": "markdown",
   "id": "da7c838d-55d1-4d5c-a25a-5801be806e14",
   "metadata": {},
   "source": [
    "# D206 Performance Assessment"
   ]
  },
  {
   "cell_type": "markdown",
   "id": "0dbae24d-c973-44f8-803c-a17515a4a1cb",
   "metadata": {},
   "source": [
    "Through this notebook, I go through the data cleaning process on the churn dataset\n",
    "Student ID:012047746"
   ]
  },
  {
   "cell_type": "code",
   "execution_count": 1,
   "id": "3a8cd912-7676-4f15-8325-d674807d96df",
   "metadata": {
    "tags": []
   },
   "outputs": [
    {
     "name": "stdout",
     "output_type": "stream",
     "text": [
      "3.11.5 | packaged by Anaconda, Inc. | (main, Sep 11 2023, 13:26:23) [MSC v.1916 64 bit (AMD64)]\n"
     ]
    }
   ],
   "source": [
    "import sys\n",
    "print(sys.version)"
   ]
  },
  {
   "cell_type": "markdown",
   "id": "b065dad1-533c-411f-8ff0-beb9413f103f",
   "metadata": {
    "tags": []
   },
   "source": [
    "## Import Libraries and Data"
   ]
  },
  {
   "cell_type": "code",
   "execution_count": 2,
   "id": "e15cabd0-225e-4983-9935-50e4efa219f4",
   "metadata": {
    "tags": []
   },
   "outputs": [],
   "source": [
    "# start by importing libraries\n",
    "import numpy as np\n",
    "import pandas as pd\n",
    "import seaborn as sns\n",
    "# for visualizations\n",
    "import missingno as msno\n",
    "import matplotlib.pyplot as plt\n",
    "# stats\n",
    "import scipy.stats as stats\n",
    "# for principal component analysis\n",
    "from sklearn.decomposition import PCA"
   ]
  },
  {
   "cell_type": "code",
   "execution_count": 3,
   "id": "15e9120c-d751-48ce-97a0-e3e294330b0e",
   "metadata": {},
   "outputs": [],
   "source": [
    "# read in csv\n",
    "df = pd.read_csv('churn_raw_data.csv')"
   ]
  },
  {
   "cell_type": "code",
   "execution_count": 4,
   "id": "1e307771-3193-448b-bf84-15fa984eb85a",
   "metadata": {
    "tags": []
   },
   "outputs": [],
   "source": [
    "# create a copy of the original df for comparison later\n",
    "odf = df"
   ]
  },
  {
   "cell_type": "code",
   "execution_count": 5,
   "id": "656b8559-f6f6-4f61-a0fd-45d55dd91299",
   "metadata": {
    "tags": []
   },
   "outputs": [
    {
     "data": {
      "text/html": [
       "<div>\n",
       "<style scoped>\n",
       "    .dataframe tbody tr th:only-of-type {\n",
       "        vertical-align: middle;\n",
       "    }\n",
       "\n",
       "    .dataframe tbody tr th {\n",
       "        vertical-align: top;\n",
       "    }\n",
       "\n",
       "    .dataframe thead th {\n",
       "        text-align: right;\n",
       "    }\n",
       "</style>\n",
       "<table border=\"1\" class=\"dataframe\">\n",
       "  <thead>\n",
       "    <tr style=\"text-align: right;\">\n",
       "      <th></th>\n",
       "      <th>CaseOrder</th>\n",
       "      <th>Customer_id</th>\n",
       "      <th>Interaction</th>\n",
       "      <th>City</th>\n",
       "      <th>State</th>\n",
       "      <th>County</th>\n",
       "      <th>Zip</th>\n",
       "      <th>Lat</th>\n",
       "      <th>Lng</th>\n",
       "      <th>Population</th>\n",
       "      <th>...</th>\n",
       "      <th>MonthlyCharge</th>\n",
       "      <th>Bandwidth_GB_Year</th>\n",
       "      <th>item1</th>\n",
       "      <th>item2</th>\n",
       "      <th>item3</th>\n",
       "      <th>item4</th>\n",
       "      <th>item5</th>\n",
       "      <th>item6</th>\n",
       "      <th>item7</th>\n",
       "      <th>item8</th>\n",
       "    </tr>\n",
       "  </thead>\n",
       "  <tbody>\n",
       "    <tr>\n",
       "      <th>0</th>\n",
       "      <td>1</td>\n",
       "      <td>K409198</td>\n",
       "      <td>aa90260b-4141-4a24-8e36-b04ce1f4f77b</td>\n",
       "      <td>Point Baker</td>\n",
       "      <td>AK</td>\n",
       "      <td>Prince of Wales-Hyder</td>\n",
       "      <td>99927</td>\n",
       "      <td>56.25100</td>\n",
       "      <td>-133.37571</td>\n",
       "      <td>38</td>\n",
       "      <td>...</td>\n",
       "      <td>171.449762</td>\n",
       "      <td>904.536110</td>\n",
       "      <td>5</td>\n",
       "      <td>5</td>\n",
       "      <td>5</td>\n",
       "      <td>3</td>\n",
       "      <td>4</td>\n",
       "      <td>4</td>\n",
       "      <td>3</td>\n",
       "      <td>4</td>\n",
       "    </tr>\n",
       "    <tr>\n",
       "      <th>1</th>\n",
       "      <td>2</td>\n",
       "      <td>S120509</td>\n",
       "      <td>fb76459f-c047-4a9d-8af9-e0f7d4ac2524</td>\n",
       "      <td>West Branch</td>\n",
       "      <td>MI</td>\n",
       "      <td>Ogemaw</td>\n",
       "      <td>48661</td>\n",
       "      <td>44.32893</td>\n",
       "      <td>-84.24080</td>\n",
       "      <td>10446</td>\n",
       "      <td>...</td>\n",
       "      <td>242.948015</td>\n",
       "      <td>800.982766</td>\n",
       "      <td>3</td>\n",
       "      <td>4</td>\n",
       "      <td>3</td>\n",
       "      <td>3</td>\n",
       "      <td>4</td>\n",
       "      <td>3</td>\n",
       "      <td>4</td>\n",
       "      <td>4</td>\n",
       "    </tr>\n",
       "    <tr>\n",
       "      <th>2</th>\n",
       "      <td>3</td>\n",
       "      <td>K191035</td>\n",
       "      <td>344d114c-3736-4be5-98f7-c72c281e2d35</td>\n",
       "      <td>Yamhill</td>\n",
       "      <td>OR</td>\n",
       "      <td>Yamhill</td>\n",
       "      <td>97148</td>\n",
       "      <td>45.35589</td>\n",
       "      <td>-123.24657</td>\n",
       "      <td>3735</td>\n",
       "      <td>...</td>\n",
       "      <td>159.440398</td>\n",
       "      <td>2054.706961</td>\n",
       "      <td>4</td>\n",
       "      <td>4</td>\n",
       "      <td>2</td>\n",
       "      <td>4</td>\n",
       "      <td>4</td>\n",
       "      <td>3</td>\n",
       "      <td>3</td>\n",
       "      <td>3</td>\n",
       "    </tr>\n",
       "    <tr>\n",
       "      <th>3</th>\n",
       "      <td>4</td>\n",
       "      <td>D90850</td>\n",
       "      <td>abfa2b40-2d43-4994-b15a-989b8c79e311</td>\n",
       "      <td>Del Mar</td>\n",
       "      <td>CA</td>\n",
       "      <td>San Diego</td>\n",
       "      <td>92014</td>\n",
       "      <td>32.96687</td>\n",
       "      <td>-117.24798</td>\n",
       "      <td>13863</td>\n",
       "      <td>...</td>\n",
       "      <td>120.249493</td>\n",
       "      <td>2164.579412</td>\n",
       "      <td>4</td>\n",
       "      <td>4</td>\n",
       "      <td>4</td>\n",
       "      <td>2</td>\n",
       "      <td>5</td>\n",
       "      <td>4</td>\n",
       "      <td>3</td>\n",
       "      <td>3</td>\n",
       "    </tr>\n",
       "    <tr>\n",
       "      <th>4</th>\n",
       "      <td>5</td>\n",
       "      <td>K662701</td>\n",
       "      <td>68a861fd-0d20-4e51-a587-8a90407ee574</td>\n",
       "      <td>Needville</td>\n",
       "      <td>TX</td>\n",
       "      <td>Fort Bend</td>\n",
       "      <td>77461</td>\n",
       "      <td>29.38012</td>\n",
       "      <td>-95.80673</td>\n",
       "      <td>11352</td>\n",
       "      <td>...</td>\n",
       "      <td>150.761216</td>\n",
       "      <td>271.493436</td>\n",
       "      <td>4</td>\n",
       "      <td>4</td>\n",
       "      <td>4</td>\n",
       "      <td>3</td>\n",
       "      <td>4</td>\n",
       "      <td>4</td>\n",
       "      <td>4</td>\n",
       "      <td>5</td>\n",
       "    </tr>\n",
       "  </tbody>\n",
       "</table>\n",
       "<p>5 rows × 51 columns</p>\n",
       "</div>"
      ],
      "text/plain": [
       "   CaseOrder Customer_id                           Interaction         City  \\\n",
       "0          1     K409198  aa90260b-4141-4a24-8e36-b04ce1f4f77b  Point Baker   \n",
       "1          2     S120509  fb76459f-c047-4a9d-8af9-e0f7d4ac2524  West Branch   \n",
       "2          3     K191035  344d114c-3736-4be5-98f7-c72c281e2d35      Yamhill   \n",
       "3          4      D90850  abfa2b40-2d43-4994-b15a-989b8c79e311      Del Mar   \n",
       "4          5     K662701  68a861fd-0d20-4e51-a587-8a90407ee574    Needville   \n",
       "\n",
       "  State                 County    Zip       Lat        Lng  Population  ...  \\\n",
       "0    AK  Prince of Wales-Hyder  99927  56.25100 -133.37571          38  ...   \n",
       "1    MI                 Ogemaw  48661  44.32893  -84.24080       10446  ...   \n",
       "2    OR                Yamhill  97148  45.35589 -123.24657        3735  ...   \n",
       "3    CA              San Diego  92014  32.96687 -117.24798       13863  ...   \n",
       "4    TX              Fort Bend  77461  29.38012  -95.80673       11352  ...   \n",
       "\n",
       "  MonthlyCharge Bandwidth_GB_Year item1  item2  item3 item4 item5  item6  \\\n",
       "0    171.449762        904.536110     5      5      5     3     4      4   \n",
       "1    242.948015        800.982766     3      4      3     3     4      3   \n",
       "2    159.440398       2054.706961     4      4      2     4     4      3   \n",
       "3    120.249493       2164.579412     4      4      4     2     5      4   \n",
       "4    150.761216        271.493436     4      4      4     3     4      4   \n",
       "\n",
       "  item7 item8  \n",
       "0     3     4  \n",
       "1     4     4  \n",
       "2     3     3  \n",
       "3     3     3  \n",
       "4     4     5  \n",
       "\n",
       "[5 rows x 51 columns]"
      ]
     },
     "execution_count": 5,
     "metadata": {},
     "output_type": "execute_result"
    }
   ],
   "source": [
    "# drop the unnamed column as it has no use\n",
    "df = df.drop(columns=['Unnamed: 0'])\n",
    "df.head()"
   ]
  },
  {
   "cell_type": "code",
   "execution_count": 6,
   "id": "250154dc-9a6b-4e8d-b735-b34c7295899b",
   "metadata": {
    "tags": []
   },
   "outputs": [
    {
     "name": "stdout",
     "output_type": "stream",
     "text": [
      "<class 'pandas.core.frame.DataFrame'>\n",
      "RangeIndex: 10000 entries, 0 to 9999\n",
      "Data columns (total 51 columns):\n",
      " #   Column                Non-Null Count  Dtype  \n",
      "---  ------                --------------  -----  \n",
      " 0   CaseOrder             10000 non-null  int64  \n",
      " 1   Customer_id           10000 non-null  object \n",
      " 2   Interaction           10000 non-null  object \n",
      " 3   City                  10000 non-null  object \n",
      " 4   State                 10000 non-null  object \n",
      " 5   County                10000 non-null  object \n",
      " 6   Zip                   10000 non-null  int64  \n",
      " 7   Lat                   10000 non-null  float64\n",
      " 8   Lng                   10000 non-null  float64\n",
      " 9   Population            10000 non-null  int64  \n",
      " 10  Area                  10000 non-null  object \n",
      " 11  Timezone              10000 non-null  object \n",
      " 12  Job                   10000 non-null  object \n",
      " 13  Children              7505 non-null   float64\n",
      " 14  Age                   7525 non-null   float64\n",
      " 15  Education             10000 non-null  object \n",
      " 16  Employment            10000 non-null  object \n",
      " 17  Income                7510 non-null   float64\n",
      " 18  Marital               10000 non-null  object \n",
      " 19  Gender                10000 non-null  object \n",
      " 20  Churn                 10000 non-null  object \n",
      " 21  Outage_sec_perweek    10000 non-null  float64\n",
      " 22  Email                 10000 non-null  int64  \n",
      " 23  Contacts              10000 non-null  int64  \n",
      " 24  Yearly_equip_failure  10000 non-null  int64  \n",
      " 25  Techie                7523 non-null   object \n",
      " 26  Contract              10000 non-null  object \n",
      " 27  Port_modem            10000 non-null  object \n",
      " 28  Tablet                10000 non-null  object \n",
      " 29  InternetService       7871 non-null   object \n",
      " 30  Phone                 8974 non-null   object \n",
      " 31  Multiple              10000 non-null  object \n",
      " 32  OnlineSecurity        10000 non-null  object \n",
      " 33  OnlineBackup          10000 non-null  object \n",
      " 34  DeviceProtection      10000 non-null  object \n",
      " 35  TechSupport           9009 non-null   object \n",
      " 36  StreamingTV           10000 non-null  object \n",
      " 37  StreamingMovies       10000 non-null  object \n",
      " 38  PaperlessBilling      10000 non-null  object \n",
      " 39  PaymentMethod         10000 non-null  object \n",
      " 40  Tenure                9069 non-null   float64\n",
      " 41  MonthlyCharge         10000 non-null  float64\n",
      " 42  Bandwidth_GB_Year     8979 non-null   float64\n",
      " 43  item1                 10000 non-null  int64  \n",
      " 44  item2                 10000 non-null  int64  \n",
      " 45  item3                 10000 non-null  int64  \n",
      " 46  item4                 10000 non-null  int64  \n",
      " 47  item5                 10000 non-null  int64  \n",
      " 48  item6                 10000 non-null  int64  \n",
      " 49  item7                 10000 non-null  int64  \n",
      " 50  item8                 10000 non-null  int64  \n",
      "dtypes: float64(9), int64(14), object(28)\n",
      "memory usage: 3.9+ MB\n"
     ]
    }
   ],
   "source": [
    "# check df columns and nulls\n",
    "df.info()"
   ]
  },
  {
   "cell_type": "markdown",
   "id": "5bae551a-308c-405a-8c9a-23d83f52d40f",
   "metadata": {
    "tags": []
   },
   "source": [
    "## C4. Code For Detecting Duplicates, Missing Values, and Outliers"
   ]
  },
  {
   "cell_type": "markdown",
   "id": "d589474e-cffe-4914-a485-b82a40fe8f48",
   "metadata": {
    "tags": []
   },
   "source": [
    "### Detecting duplicates"
   ]
  },
  {
   "cell_type": "markdown",
   "id": "fb23361f-d95b-4cc0-a1d0-2bf72ca48714",
   "metadata": {},
   "source": [
    "We don't want duplciated in id columns so I verify these "
   ]
  },
  {
   "cell_type": "code",
   "execution_count": 7,
   "id": "6ed5c00b-4921-4941-8eb0-6c242d67b99b",
   "metadata": {
    "tags": []
   },
   "outputs": [
    {
     "data": {
      "text/plain": [
       "0"
      ]
     },
     "execution_count": 7,
     "metadata": {},
     "output_type": "execute_result"
    }
   ],
   "source": [
    "# counts number of rows with duplicates\n",
    "df['Customer_id'].duplicated().sum()"
   ]
  },
  {
   "cell_type": "code",
   "execution_count": 8,
   "id": "b4d5219e-2c78-4c0c-b67b-dd577def9117",
   "metadata": {
    "tags": []
   },
   "outputs": [
    {
     "data": {
      "text/plain": [
       "0"
      ]
     },
     "execution_count": 8,
     "metadata": {},
     "output_type": "execute_result"
    }
   ],
   "source": [
    "# counts number of rows with duplicates\n",
    "df['Interaction'].duplicated().sum()"
   ]
  },
  {
   "cell_type": "markdown",
   "id": "d106c982-6be5-4cee-a088-2894ebc64ad1",
   "metadata": {
    "tags": []
   },
   "source": [
    "### Detecting Missing Values"
   ]
  },
  {
   "cell_type": "code",
   "execution_count": 9,
   "id": "0ad27003-55eb-4dc6-a0c0-d452c252f7e4",
   "metadata": {
    "tags": []
   },
   "outputs": [
    {
     "name": "stdout",
     "output_type": "stream",
     "text": [
      "<class 'pandas.core.frame.DataFrame'>\n",
      "RangeIndex: 10000 entries, 0 to 9999\n",
      "Data columns (total 51 columns):\n",
      " #   Column                Non-Null Count  Dtype  \n",
      "---  ------                --------------  -----  \n",
      " 0   CaseOrder             10000 non-null  int64  \n",
      " 1   Customer_id           10000 non-null  object \n",
      " 2   Interaction           10000 non-null  object \n",
      " 3   City                  10000 non-null  object \n",
      " 4   State                 10000 non-null  object \n",
      " 5   County                10000 non-null  object \n",
      " 6   Zip                   10000 non-null  int64  \n",
      " 7   Lat                   10000 non-null  float64\n",
      " 8   Lng                   10000 non-null  float64\n",
      " 9   Population            10000 non-null  int64  \n",
      " 10  Area                  10000 non-null  object \n",
      " 11  Timezone              10000 non-null  object \n",
      " 12  Job                   10000 non-null  object \n",
      " 13  Children              7505 non-null   float64\n",
      " 14  Age                   7525 non-null   float64\n",
      " 15  Education             10000 non-null  object \n",
      " 16  Employment            10000 non-null  object \n",
      " 17  Income                7510 non-null   float64\n",
      " 18  Marital               10000 non-null  object \n",
      " 19  Gender                10000 non-null  object \n",
      " 20  Churn                 10000 non-null  object \n",
      " 21  Outage_sec_perweek    10000 non-null  float64\n",
      " 22  Email                 10000 non-null  int64  \n",
      " 23  Contacts              10000 non-null  int64  \n",
      " 24  Yearly_equip_failure  10000 non-null  int64  \n",
      " 25  Techie                7523 non-null   object \n",
      " 26  Contract              10000 non-null  object \n",
      " 27  Port_modem            10000 non-null  object \n",
      " 28  Tablet                10000 non-null  object \n",
      " 29  InternetService       7871 non-null   object \n",
      " 30  Phone                 8974 non-null   object \n",
      " 31  Multiple              10000 non-null  object \n",
      " 32  OnlineSecurity        10000 non-null  object \n",
      " 33  OnlineBackup          10000 non-null  object \n",
      " 34  DeviceProtection      10000 non-null  object \n",
      " 35  TechSupport           9009 non-null   object \n",
      " 36  StreamingTV           10000 non-null  object \n",
      " 37  StreamingMovies       10000 non-null  object \n",
      " 38  PaperlessBilling      10000 non-null  object \n",
      " 39  PaymentMethod         10000 non-null  object \n",
      " 40  Tenure                9069 non-null   float64\n",
      " 41  MonthlyCharge         10000 non-null  float64\n",
      " 42  Bandwidth_GB_Year     8979 non-null   float64\n",
      " 43  item1                 10000 non-null  int64  \n",
      " 44  item2                 10000 non-null  int64  \n",
      " 45  item3                 10000 non-null  int64  \n",
      " 46  item4                 10000 non-null  int64  \n",
      " 47  item5                 10000 non-null  int64  \n",
      " 48  item6                 10000 non-null  int64  \n",
      " 49  item7                 10000 non-null  int64  \n",
      " 50  item8                 10000 non-null  int64  \n",
      "dtypes: float64(9), int64(14), object(28)\n",
      "memory usage: 3.9+ MB\n"
     ]
    }
   ],
   "source": [
    "df.info()"
   ]
  },
  {
   "cell_type": "code",
   "execution_count": 10,
   "id": "b44db07b-f200-421a-953f-53da3cdf09e8",
   "metadata": {
    "tags": []
   },
   "outputs": [
    {
     "data": {
      "text/plain": [
       "CaseOrder                  0\n",
       "Customer_id                0\n",
       "Interaction                0\n",
       "City                       0\n",
       "State                      0\n",
       "County                     0\n",
       "Zip                        0\n",
       "Lat                        0\n",
       "Lng                        0\n",
       "Population                 0\n",
       "Area                       0\n",
       "Timezone                   0\n",
       "Job                        0\n",
       "Children                2495\n",
       "Age                     2475\n",
       "Education                  0\n",
       "Employment                 0\n",
       "Income                  2490\n",
       "Marital                    0\n",
       "Gender                     0\n",
       "Churn                      0\n",
       "Outage_sec_perweek         0\n",
       "Email                      0\n",
       "Contacts                   0\n",
       "Yearly_equip_failure       0\n",
       "Techie                  2477\n",
       "Contract                   0\n",
       "Port_modem                 0\n",
       "Tablet                     0\n",
       "InternetService         2129\n",
       "Phone                   1026\n",
       "Multiple                   0\n",
       "OnlineSecurity             0\n",
       "OnlineBackup               0\n",
       "DeviceProtection           0\n",
       "TechSupport              991\n",
       "StreamingTV                0\n",
       "StreamingMovies            0\n",
       "PaperlessBilling           0\n",
       "PaymentMethod              0\n",
       "Tenure                   931\n",
       "MonthlyCharge              0\n",
       "Bandwidth_GB_Year       1021\n",
       "item1                      0\n",
       "item2                      0\n",
       "item3                      0\n",
       "item4                      0\n",
       "item5                      0\n",
       "item6                      0\n",
       "item7                      0\n",
       "item8                      0\n",
       "dtype: int64"
      ]
     },
     "execution_count": 10,
     "metadata": {},
     "output_type": "execute_result"
    }
   ],
   "source": [
    "# lists count of nulls for each column\n",
    "df.isnull().sum()"
   ]
  },
  {
   "cell_type": "code",
   "execution_count": 11,
   "id": "c1d1c7b6-2054-41d1-a5b1-bb820e772c2e",
   "metadata": {
    "tags": []
   },
   "outputs": [
    {
     "ename": "ValueError",
     "evalue": "keyword grid_b is not recognized; valid keywords are ['size', 'width', 'color', 'tickdir', 'pad', 'labelsize', 'labelcolor', 'zorder', 'gridOn', 'tick1On', 'tick2On', 'label1On', 'label2On', 'length', 'direction', 'left', 'bottom', 'right', 'top', 'labelleft', 'labelbottom', 'labelright', 'labeltop', 'labelrotation', 'grid_agg_filter', 'grid_alpha', 'grid_animated', 'grid_antialiased', 'grid_clip_box', 'grid_clip_on', 'grid_clip_path', 'grid_color', 'grid_dash_capstyle', 'grid_dash_joinstyle', 'grid_dashes', 'grid_data', 'grid_drawstyle', 'grid_figure', 'grid_fillstyle', 'grid_gapcolor', 'grid_gid', 'grid_in_layout', 'grid_label', 'grid_linestyle', 'grid_linewidth', 'grid_marker', 'grid_markeredgecolor', 'grid_markeredgewidth', 'grid_markerfacecolor', 'grid_markerfacecoloralt', 'grid_markersize', 'grid_markevery', 'grid_mouseover', 'grid_path_effects', 'grid_picker', 'grid_pickradius', 'grid_rasterized', 'grid_sketch_params', 'grid_snap', 'grid_solid_capstyle', 'grid_solid_joinstyle', 'grid_transform', 'grid_url', 'grid_visible', 'grid_xdata', 'grid_ydata', 'grid_zorder', 'grid_aa', 'grid_c', 'grid_ds', 'grid_ls', 'grid_lw', 'grid_mec', 'grid_mew', 'grid_mfc', 'grid_mfcalt', 'grid_ms']",
     "output_type": "error",
     "traceback": [
      "\u001b[1;31m---------------------------------------------------------------------------\u001b[0m",
      "\u001b[1;31mValueError\u001b[0m                                Traceback (most recent call last)",
      "Cell \u001b[1;32mIn[11], line 2\u001b[0m\n\u001b[0;32m      1\u001b[0m \u001b[38;5;66;03m# using missingno to create a matrix to look at missing values. Error caused from importing missingno thorugh jupyter using old version\u001b[39;00m\n\u001b[1;32m----> 2\u001b[0m msno\u001b[38;5;241m.\u001b[39mmatrix(df[[\u001b[38;5;124m\"\u001b[39m\u001b[38;5;124mChildren\u001b[39m\u001b[38;5;124m\"\u001b[39m,\u001b[38;5;124m\"\u001b[39m\u001b[38;5;124mAge\u001b[39m\u001b[38;5;124m\"\u001b[39m,\u001b[38;5;124m\"\u001b[39m\u001b[38;5;124mIncome\u001b[39m\u001b[38;5;124m\"\u001b[39m,\u001b[38;5;124m\"\u001b[39m\u001b[38;5;124mTechie\u001b[39m\u001b[38;5;124m\"\u001b[39m,\u001b[38;5;124m\"\u001b[39m\u001b[38;5;124mInternetService\u001b[39m\u001b[38;5;124m\"\u001b[39m,\u001b[38;5;124m\"\u001b[39m\u001b[38;5;124mPhone\u001b[39m\u001b[38;5;124m\"\u001b[39m,\u001b[38;5;124m\"\u001b[39m\u001b[38;5;124mTechSupport\u001b[39m\u001b[38;5;124m\"\u001b[39m,\u001b[38;5;124m\"\u001b[39m\u001b[38;5;124mTenure\u001b[39m\u001b[38;5;124m\"\u001b[39m,\u001b[38;5;124m\"\u001b[39m\u001b[38;5;124mBandwidth_GB_Year\u001b[39m\u001b[38;5;124m\"\u001b[39m]])\n",
      "File \u001b[1;32m~\\AppData\\Local\\anaconda3\\Lib\\site-packages\\missingno\\missingno.py:72\u001b[0m, in \u001b[0;36mmatrix\u001b[1;34m(df, filter, n, p, sort, figsize, width_ratios, color, fontsize, labels, sparkline, inline, freq, ax)\u001b[0m\n\u001b[0;32m     70\u001b[0m \u001b[38;5;66;03m# Remove extraneous default visual elements.\u001b[39;00m\n\u001b[0;32m     71\u001b[0m ax0\u001b[38;5;241m.\u001b[39mset_aspect(\u001b[38;5;124m'\u001b[39m\u001b[38;5;124mauto\u001b[39m\u001b[38;5;124m'\u001b[39m)\n\u001b[1;32m---> 72\u001b[0m ax0\u001b[38;5;241m.\u001b[39mgrid(b\u001b[38;5;241m=\u001b[39m\u001b[38;5;28;01mFalse\u001b[39;00m)\n\u001b[0;32m     73\u001b[0m ax0\u001b[38;5;241m.\u001b[39mxaxis\u001b[38;5;241m.\u001b[39mtick_top()\n\u001b[0;32m     74\u001b[0m ax0\u001b[38;5;241m.\u001b[39mxaxis\u001b[38;5;241m.\u001b[39mset_ticks_position(\u001b[38;5;124m'\u001b[39m\u001b[38;5;124mnone\u001b[39m\u001b[38;5;124m'\u001b[39m)\n",
      "File \u001b[1;32m~\\AppData\\Local\\anaconda3\\Lib\\site-packages\\matplotlib\\axes\\_base.py:3194\u001b[0m, in \u001b[0;36m_AxesBase.grid\u001b[1;34m(self, visible, which, axis, **kwargs)\u001b[0m\n\u001b[0;32m   3192\u001b[0m _api\u001b[38;5;241m.\u001b[39mcheck_in_list([\u001b[38;5;124m'\u001b[39m\u001b[38;5;124mx\u001b[39m\u001b[38;5;124m'\u001b[39m, \u001b[38;5;124m'\u001b[39m\u001b[38;5;124my\u001b[39m\u001b[38;5;124m'\u001b[39m, \u001b[38;5;124m'\u001b[39m\u001b[38;5;124mboth\u001b[39m\u001b[38;5;124m'\u001b[39m], axis\u001b[38;5;241m=\u001b[39maxis)\n\u001b[0;32m   3193\u001b[0m \u001b[38;5;28;01mif\u001b[39;00m axis \u001b[38;5;129;01min\u001b[39;00m [\u001b[38;5;124m'\u001b[39m\u001b[38;5;124mx\u001b[39m\u001b[38;5;124m'\u001b[39m, \u001b[38;5;124m'\u001b[39m\u001b[38;5;124mboth\u001b[39m\u001b[38;5;124m'\u001b[39m]:\n\u001b[1;32m-> 3194\u001b[0m     \u001b[38;5;28mself\u001b[39m\u001b[38;5;241m.\u001b[39mxaxis\u001b[38;5;241m.\u001b[39mgrid(visible, which\u001b[38;5;241m=\u001b[39mwhich, \u001b[38;5;241m*\u001b[39m\u001b[38;5;241m*\u001b[39mkwargs)\n\u001b[0;32m   3195\u001b[0m \u001b[38;5;28;01mif\u001b[39;00m axis \u001b[38;5;129;01min\u001b[39;00m [\u001b[38;5;124m'\u001b[39m\u001b[38;5;124my\u001b[39m\u001b[38;5;124m'\u001b[39m, \u001b[38;5;124m'\u001b[39m\u001b[38;5;124mboth\u001b[39m\u001b[38;5;124m'\u001b[39m]:\n\u001b[0;32m   3196\u001b[0m     \u001b[38;5;28mself\u001b[39m\u001b[38;5;241m.\u001b[39myaxis\u001b[38;5;241m.\u001b[39mgrid(visible, which\u001b[38;5;241m=\u001b[39mwhich, \u001b[38;5;241m*\u001b[39m\u001b[38;5;241m*\u001b[39mkwargs)\n",
      "File \u001b[1;32m~\\AppData\\Local\\anaconda3\\Lib\\site-packages\\matplotlib\\axis.py:1660\u001b[0m, in \u001b[0;36mAxis.grid\u001b[1;34m(self, visible, which, **kwargs)\u001b[0m\n\u001b[0;32m   1657\u001b[0m \u001b[38;5;28;01mif\u001b[39;00m which \u001b[38;5;129;01min\u001b[39;00m [\u001b[38;5;124m'\u001b[39m\u001b[38;5;124mmajor\u001b[39m\u001b[38;5;124m'\u001b[39m, \u001b[38;5;124m'\u001b[39m\u001b[38;5;124mboth\u001b[39m\u001b[38;5;124m'\u001b[39m]:\n\u001b[0;32m   1658\u001b[0m     gridkw[\u001b[38;5;124m'\u001b[39m\u001b[38;5;124mgridOn\u001b[39m\u001b[38;5;124m'\u001b[39m] \u001b[38;5;241m=\u001b[39m (\u001b[38;5;129;01mnot\u001b[39;00m \u001b[38;5;28mself\u001b[39m\u001b[38;5;241m.\u001b[39m_major_tick_kw[\u001b[38;5;124m'\u001b[39m\u001b[38;5;124mgridOn\u001b[39m\u001b[38;5;124m'\u001b[39m]\n\u001b[0;32m   1659\u001b[0m                         \u001b[38;5;28;01mif\u001b[39;00m visible \u001b[38;5;129;01mis\u001b[39;00m \u001b[38;5;28;01mNone\u001b[39;00m \u001b[38;5;28;01melse\u001b[39;00m visible)\n\u001b[1;32m-> 1660\u001b[0m     \u001b[38;5;28mself\u001b[39m\u001b[38;5;241m.\u001b[39mset_tick_params(which\u001b[38;5;241m=\u001b[39m\u001b[38;5;124m'\u001b[39m\u001b[38;5;124mmajor\u001b[39m\u001b[38;5;124m'\u001b[39m, \u001b[38;5;241m*\u001b[39m\u001b[38;5;241m*\u001b[39mgridkw)\n\u001b[0;32m   1661\u001b[0m \u001b[38;5;28mself\u001b[39m\u001b[38;5;241m.\u001b[39mstale \u001b[38;5;241m=\u001b[39m \u001b[38;5;28;01mTrue\u001b[39;00m\n",
      "File \u001b[1;32m~\\AppData\\Local\\anaconda3\\Lib\\site-packages\\matplotlib\\axis.py:932\u001b[0m, in \u001b[0;36mAxis.set_tick_params\u001b[1;34m(self, which, reset, **kwargs)\u001b[0m\n\u001b[0;32m    919\u001b[0m \u001b[38;5;250m\u001b[39m\u001b[38;5;124;03m\"\"\"\u001b[39;00m\n\u001b[0;32m    920\u001b[0m \u001b[38;5;124;03mSet appearance parameters for ticks, ticklabels, and gridlines.\u001b[39;00m\n\u001b[0;32m    921\u001b[0m \n\u001b[1;32m   (...)\u001b[0m\n\u001b[0;32m    929\u001b[0m \u001b[38;5;124;03m    gridlines.\u001b[39;00m\n\u001b[0;32m    930\u001b[0m \u001b[38;5;124;03m\"\"\"\u001b[39;00m\n\u001b[0;32m    931\u001b[0m _api\u001b[38;5;241m.\u001b[39mcheck_in_list([\u001b[38;5;124m'\u001b[39m\u001b[38;5;124mmajor\u001b[39m\u001b[38;5;124m'\u001b[39m, \u001b[38;5;124m'\u001b[39m\u001b[38;5;124mminor\u001b[39m\u001b[38;5;124m'\u001b[39m, \u001b[38;5;124m'\u001b[39m\u001b[38;5;124mboth\u001b[39m\u001b[38;5;124m'\u001b[39m], which\u001b[38;5;241m=\u001b[39mwhich)\n\u001b[1;32m--> 932\u001b[0m kwtrans \u001b[38;5;241m=\u001b[39m \u001b[38;5;28mself\u001b[39m\u001b[38;5;241m.\u001b[39m_translate_tick_params(kwargs)\n\u001b[0;32m    934\u001b[0m \u001b[38;5;66;03m# the kwargs are stored in self._major/minor_tick_kw so that any\u001b[39;00m\n\u001b[0;32m    935\u001b[0m \u001b[38;5;66;03m# future new ticks will automatically get them\u001b[39;00m\n\u001b[0;32m    936\u001b[0m \u001b[38;5;28;01mif\u001b[39;00m reset:\n",
      "File \u001b[1;32m~\\AppData\\Local\\anaconda3\\Lib\\site-packages\\matplotlib\\axis.py:1076\u001b[0m, in \u001b[0;36mAxis._translate_tick_params\u001b[1;34m(kw, reverse)\u001b[0m\n\u001b[0;32m   1074\u001b[0m \u001b[38;5;28;01mfor\u001b[39;00m key \u001b[38;5;129;01min\u001b[39;00m kw_:\n\u001b[0;32m   1075\u001b[0m     \u001b[38;5;28;01mif\u001b[39;00m key \u001b[38;5;129;01mnot\u001b[39;00m \u001b[38;5;129;01min\u001b[39;00m allowed_keys:\n\u001b[1;32m-> 1076\u001b[0m         \u001b[38;5;28;01mraise\u001b[39;00m \u001b[38;5;167;01mValueError\u001b[39;00m(\n\u001b[0;32m   1077\u001b[0m             \u001b[38;5;124m\"\u001b[39m\u001b[38;5;124mkeyword \u001b[39m\u001b[38;5;132;01m%s\u001b[39;00m\u001b[38;5;124m is not recognized; valid keywords are \u001b[39m\u001b[38;5;132;01m%s\u001b[39;00m\u001b[38;5;124m\"\u001b[39m\n\u001b[0;32m   1078\u001b[0m             \u001b[38;5;241m%\u001b[39m (key, allowed_keys))\n\u001b[0;32m   1079\u001b[0m kwtrans\u001b[38;5;241m.\u001b[39mupdate(kw_)\n\u001b[0;32m   1080\u001b[0m \u001b[38;5;28;01mreturn\u001b[39;00m kwtrans\n",
      "\u001b[1;31mValueError\u001b[0m: keyword grid_b is not recognized; valid keywords are ['size', 'width', 'color', 'tickdir', 'pad', 'labelsize', 'labelcolor', 'zorder', 'gridOn', 'tick1On', 'tick2On', 'label1On', 'label2On', 'length', 'direction', 'left', 'bottom', 'right', 'top', 'labelleft', 'labelbottom', 'labelright', 'labeltop', 'labelrotation', 'grid_agg_filter', 'grid_alpha', 'grid_animated', 'grid_antialiased', 'grid_clip_box', 'grid_clip_on', 'grid_clip_path', 'grid_color', 'grid_dash_capstyle', 'grid_dash_joinstyle', 'grid_dashes', 'grid_data', 'grid_drawstyle', 'grid_figure', 'grid_fillstyle', 'grid_gapcolor', 'grid_gid', 'grid_in_layout', 'grid_label', 'grid_linestyle', 'grid_linewidth', 'grid_marker', 'grid_markeredgecolor', 'grid_markeredgewidth', 'grid_markerfacecolor', 'grid_markerfacecoloralt', 'grid_markersize', 'grid_markevery', 'grid_mouseover', 'grid_path_effects', 'grid_picker', 'grid_pickradius', 'grid_rasterized', 'grid_sketch_params', 'grid_snap', 'grid_solid_capstyle', 'grid_solid_joinstyle', 'grid_transform', 'grid_url', 'grid_visible', 'grid_xdata', 'grid_ydata', 'grid_zorder', 'grid_aa', 'grid_c', 'grid_ds', 'grid_ls', 'grid_lw', 'grid_mec', 'grid_mew', 'grid_mfc', 'grid_mfcalt', 'grid_ms']"
     ]
    },
    {
     "data": {
      "image/png": "[encoded data removed]",
      "text/plain": [
       "<Figure size 2500x1000 with 2 Axes>"
      ]
     },
     "metadata": {},
     "output_type": "display_data"
    }
   ],
   "source": [
    "# using missingno to create a matrix to look at missing values. Error caused from importing missingno thorugh jupyter using old version\n",
    "#msno.matrix(df[[\"Children\",\"Age\",\"Income\",\"Techie\",\"InternetService\",\"Phone\",\"TechSupport\",\"Tenure\",\"Bandwidth_GB_Year\"]])"
   ]
  },
  {
   "cell_type": "markdown",
   "id": "adbd5803-b6ff-41e7-bcb1-291a9342e587",
   "metadata": {
    "tags": []
   },
   "source": [
    "### Detecting Outliers"
   ]
  },
  {
   "cell_type": "markdown",
   "id": "329d628f-6143-4255-b5a9-80f6fc37994d",
   "metadata": {},
   "source": [
    "Outliers can be tested for all quantitative variables. This includes population, children, income, outage_sec_perweek, email, contacts, yearly_equip_failure, tenure, MonthlyChargge, and Bandwidth_GB_year"
   ]
  },
  {
   "cell_type": "code",
   "execution_count": 12,
   "id": "1a5bf232-9935-407a-b020-9803a34f657e",
   "metadata": {
    "tags": []
   },
   "outputs": [],
   "source": [
    "test_df = df"
   ]
  },
  {
   "cell_type": "code",
   "execution_count": 13,
   "id": "f05a4145-3730-4118-ba01-880accf2b630",
   "metadata": {
    "tags": []
   },
   "outputs": [
    {
     "data": {
      "text/plain": [
       "<bound method NDFrame.head of       Population  zs_population\n",
       "0             38      -0.673405\n",
       "1          10446       0.047772\n",
       "2           3735      -0.417238\n",
       "3          13863       0.284537\n",
       "4          11352       0.110549\n",
       "...          ...            ...\n",
       "9995         640      -0.631692\n",
       "9996       77168       4.670977\n",
       "9997         406      -0.647906\n",
       "9998       35575       1.788974\n",
       "9999       12230       0.171386\n",
       "\n",
       "[10000 rows x 2 columns]>"
      ]
     },
     "execution_count": 13,
     "metadata": {},
     "output_type": "execute_result"
    }
   ],
   "source": [
    "# create zscore for population \n",
    "test_df['zs_population']=stats.zscore(test_df['Population'],nan_policy='omit')\n",
    "test_df[['Population','zs_population']].head"
   ]
  },
  {
   "cell_type": "code",
   "execution_count": 14,
   "id": "60704e1e-78f8-46e3-b310-e76708d38fd6",
   "metadata": {
    "tags": []
   },
   "outputs": [
    {
     "data": {
      "image/png": "[encoded data removed]",
      "text/plain": [
       "<Figure size 640x480 with 1 Axes>"
      ]
     },
     "metadata": {},
     "output_type": "display_data"
    }
   ],
   "source": [
    "# create hist\n",
    "plt.hist(test_df['zs_population'])\n",
    "plt.show()"
   ]
  },
  {
   "cell_type": "code",
   "execution_count": 15,
   "id": "92d96900-9d87-4614-8539-afa932cd70f0",
   "metadata": {
    "tags": []
   },
   "outputs": [
    {
     "data": {
      "text/plain": [
       "<bound method NDFrame.head of       Children  zs_children\n",
       "0          NaN          NaN\n",
       "1          1.0    -0.508646\n",
       "2          4.0     0.883715\n",
       "3          1.0    -0.508646\n",
       "4          0.0    -0.972766\n",
       "...        ...          ...\n",
       "9995       3.0     0.419594\n",
       "9996       4.0     0.883715\n",
       "9997       NaN          NaN\n",
       "9998       1.0    -0.508646\n",
       "9999       1.0    -0.508646\n",
       "\n",
       "[10000 rows x 2 columns]>"
      ]
     },
     "execution_count": 15,
     "metadata": {},
     "output_type": "execute_result"
    }
   ],
   "source": [
    "#create zscore for children\n",
    "test_df['zs_children']=stats.zscore(test_df['Children'],nan_policy='omit')\n",
    "test_df[['Children','zs_children']].head"
   ]
  },
  {
   "cell_type": "code",
   "execution_count": 16,
   "id": "d16c5f02-f7de-4d08-81b4-c34183e3e6e3",
   "metadata": {
    "tags": []
   },
   "outputs": [
    {
     "data": {
      "image/png": "[encoded data removed]",
      "text/plain": [
       "<Figure size 640x480 with 1 Axes>"
      ]
     },
     "metadata": {},
     "output_type": "display_data"
    }
   ],
   "source": [
    "# create histogram for children\n",
    "plt.hist(test_df['zs_children'])\n",
    "plt.show()"
   ]
  },
  {
   "cell_type": "code",
   "execution_count": 17,
   "id": "7f098b9a-edbd-476d-8b65-eafbf9d78843",
   "metadata": {
    "tags": []
   },
   "outputs": [
    {
     "data": {
      "text/plain": [
       "<bound method NDFrame.head of         Income  zs_income\n",
       "0     28561.99  -0.401133\n",
       "1     21704.77  -0.642955\n",
       "2          NaN        NaN\n",
       "3     18925.23  -0.740976\n",
       "4     40074.19   0.004846\n",
       "...        ...        ...\n",
       "9995  55723.74   0.556731\n",
       "9996       NaN        NaN\n",
       "9997       NaN        NaN\n",
       "9998  16667.58  -0.820592\n",
       "9999       NaN        NaN\n",
       "\n",
       "[10000 rows x 2 columns]>"
      ]
     },
     "execution_count": 17,
     "metadata": {},
     "output_type": "execute_result"
    }
   ],
   "source": [
    "# create zscore for income\n",
    "test_df['zs_income']=stats.zscore(test_df['Income'],nan_policy='omit')\n",
    "test_df[['Income','zs_income']].head"
   ]
  },
  {
   "cell_type": "code",
   "execution_count": 18,
   "id": "6ea376e9-28e5-444c-bc85-8eaca1367bbb",
   "metadata": {
    "tags": []
   },
   "outputs": [
    {
     "data": {
      "image/png": "[encoded data removed]",
      "text/plain": [
       "<Figure size 640x480 with 1 Axes>"
      ]
     },
     "metadata": {},
     "output_type": "display_data"
    }
   ],
   "source": [
    "# create histogram for income\n",
    "plt.hist(test_df['zs_income'])\n",
    "plt.show()"
   ]
  },
  {
   "cell_type": "code",
   "execution_count": 19,
   "id": "50a983ac-f17c-4006-a832-8fb3b9c0f993",
   "metadata": {
    "tags": []
   },
   "outputs": [
    {
     "data": {
      "text/plain": [
       "<bound method NDFrame.head of       Outage_sec_perweek  zs_outage\n",
       "0               6.972566  -0.637726\n",
       "1              12.014541   0.079935\n",
       "2              10.245616  -0.171849\n",
       "3              15.206193   0.534225\n",
       "4               8.960316  -0.354795\n",
       "...                  ...        ...\n",
       "9995            9.265392  -0.311372\n",
       "9996            8.115849  -0.474994\n",
       "9997            4.837696  -0.941598\n",
       "9998           12.076460   0.088748\n",
       "9999           12.641760   0.169211\n",
       "\n",
       "[10000 rows x 2 columns]>"
      ]
     },
     "execution_count": 19,
     "metadata": {},
     "output_type": "execute_result"
    }
   ],
   "source": [
    "# calculate the z scores for outage\n",
    "test_df['zs_outage']=stats.zscore(test_df['Outage_sec_perweek'],nan_policy='omit')\n",
    "test_df[['Outage_sec_perweek','zs_outage']].head"
   ]
  },
  {
   "cell_type": "code",
   "execution_count": 20,
   "id": "e75b0a4a-aff4-489b-9d23-baefd6131f1b",
   "metadata": {
    "tags": []
   },
   "outputs": [
    {
     "data": {
      "image/png": "[encoded data removed]",
      "text/plain": [
       "<Figure size 640x480 with 1 Axes>"
      ]
     },
     "metadata": {},
     "output_type": "display_data"
    }
   ],
   "source": [
    "# plot the histogram for outage\n",
    "plt.hist(test_df['zs_outage'])\n",
    "plt.show()"
   ]
  },
  {
   "cell_type": "code",
   "execution_count": 21,
   "id": "f2f91d9f-d49b-4746-88f8-b5ede876620a",
   "metadata": {
    "tags": []
   },
   "outputs": [
    {
     "data": {
      "text/plain": [
       "<bound method NDFrame.head of       Email  zs_email\n",
       "0        10 -0.666282\n",
       "1        12 -0.005288\n",
       "2         9 -0.996779\n",
       "3        15  0.986203\n",
       "4        16  1.316700\n",
       "...     ...       ...\n",
       "9995     12 -0.005288\n",
       "9996     15  0.986203\n",
       "9997     10 -0.666282\n",
       "9998     14  0.655706\n",
       "9999     17  1.647197\n",
       "\n",
       "[10000 rows x 2 columns]>"
      ]
     },
     "execution_count": 21,
     "metadata": {},
     "output_type": "execute_result"
    }
   ],
   "source": [
    "# calculate the zscores\n",
    "test_df['zs_email']=stats.zscore(test_df['Email'],nan_policy='omit')\n",
    "test_df[['Email','zs_email']].head"
   ]
  },
  {
   "cell_type": "code",
   "execution_count": 22,
   "id": "e94646f0-9e3a-4c26-aa66-995c827724bf",
   "metadata": {
    "tags": []
   },
   "outputs": [
    {
     "data": {
      "image/png": "[encoded data removed]",
      "text/plain": [
       "<Figure size 640x480 with 1 Axes>"
      ]
     },
     "metadata": {},
     "output_type": "display_data"
    }
   ],
   "source": [
    "# plot the histogram for email\n",
    "plt.hist(test_df['zs_email'])\n",
    "plt.show()"
   ]
  },
  {
   "cell_type": "code",
   "execution_count": 23,
   "id": "fff32df1-d3c6-453f-bbfa-230d155a80bd",
   "metadata": {
    "tags": []
   },
   "outputs": [
    {
     "data": {
      "text/plain": [
       "<bound method NDFrame.head of       Contacts  zs_contacts\n",
       "0            0    -1.005852\n",
       "1            0    -1.005852\n",
       "2            0    -1.005852\n",
       "3            2     1.017588\n",
       "4            2     1.017588\n",
       "...        ...          ...\n",
       "9995         2     1.017588\n",
       "9996         2     1.017588\n",
       "9997         0    -1.005852\n",
       "9998         1     0.005868\n",
       "9999         1     0.005868\n",
       "\n",
       "[10000 rows x 2 columns]>"
      ]
     },
     "execution_count": 23,
     "metadata": {},
     "output_type": "execute_result"
    }
   ],
   "source": [
    "# calculate zscores\n",
    "test_df['zs_contacts']=stats.zscore(test_df['Contacts'],nan_policy='omit')\n",
    "test_df[['Contacts','zs_contacts']].head"
   ]
  },
  {
   "cell_type": "code",
   "execution_count": 24,
   "id": "0bb2c9bd-f453-42fa-ac83-d19390e071ca",
   "metadata": {
    "tags": []
   },
   "outputs": [
    {
     "data": {
      "image/png": "[encoded data removed]",
      "text/plain": [
       "<Figure size 640x480 with 1 Axes>"
      ]
     },
     "metadata": {},
     "output_type": "display_data"
    }
   ],
   "source": [
    "# plot histogram for contacts\n",
    "plt.hist(test_df['zs_contacts'])\n",
    "plt.show()"
   ]
  },
  {
   "cell_type": "code",
   "execution_count": 25,
   "id": "6465a6d6-16b7-4d72-84a8-ac91bddef206",
   "metadata": {
    "tags": []
   },
   "outputs": [
    {
     "data": {
      "text/plain": [
       "<bound method NDFrame.head of       Yearly_equip_failure  zs_yearly_failure\n",
       "0                        1           0.946658\n",
       "1                        1           0.946658\n",
       "2                        1           0.946658\n",
       "3                        0          -0.625864\n",
       "4                        1           0.946658\n",
       "...                    ...                ...\n",
       "9995                     0          -0.625864\n",
       "9996                     0          -0.625864\n",
       "9997                     0          -0.625864\n",
       "9998                     0          -0.625864\n",
       "9999                     0          -0.625864\n",
       "\n",
       "[10000 rows x 2 columns]>"
      ]
     },
     "execution_count": 25,
     "metadata": {},
     "output_type": "execute_result"
    }
   ],
   "source": [
    "#calculate zscore for yearly failure\n",
    "test_df['zs_yearly_failure']=stats.zscore(test_df['Yearly_equip_failure'],nan_policy='omit')\n",
    "test_df[['Yearly_equip_failure','zs_yearly_failure']].head"
   ]
  },
  {
   "cell_type": "code",
   "execution_count": 26,
   "id": "ce1805a5-dbea-4e49-b6a4-a1d5bed77473",
   "metadata": {
    "tags": []
   },
   "outputs": [
    {
     "data": {
      "image/png": "[encoded data removed]",
      "text/plain": [
       "<Figure size 640x480 with 1 Axes>"
      ]
     },
     "metadata": {},
     "output_type": "display_data"
    }
   ],
   "source": [
    "# plot histogram for yearly failure\n",
    "plt.hist(test_df['zs_yearly_failure'])\n",
    "plt.show()"
   ]
  },
  {
   "cell_type": "code",
   "execution_count": 27,
   "id": "2c8f26f1-d1ca-4afe-b57d-fc8552c8281f",
   "metadata": {
    "tags": []
   },
   "outputs": [
    {
     "data": {
      "text/plain": [
       "<bound method NDFrame.head of          Tenure  zs_tenure\n",
       "0      6.795513  -1.047883\n",
       "1      1.156681  -1.261172\n",
       "2     15.754144  -0.709021\n",
       "3     17.087227  -0.658597\n",
       "4      1.670972  -1.241719\n",
       "...         ...        ...\n",
       "9995  68.197130   1.274642\n",
       "9996  61.040370   1.003936\n",
       "9997        NaN        NaN\n",
       "9998  71.095600   1.384277\n",
       "9999  63.350860   1.091331\n",
       "\n",
       "[10000 rows x 2 columns]>"
      ]
     },
     "execution_count": 27,
     "metadata": {},
     "output_type": "execute_result"
    }
   ],
   "source": [
    "# calculate zscore for tenure\n",
    "test_df['zs_tenure']=stats.zscore(test_df['Tenure'],nan_policy='omit')\n",
    "test_df[['Tenure','zs_tenure']].head"
   ]
  },
  {
   "cell_type": "code",
   "execution_count": 28,
   "id": "fb34d95a-bf8f-413b-829e-06e9b20ab314",
   "metadata": {
    "tags": []
   },
   "outputs": [
    {
     "data": {
      "image/png": "[encoded data removed]",
      "text/plain": [
       "<Figure size 640x480 with 1 Axes>"
      ]
     },
     "metadata": {},
     "output_type": "display_data"
    }
   ],
   "source": [
    "# plto histogram for tenure\n",
    "plt.hist(test_df['zs_tenure'])\n",
    "plt.show()"
   ]
  },
  {
   "cell_type": "code",
   "execution_count": 29,
   "id": "8a593447-e489-4b2b-8d14-325372ed7487",
   "metadata": {
    "tags": []
   },
   "outputs": [
    {
     "data": {
      "text/plain": [
       "<bound method NDFrame.head of       MonthlyCharge  zs_monthlycharge\n",
       "0        171.449762         -0.060613\n",
       "1        242.948015          1.589348\n",
       "2        159.440398         -0.337752\n",
       "3        120.249493         -1.242158\n",
       "4        150.761216         -0.538041\n",
       "...             ...               ...\n",
       "9995     159.828800         -0.328789\n",
       "9996     208.856400          0.802618\n",
       "9997     168.220900         -0.135125\n",
       "9998     252.628600          1.812746\n",
       "9999     218.371000          1.022186\n",
       "\n",
       "[10000 rows x 2 columns]>"
      ]
     },
     "execution_count": 29,
     "metadata": {},
     "output_type": "execute_result"
    }
   ],
   "source": [
    "test_df['zs_monthlycharge']=stats.zscore(test_df['MonthlyCharge'],nan_policy='omit')\n",
    "test_df[['MonthlyCharge','zs_monthlycharge']].head"
   ]
  },
  {
   "cell_type": "code",
   "execution_count": 30,
   "id": "7565b953-4b1e-4a17-aa93-be4f3f466744",
   "metadata": {
    "tags": []
   },
   "outputs": [
    {
     "data": {
      "image/png": "[encoded data removed]",
      "text/plain": [
       "<Figure size 640x480 with 1 Axes>"
      ]
     },
     "metadata": {},
     "output_type": "display_data"
    }
   ],
   "source": [
    "# plot histogram for monthly charge\n",
    "plt.hist(test_df['zs_monthlycharge'])\n",
    "plt.show()"
   ]
  },
  {
   "cell_type": "code",
   "execution_count": 31,
   "id": "7958999c-64ef-4432-87f7-506fa0de3539",
   "metadata": {
    "tags": []
   },
   "outputs": [
    {
     "data": {
      "text/plain": [
       "<bound method NDFrame.head of       Bandwidth_GB_Year  zs_bandwidth\n",
       "0            904.536110     -1.140372\n",
       "1            800.982766     -1.187715\n",
       "2           2054.706961     -0.614525\n",
       "3           2164.579412     -0.564293\n",
       "4            271.493436     -1.429792\n",
       "...                 ...           ...\n",
       "9995        6511.253000      1.422962\n",
       "9996        5695.952000      1.050215\n",
       "9997        4159.306000      0.347676\n",
       "9998        6468.457000      1.403397\n",
       "9999        5857.586000      1.124113\n",
       "\n",
       "[10000 rows x 2 columns]>"
      ]
     },
     "execution_count": 31,
     "metadata": {},
     "output_type": "execute_result"
    }
   ],
   "source": [
    "# calculate z score for bandwidth\n",
    "test_df['zs_bandwidth']=stats.zscore(test_df['Bandwidth_GB_Year'],nan_policy='omit')\n",
    "test_df[['Bandwidth_GB_Year','zs_bandwidth']].head"
   ]
  },
  {
   "cell_type": "code",
   "execution_count": 32,
   "id": "dc3b6b20-2762-459e-9449-626fb4b41c02",
   "metadata": {
    "tags": []
   },
   "outputs": [
    {
     "data": {
      "image/png": "[encoded data removed]",
      "text/plain": [
       "<Figure size 640x480 with 1 Axes>"
      ]
     },
     "metadata": {},
     "output_type": "display_data"
    }
   ],
   "source": [
    "# plot histogram\n",
    "plt.hist(test_df['zs_bandwidth'])\n",
    "plt.show()"
   ]
  },
  {
   "cell_type": "code",
   "execution_count": 33,
   "id": "4731be57-4b33-48b9-8a1e-7e6153af78e2",
   "metadata": {
    "tags": []
   },
   "outputs": [
    {
     "data": {
      "text/plain": [
       "<bound method NDFrame.head of        Age    zs_age\n",
       "0     68.0  0.709515\n",
       "1     27.0 -1.266146\n",
       "2     50.0 -0.157848\n",
       "3     48.0 -0.254222\n",
       "4     83.0  1.432318\n",
       "...    ...       ...\n",
       "9995   NaN       NaN\n",
       "9996  48.0 -0.254222\n",
       "9997   NaN       NaN\n",
       "9998  39.0 -0.687903\n",
       "9999  28.0 -1.217959\n",
       "\n",
       "[10000 rows x 2 columns]>"
      ]
     },
     "execution_count": 33,
     "metadata": {},
     "output_type": "execute_result"
    }
   ],
   "source": [
    "test_df['zs_age']=stats.zscore(test_df['Age'],nan_policy='omit')\n",
    "test_df[['Age','zs_age']].head"
   ]
  },
  {
   "cell_type": "code",
   "execution_count": 34,
   "id": "c668c33e-ee80-49d7-850d-892ad03dc2ca",
   "metadata": {
    "tags": []
   },
   "outputs": [
    {
     "data": {
      "image/png": "[encoded data removed]",
      "text/plain": [
       "<Figure size 640x480 with 1 Axes>"
      ]
     },
     "metadata": {},
     "output_type": "display_data"
    }
   ],
   "source": [
    "plt.hist(test_df['zs_age'])\n",
    "plt.show()"
   ]
  },
  {
   "cell_type": "code",
   "execution_count": 35,
   "id": "46310b8e-cf85-44b5-85c4-ff38d60488ab",
   "metadata": {
    "tags": []
   },
   "outputs": [
    {
     "name": "stdout",
     "output_type": "stream",
     "text": [
      "<class 'pandas.core.frame.DataFrame'>\n",
      "RangeIndex: 10000 entries, 0 to 9999\n",
      "Data columns (total 62 columns):\n",
      " #   Column                Non-Null Count  Dtype  \n",
      "---  ------                --------------  -----  \n",
      " 0   CaseOrder             10000 non-null  int64  \n",
      " 1   Customer_id           10000 non-null  object \n",
      " 2   Interaction           10000 non-null  object \n",
      " 3   City                  10000 non-null  object \n",
      " 4   State                 10000 non-null  object \n",
      " 5   County                10000 non-null  object \n",
      " 6   Zip                   10000 non-null  int64  \n",
      " 7   Lat                   10000 non-null  float64\n",
      " 8   Lng                   10000 non-null  float64\n",
      " 9   Population            10000 non-null  int64  \n",
      " 10  Area                  10000 non-null  object \n",
      " 11  Timezone              10000 non-null  object \n",
      " 12  Job                   10000 non-null  object \n",
      " 13  Children              7505 non-null   float64\n",
      " 14  Age                   7525 non-null   float64\n",
      " 15  Education             10000 non-null  object \n",
      " 16  Employment            10000 non-null  object \n",
      " 17  Income                7510 non-null   float64\n",
      " 18  Marital               10000 non-null  object \n",
      " 19  Gender                10000 non-null  object \n",
      " 20  Churn                 10000 non-null  object \n",
      " 21  Outage_sec_perweek    10000 non-null  float64\n",
      " 22  Email                 10000 non-null  int64  \n",
      " 23  Contacts              10000 non-null  int64  \n",
      " 24  Yearly_equip_failure  10000 non-null  int64  \n",
      " 25  Techie                7523 non-null   object \n",
      " 26  Contract              10000 non-null  object \n",
      " 27  Port_modem            10000 non-null  object \n",
      " 28  Tablet                10000 non-null  object \n",
      " 29  InternetService       7871 non-null   object \n",
      " 30  Phone                 8974 non-null   object \n",
      " 31  Multiple              10000 non-null  object \n",
      " 32  OnlineSecurity        10000 non-null  object \n",
      " 33  OnlineBackup          10000 non-null  object \n",
      " 34  DeviceProtection      10000 non-null  object \n",
      " 35  TechSupport           9009 non-null   object \n",
      " 36  StreamingTV           10000 non-null  object \n",
      " 37  StreamingMovies       10000 non-null  object \n",
      " 38  PaperlessBilling      10000 non-null  object \n",
      " 39  PaymentMethod         10000 non-null  object \n",
      " 40  Tenure                9069 non-null   float64\n",
      " 41  MonthlyCharge         10000 non-null  float64\n",
      " 42  Bandwidth_GB_Year     8979 non-null   float64\n",
      " 43  item1                 10000 non-null  int64  \n",
      " 44  item2                 10000 non-null  int64  \n",
      " 45  item3                 10000 non-null  int64  \n",
      " 46  item4                 10000 non-null  int64  \n",
      " 47  item5                 10000 non-null  int64  \n",
      " 48  item6                 10000 non-null  int64  \n",
      " 49  item7                 10000 non-null  int64  \n",
      " 50  item8                 10000 non-null  int64  \n",
      " 51  zs_population         10000 non-null  float64\n",
      " 52  zs_children           7505 non-null   float64\n",
      " 53  zs_income             7510 non-null   float64\n",
      " 54  zs_outage             10000 non-null  float64\n",
      " 55  zs_email              10000 non-null  float64\n",
      " 56  zs_contacts           10000 non-null  float64\n",
      " 57  zs_yearly_failure     10000 non-null  float64\n",
      " 58  zs_tenure             9069 non-null   float64\n",
      " 59  zs_monthlycharge      10000 non-null  float64\n",
      " 60  zs_bandwidth          8979 non-null   float64\n",
      " 61  zs_age                7525 non-null   float64\n",
      "dtypes: float64(20), int64(14), object(28)\n",
      "memory usage: 4.7+ MB\n"
     ]
    }
   ],
   "source": [
    "df.info()"
   ]
  },
  {
   "cell_type": "code",
   "execution_count": 36,
   "id": "e3567786-64d3-4751-b963-a7e1d6f44651",
   "metadata": {},
   "outputs": [],
   "source": [
    "# drop extra columns\n",
    "df = df.drop(['zs_population','zs_children','zs_income','zs_outage','zs_email','zs_contacts','zs_yearly_failure','zs_tenure','zs_monthlycharge','zs_bandwidth','zs_age'],axis=1)"
   ]
  },
  {
   "cell_type": "markdown",
   "id": "8e2624b0-9c90-44e7-9778-c33eb2dc868b",
   "metadata": {
    "tags": []
   },
   "source": [
    "## D4. Treatment of Duplicates, Nulls, and Outliers"
   ]
  },
  {
   "cell_type": "markdown",
   "id": "fd5a7c7b-b314-46c7-9414-dc5f932cd04f",
   "metadata": {
    "tags": []
   },
   "source": [
    "### Treating Nulls"
   ]
  },
  {
   "cell_type": "code",
   "execution_count": 37,
   "id": "2eb55508-74f1-4992-85c7-02f8461918d4",
   "metadata": {},
   "outputs": [
    {
     "data": {
      "text/plain": [
       "(array([1919., 1874., 1100., 1096.,  769.,  161.,  135.,  149.,  158.,\n",
       "         144.]),\n",
       " array([ 0.,  1.,  2.,  3.,  4.,  5.,  6.,  7.,  8.,  9., 10.]),\n",
       " <BarContainer object of 10 artists>)"
      ]
     },
     "execution_count": 37,
     "metadata": {},
     "output_type": "execute_result"
    },
    {
     "data": {
      "image/png": "[encoded data removed]",
      "text/plain": [
       "<Figure size 640x480 with 1 Axes>"
      ]
     },
     "metadata": {},
     "output_type": "display_data"
    }
   ],
   "source": [
    "# plotting histogram of children\n",
    "plt.hist(df[\"Children\"])"
   ]
  },
  {
   "cell_type": "code",
   "execution_count": 38,
   "id": "7adff84b-22aa-4c0f-a7bd-8d37a1dd39b7",
   "metadata": {
    "tags": []
   },
   "outputs": [],
   "source": [
    "# replacing null values with medinan because data is skewed right\n",
    "df[\"Children\"] = df[\"Children\"].fillna(df[\"Children\"].median())"
   ]
  },
  {
   "cell_type": "code",
   "execution_count": 39,
   "id": "75792dea-a1ff-40c8-80fc-319448c3ed22",
   "metadata": {
    "tags": []
   },
   "outputs": [
    {
     "data": {
      "text/plain": [
       "(array([853., 756., 714., 739., 708., 739., 728., 728., 761., 799.]),\n",
       " array([18. , 25.1, 32.2, 39.3, 46.4, 53.5, 60.6, 67.7, 74.8, 81.9, 89. ]),\n",
       " <BarContainer object of 10 artists>)"
      ]
     },
     "execution_count": 39,
     "metadata": {},
     "output_type": "execute_result"
    },
    {
     "data": {
      "image/png": "[encoded data removed]",
      "text/plain": [
       "<Figure size 640x480 with 1 Axes>"
      ]
     },
     "metadata": {},
     "output_type": "display_data"
    }
   ],
   "source": [
    "# histogram for age\n",
    "plt.hist(df[\"Age\"])"
   ]
  },
  {
   "cell_type": "code",
   "execution_count": 40,
   "id": "a9f40f7d-2ec7-42fe-b766-0e2cedf3e2b5",
   "metadata": {
    "tags": []
   },
   "outputs": [],
   "source": [
    "# replacing null values with mean because data is uniform\n",
    "df[\"Age\"] = df[\"Age\"].fillna(df[\"Age\"].mean())\n",
    "# age need to be int\n",
    "df['Age'] = df['Age'].astype(int)"
   ]
  },
  {
   "cell_type": "code",
   "execution_count": 41,
   "id": "b4a9327b-6b9a-41e3-938b-ad761c1d7d89",
   "metadata": {
    "tags": []
   },
   "outputs": [
    {
     "data": {
      "text/plain": [
       "(array([2.912e+03, 2.642e+03, 1.193e+03, 5.080e+02, 1.670e+02, 6.000e+01,\n",
       "        2.100e+01, 4.000e+00, 1.000e+00, 2.000e+00]),\n",
       " array([   740.66 ,  26556.664,  52372.668,  78188.672, 104004.676,\n",
       "        129820.68 , 155636.684, 181452.688, 207268.692, 233084.696,\n",
       "        258900.7  ]),\n",
       " <BarContainer object of 10 artists>)"
      ]
     },
     "execution_count": 41,
     "metadata": {},
     "output_type": "execute_result"
    },
    {
     "data": {
      "image/png": "[encoded data removed]",
      "text/plain": [
       "<Figure size 640x480 with 1 Axes>"
      ]
     },
     "metadata": {},
     "output_type": "display_data"
    }
   ],
   "source": [
    "# histogram for income\n",
    "plt.hist(df[\"Income\"])"
   ]
  },
  {
   "cell_type": "code",
   "execution_count": 42,
   "id": "0b98e3b5-6aef-49fb-904c-2abd45caa809",
   "metadata": {
    "tags": []
   },
   "outputs": [],
   "source": [
    "# replacing null values with median because data is skewed right\n",
    "df[\"Income\"] = df[\"Income\"].fillna(df[\"Income\"].median())"
   ]
  },
  {
   "cell_type": "code",
   "execution_count": 43,
   "id": "c38c559f-b01b-4f77-8e74-fd2a579b6971",
   "metadata": {
    "tags": []
   },
   "outputs": [
    {
     "data": {
      "text/plain": [
       "(array([2337., 1473.,  568.,  132.,   30.,  221.,  540.,  870., 1330.,\n",
       "        1568.]),\n",
       " array([ 1.00025934,  8.10016141, 15.20006347, 22.29996554, 29.3998676 ,\n",
       "        36.49976967, 43.59967174, 50.6995738 , 57.79947587, 64.89937793,\n",
       "        71.99928   ]),\n",
       " <BarContainer object of 10 artists>)"
      ]
     },
     "execution_count": 43,
     "metadata": {},
     "output_type": "execute_result"
    },
    {
     "data": {
      "image/png": "[encoded data removed]",
      "text/plain": [
       "<Figure size 640x480 with 1 Axes>"
      ]
     },
     "metadata": {},
     "output_type": "display_data"
    }
   ],
   "source": [
    "# histogram for tenure\n",
    "plt.hist(df[\"Tenure\"])"
   ]
  },
  {
   "cell_type": "code",
   "execution_count": 44,
   "id": "81b7d32c-bed6-498d-8571-d3a158a15ad9",
   "metadata": {
    "tags": []
   },
   "outputs": [],
   "source": [
    "# replacing null values with mean because data is bimodal\n",
    "df[\"Tenure\"] = df[\"Tenure\"].fillna(df[\"Tenure\"].mean())"
   ]
  },
  {
   "cell_type": "code",
   "execution_count": 45,
   "id": "ef085ed7-81b5-4e8a-8763-e8f0c112989a",
   "metadata": {
    "tags": []
   },
   "outputs": [
    {
     "data": {
      "text/plain": [
       "(array([1031., 2062., 1087.,  255.,   98.,  370.,  844., 1399., 1484.,\n",
       "         349.]),\n",
       " array([ 155.5067148 ,  855.85424332, 1556.20177184, 2256.54930036,\n",
       "        2956.89682888, 3657.2443574 , 4357.59188592, 5057.93941444,\n",
       "        5758.28694296, 6458.63447148, 7158.982     ]),\n",
       " <BarContainer object of 10 artists>)"
      ]
     },
     "execution_count": 45,
     "metadata": {},
     "output_type": "execute_result"
    },
    {
     "data": {
      "image/png": "[encoded data removed]",
      "text/plain": [
       "<Figure size 640x480 with 1 Axes>"
      ]
     },
     "metadata": {},
     "output_type": "display_data"
    }
   ],
   "source": [
    "# histogram for bandwidth\n",
    "plt.hist(df[\"Bandwidth_GB_Year\"])"
   ]
  },
  {
   "cell_type": "code",
   "execution_count": 46,
   "id": "ca10e7ef-beb3-4035-96e3-6ee69f528bb7",
   "metadata": {
    "tags": []
   },
   "outputs": [],
   "source": [
    "# replacing null values with mean because float data does not have a mode\n",
    "df[\"Bandwidth_GB_Year\"] = df[\"Bandwidth_GB_Year\"].fillna(df[\"Bandwidth_GB_Year\"].mean())"
   ]
  },
  {
   "cell_type": "code",
   "execution_count": 47,
   "id": "9f3474bf-f65a-42c3-84ed-efa9b3b170e1",
   "metadata": {
    "tags": []
   },
   "outputs": [
    {
     "data": {
      "text/plain": [
       "0    No\n",
       "Name: Techie, dtype: object"
      ]
     },
     "execution_count": 47,
     "metadata": {},
     "output_type": "execute_result"
    }
   ],
   "source": [
    "# check mode for techie\n",
    "df[\"Techie\"].mode(dropna=True)"
   ]
  },
  {
   "cell_type": "code",
   "execution_count": 48,
   "id": "80cf4b84-d326-4904-a405-84fe50fca6a2",
   "metadata": {
    "tags": []
   },
   "outputs": [],
   "source": [
    "# replace techie with most frequent data because it is categorical\n",
    "df[\"Techie\"] = df[\"Techie\"].fillna(\"No\")"
   ]
  },
  {
   "cell_type": "code",
   "execution_count": 49,
   "id": "8867a2ab-673d-4e26-9f3d-fe1f2de8ee15",
   "metadata": {
    "tags": []
   },
   "outputs": [
    {
     "data": {
      "text/plain": [
       "0    Fiber Optic\n",
       "Name: InternetService, dtype: object"
      ]
     },
     "execution_count": 49,
     "metadata": {},
     "output_type": "execute_result"
    }
   ],
   "source": [
    "# check mode for InternetService\n",
    "df[\"InternetService\"].mode(dropna=True)"
   ]
  },
  {
   "cell_type": "code",
   "execution_count": 50,
   "id": "8f3b1d66-b79e-46cd-af2e-6076a4c2b0b8",
   "metadata": {
    "tags": []
   },
   "outputs": [],
   "source": [
    "# replace InternetService with most frequent data because it is categorical\n",
    "df[\"InternetService\"] = df[\"InternetService\"].fillna(\"Fiber Optic\")"
   ]
  },
  {
   "cell_type": "code",
   "execution_count": 51,
   "id": "1471280e-53e3-4fab-9e25-8f0e25665db3",
   "metadata": {
    "tags": []
   },
   "outputs": [
    {
     "data": {
      "text/plain": [
       "0    Yes\n",
       "Name: Phone, dtype: object"
      ]
     },
     "execution_count": 51,
     "metadata": {},
     "output_type": "execute_result"
    }
   ],
   "source": [
    "# check mode for Phone\n",
    "df[\"Phone\"].mode(dropna=True)"
   ]
  },
  {
   "cell_type": "code",
   "execution_count": 52,
   "id": "f97cbbfd-0707-43ff-8c69-0c768bfe8544",
   "metadata": {
    "tags": []
   },
   "outputs": [],
   "source": [
    "# replace Phone with most frequent data because it is categorical\n",
    "df[\"Phone\"] = df[\"Phone\"].fillna(\"Yes\")"
   ]
  },
  {
   "cell_type": "code",
   "execution_count": 53,
   "id": "202c5cea-f861-4de5-a4f4-63eada7b9305",
   "metadata": {
    "tags": []
   },
   "outputs": [
    {
     "data": {
      "text/plain": [
       "0    No\n",
       "Name: TechSupport, dtype: object"
      ]
     },
     "execution_count": 53,
     "metadata": {},
     "output_type": "execute_result"
    }
   ],
   "source": [
    "# check mode for TechSupport\n",
    "df[\"TechSupport\"].mode(dropna=True)"
   ]
  },
  {
   "cell_type": "code",
   "execution_count": 54,
   "id": "12ea353b-c88d-4d64-b346-f0d623c3b048",
   "metadata": {
    "tags": []
   },
   "outputs": [],
   "source": [
    "# replace TechSupport with most frequent data because it is categorical\n",
    "df[\"TechSupport\"] = df[\"TechSupport\"].fillna(\"No\")"
   ]
  },
  {
   "cell_type": "code",
   "execution_count": 55,
   "id": "1109d62a-ff92-4ba8-ade1-3a881f2790c9",
   "metadata": {
    "tags": []
   },
   "outputs": [
    {
     "name": "stdout",
     "output_type": "stream",
     "text": [
      "<class 'pandas.core.frame.DataFrame'>\n",
      "RangeIndex: 10000 entries, 0 to 9999\n",
      "Data columns (total 51 columns):\n",
      " #   Column                Non-Null Count  Dtype  \n",
      "---  ------                --------------  -----  \n",
      " 0   CaseOrder             10000 non-null  int64  \n",
      " 1   Customer_id           10000 non-null  object \n",
      " 2   Interaction           10000 non-null  object \n",
      " 3   City                  10000 non-null  object \n",
      " 4   State                 10000 non-null  object \n",
      " 5   County                10000 non-null  object \n",
      " 6   Zip                   10000 non-null  int64  \n",
      " 7   Lat                   10000 non-null  float64\n",
      " 8   Lng                   10000 non-null  float64\n",
      " 9   Population            10000 non-null  int64  \n",
      " 10  Area                  10000 non-null  object \n",
      " 11  Timezone              10000 non-null  object \n",
      " 12  Job                   10000 non-null  object \n",
      " 13  Children              10000 non-null  float64\n",
      " 14  Age                   10000 non-null  int32  \n",
      " 15  Education             10000 non-null  object \n",
      " 16  Employment            10000 non-null  object \n",
      " 17  Income                10000 non-null  float64\n",
      " 18  Marital               10000 non-null  object \n",
      " 19  Gender                10000 non-null  object \n",
      " 20  Churn                 10000 non-null  object \n",
      " 21  Outage_sec_perweek    10000 non-null  float64\n",
      " 22  Email                 10000 non-null  int64  \n",
      " 23  Contacts              10000 non-null  int64  \n",
      " 24  Yearly_equip_failure  10000 non-null  int64  \n",
      " 25  Techie                10000 non-null  object \n",
      " 26  Contract              10000 non-null  object \n",
      " 27  Port_modem            10000 non-null  object \n",
      " 28  Tablet                10000 non-null  object \n",
      " 29  InternetService       10000 non-null  object \n",
      " 30  Phone                 10000 non-null  object \n",
      " 31  Multiple              10000 non-null  object \n",
      " 32  OnlineSecurity        10000 non-null  object \n",
      " 33  OnlineBackup          10000 non-null  object \n",
      " 34  DeviceProtection      10000 non-null  object \n",
      " 35  TechSupport           10000 non-null  object \n",
      " 36  StreamingTV           10000 non-null  object \n",
      " 37  StreamingMovies       10000 non-null  object \n",
      " 38  PaperlessBilling      10000 non-null  object \n",
      " 39  PaymentMethod         10000 non-null  object \n",
      " 40  Tenure                10000 non-null  float64\n",
      " 41  MonthlyCharge         10000 non-null  float64\n",
      " 42  Bandwidth_GB_Year     10000 non-null  float64\n",
      " 43  item1                 10000 non-null  int64  \n",
      " 44  item2                 10000 non-null  int64  \n",
      " 45  item3                 10000 non-null  int64  \n",
      " 46  item4                 10000 non-null  int64  \n",
      " 47  item5                 10000 non-null  int64  \n",
      " 48  item6                 10000 non-null  int64  \n",
      " 49  item7                 10000 non-null  int64  \n",
      " 50  item8                 10000 non-null  int64  \n",
      "dtypes: float64(8), int32(1), int64(14), object(28)\n",
      "memory usage: 3.9+ MB\n"
     ]
    }
   ],
   "source": [
    "df.info()"
   ]
  },
  {
   "cell_type": "markdown",
   "id": "73cb44ca-755e-4424-89d8-357a5eaa120e",
   "metadata": {
    "tags": []
   },
   "source": [
    "### Treat Outliers"
   ]
  },
  {
   "cell_type": "code",
   "execution_count": 56,
   "id": "7651e885-1055-4178-99db-02759d8d4c07",
   "metadata": {},
   "outputs": [],
   "source": [
    "# create nulls for outliers in population\n",
    "test_df['Population'] = np.where(test_df['zs_population'] > 2, np.nan, test_df['Population'])\n",
    "test_df['Population'] = np.where(test_df['zs_population'] < -2, np.nan, test_df['Population'])"
   ]
  },
  {
   "cell_type": "code",
   "execution_count": 58,
   "id": "0cb0c11d-1144-4117-b4ca-517e1f40ee11",
   "metadata": {
    "tags": []
   },
   "outputs": [],
   "source": [
    "# use fillna function to impute outliers with median because histogram is skewed right\n",
    "test_df['Population'] = test_df['Population'].fillna(test_df['Population'].median())\n",
    "df['Population'] = test_df['Population']"
   ]
  },
  {
   "cell_type": "code",
   "execution_count": 59,
   "id": "15d327b4-e6a2-432e-af4c-a5469e45420b",
   "metadata": {
    "tags": []
   },
   "outputs": [],
   "source": [
    "# create nulls for outliers in children\n",
    "test_df['Children'] = np.where(test_df['zs_children'] > 2, np.nan, test_df['Children'])\n",
    "test_df['Children'] = np.where(test_df['zs_children'] < -2, np.nan, test_df['Children'])"
   ]
  },
  {
   "cell_type": "code",
   "execution_count": 60,
   "id": "f3a81377-532b-4333-a545-e9558b9243d8",
   "metadata": {
    "tags": []
   },
   "outputs": [],
   "source": [
    "# use fillna function to impute outliers with median because histogram is skewed right\n",
    "test_df['Children'] = test_df['Children'].fillna(test_df['Children'].median())\n",
    "df['Children'] = test_df['Children']"
   ]
  },
  {
   "cell_type": "code",
   "execution_count": 61,
   "id": "8028a2bd-43f1-4f2b-9000-e1c55c8b593d",
   "metadata": {
    "tags": []
   },
   "outputs": [],
   "source": [
    "# create nulls for outliers in income\n",
    "test_df['Income'] = np.where(test_df['zs_income'] > 2, np.nan, test_df['Income'])\n",
    "test_df['Income'] = np.where(test_df['zs_income'] < -2, np.nan, test_df['Income'])"
   ]
  },
  {
   "cell_type": "code",
   "execution_count": 62,
   "id": "0549eb9d-210f-44cc-9527-9d2f69d9ad48",
   "metadata": {
    "tags": []
   },
   "outputs": [],
   "source": [
    "# use fillna function to impute outliers with median because histogram is skewed right\n",
    "test_df['Income'] = test_df['Income'].fillna(test_df['Income'].median())\n",
    "df['Income'] = test_df['Income']"
   ]
  },
  {
   "cell_type": "code",
   "execution_count": 63,
   "id": "d3bb0a6e-4dab-4063-9a10-c2a834f60bea",
   "metadata": {
    "tags": []
   },
   "outputs": [],
   "source": [
    "# create nulls for outliers \n",
    "test_df['Outage_sec_perweek'] = np.where(test_df['zs_outage'] > 2, np.nan, test_df['Outage_sec_perweek'])\n",
    "test_df['Outage_sec_perweek'] = np.where(test_df['zs_outage'] < -2, np.nan, test_df['Outage_sec_perweek'])"
   ]
  },
  {
   "cell_type": "code",
   "execution_count": 64,
   "id": "7d4ef2c5-4d12-49eb-9256-aeb09595e200",
   "metadata": {
    "tags": []
   },
   "outputs": [],
   "source": [
    "# use fillna function to impute outliers with mean because histogram is normally distributed\n",
    "test_df['Outage_sec_perweek'] = test_df['Outage_sec_perweek'].fillna(test_df['Outage_sec_perweek'].mean())\n",
    "df['Outage_sec_perweek'] = test_df['Outage_sec_perweek']"
   ]
  },
  {
   "cell_type": "code",
   "execution_count": 65,
   "id": "75e10b65-6e2b-4b06-ae58-2f388b796838",
   "metadata": {
    "tags": []
   },
   "outputs": [],
   "source": [
    "# create nulls for outliers \n",
    "test_df['Email'] = np.where(test_df['zs_email'] > 2, np.nan, test_df['Email'])\n",
    "test_df['Email'] = np.where(test_df['zs_email'] < -2, np.nan, test_df['Email'])"
   ]
  },
  {
   "cell_type": "code",
   "execution_count": 66,
   "id": "37cd3fbf-4968-4199-88ce-b24a7877e53a",
   "metadata": {
    "tags": []
   },
   "outputs": [],
   "source": [
    "# use fillna function to impute outliers with mean because histogram is normally distributed\n",
    "test_df['Email'] = test_df['Email'].fillna(test_df['Email'].mean())\n",
    "df['Email'] = test_df['Email']\n",
    "df['Email'] = df['Email'].astype(int)"
   ]
  },
  {
   "cell_type": "code",
   "execution_count": 67,
   "id": "cd410545-ce6a-44af-a778-99eb99b52cfb",
   "metadata": {
    "tags": []
   },
   "outputs": [],
   "source": [
    "# create nulls for outliers \n",
    "test_df['Contacts'] = np.where(test_df['zs_contacts'] > 2, np.nan, test_df['Contacts'])\n",
    "test_df['Contacts'] = np.where(test_df['zs_contacts'] < -2, np.nan, test_df['Contacts'])"
   ]
  },
  {
   "cell_type": "code",
   "execution_count": 68,
   "id": "16b0866f-d4c1-48e1-b3f1-88207cabff9e",
   "metadata": {
    "tags": []
   },
   "outputs": [],
   "source": [
    "# use fillna function to impute outliers with median because histogram is skewed right\n",
    "test_df['Contacts'] = test_df['Contacts'].fillna(test_df['Contacts'].median())\n",
    "df['Contacts'] = test_df['Contacts']"
   ]
  },
  {
   "cell_type": "code",
   "execution_count": 69,
   "id": "c9513acb-0f17-476e-b01f-409f9b488b26",
   "metadata": {
    "tags": []
   },
   "outputs": [],
   "source": [
    "# create nulls for outliers \n",
    "test_df['Yearly_equip_failure'] = np.where(test_df['zs_yearly_failure'] > 2, np.nan, test_df['Yearly_equip_failure'])\n",
    "test_df['Yearly_equip_failure'] = np.where(test_df['zs_yearly_failure'] < -2, np.nan, test_df['Yearly_equip_failure'])"
   ]
  },
  {
   "cell_type": "code",
   "execution_count": 70,
   "id": "8f76070d-572b-470f-acfc-5297a1b103a1",
   "metadata": {
    "tags": []
   },
   "outputs": [],
   "source": [
    "# use fillna function to impute outliers with median because histogram is skewed right\n",
    "test_df['Yearly_equip_failure'] = test_df['Yearly_equip_failure'].fillna(test_df['Yearly_equip_failure'].median())\n",
    "df['Yearly_equip_failure'] = test_df['Yearly_equip_failure']"
   ]
  },
  {
   "cell_type": "code",
   "execution_count": 71,
   "id": "1f58dff2-7394-4e32-a770-714f884384bc",
   "metadata": {
    "tags": []
   },
   "outputs": [],
   "source": [
    "# create nulls for outliers \n",
    "test_df['MonthlyCharge'] = np.where(test_df['zs_monthlycharge'] > 2, np.nan, test_df['MonthlyCharge'])\n",
    "test_df['MonthlyCharge'] = np.where(test_df['zs_monthlycharge'] < -2, np.nan, test_df['MonthlyCharge'])"
   ]
  },
  {
   "cell_type": "code",
   "execution_count": 72,
   "id": "33e45831-508e-4663-96bf-84aebe66f37f",
   "metadata": {
    "tags": []
   },
   "outputs": [],
   "source": [
    "# use fillna function to impute outliers with mean because histogram is normally distributed\n",
    "test_df['MonthlyCharge'] = test_df['MonthlyCharge'].fillna(test_df['MonthlyCharge'].mean())\n",
    "df['MonthlyCharge'] = test_df['MonthlyCharge']"
   ]
  },
  {
   "cell_type": "markdown",
   "id": "9aa2cdab-8904-4a9f-89f1-eb2d1ad71eb5",
   "metadata": {},
   "source": [
    "### D3. Summary of Outcomes"
   ]
  },
  {
   "cell_type": "markdown",
   "id": "79eef907-6625-4e36-a775-7aed7e4ba023",
   "metadata": {},
   "source": [
    "First we begin by checking if there are any nulls left"
   ]
  },
  {
   "cell_type": "code",
   "execution_count": 73,
   "id": "e687c2c1-9370-4a85-a4e8-9bcd23ea1937",
   "metadata": {
    "tags": []
   },
   "outputs": [
    {
     "name": "stdout",
     "output_type": "stream",
     "text": [
      "<class 'pandas.core.frame.DataFrame'>\n",
      "RangeIndex: 10000 entries, 0 to 9999\n",
      "Data columns (total 51 columns):\n",
      " #   Column                Non-Null Count  Dtype  \n",
      "---  ------                --------------  -----  \n",
      " 0   CaseOrder             10000 non-null  int64  \n",
      " 1   Customer_id           10000 non-null  object \n",
      " 2   Interaction           10000 non-null  object \n",
      " 3   City                  10000 non-null  object \n",
      " 4   State                 10000 non-null  object \n",
      " 5   County                10000 non-null  object \n",
      " 6   Zip                   10000 non-null  int64  \n",
      " 7   Lat                   10000 non-null  float64\n",
      " 8   Lng                   10000 non-null  float64\n",
      " 9   Population            10000 non-null  float64\n",
      " 10  Area                  10000 non-null  object \n",
      " 11  Timezone              10000 non-null  object \n",
      " 12  Job                   10000 non-null  object \n",
      " 13  Children              10000 non-null  float64\n",
      " 14  Age                   10000 non-null  int32  \n",
      " 15  Education             10000 non-null  object \n",
      " 16  Employment            10000 non-null  object \n",
      " 17  Income                10000 non-null  float64\n",
      " 18  Marital               10000 non-null  object \n",
      " 19  Gender                10000 non-null  object \n",
      " 20  Churn                 10000 non-null  object \n",
      " 21  Outage_sec_perweek    10000 non-null  float64\n",
      " 22  Email                 10000 non-null  int32  \n",
      " 23  Contacts              10000 non-null  float64\n",
      " 24  Yearly_equip_failure  10000 non-null  float64\n",
      " 25  Techie                10000 non-null  object \n",
      " 26  Contract              10000 non-null  object \n",
      " 27  Port_modem            10000 non-null  object \n",
      " 28  Tablet                10000 non-null  object \n",
      " 29  InternetService       10000 non-null  object \n",
      " 30  Phone                 10000 non-null  object \n",
      " 31  Multiple              10000 non-null  object \n",
      " 32  OnlineSecurity        10000 non-null  object \n",
      " 33  OnlineBackup          10000 non-null  object \n",
      " 34  DeviceProtection      10000 non-null  object \n",
      " 35  TechSupport           10000 non-null  object \n",
      " 36  StreamingTV           10000 non-null  object \n",
      " 37  StreamingMovies       10000 non-null  object \n",
      " 38  PaperlessBilling      10000 non-null  object \n",
      " 39  PaymentMethod         10000 non-null  object \n",
      " 40  Tenure                10000 non-null  float64\n",
      " 41  MonthlyCharge         10000 non-null  float64\n",
      " 42  Bandwidth_GB_Year     10000 non-null  float64\n",
      " 43  item1                 10000 non-null  int64  \n",
      " 44  item2                 10000 non-null  int64  \n",
      " 45  item3                 10000 non-null  int64  \n",
      " 46  item4                 10000 non-null  int64  \n",
      " 47  item5                 10000 non-null  int64  \n",
      " 48  item6                 10000 non-null  int64  \n",
      " 49  item7                 10000 non-null  int64  \n",
      " 50  item8                 10000 non-null  int64  \n",
      "dtypes: float64(11), int32(2), int64(10), object(28)\n",
      "memory usage: 3.8+ MB\n"
     ]
    }
   ],
   "source": [
    "# lists count of nulls for each column. verify all columns have no nulls\n",
    "df.info()"
   ]
  },
  {
   "cell_type": "code",
   "execution_count": 74,
   "id": "99bc7074-1701-45d4-9477-44bbb172a3db",
   "metadata": {
    "tags": []
   },
   "outputs": [
    {
     "data": {
      "text/plain": [
       "(array([7.243e+03, 1.178e+03, 7.340e+02, 4.610e+02, 2.090e+02, 1.050e+02,\n",
       "        3.500e+01, 2.400e+01, 8.000e+00, 3.000e+00]),\n",
       " array([     0.,  11185.,  22370.,  33555.,  44740.,  55925.,  67110.,\n",
       "         78295.,  89480., 100665., 111850.]),\n",
       " <BarContainer object of 10 artists>)"
      ]
     },
     "execution_count": 74,
     "metadata": {},
     "output_type": "execute_result"
    },
    {
     "data": {
      "image/png": "[encoded data removed]",
      "text/plain": [
       "<Figure size 640x480 with 1 Axes>"
      ]
     },
     "metadata": {},
     "output_type": "display_data"
    }
   ],
   "source": [
    "# histogram for population\n",
    "plt.hist(odf[\"Population\"])"
   ]
  },
  {
   "cell_type": "code",
   "execution_count": 75,
   "id": "3ee3a0c0-85f8-4600-b3cb-4f0e361b4db6",
   "metadata": {
    "tags": []
   },
   "outputs": [
    {
     "data": {
      "text/plain": [
       "(array([6129., 1156.,  619.,  457.,  398.,  324.,  286.,  252.,  191.,\n",
       "         188.]),\n",
       " array([    0.,  3862.,  7724., 11586., 15448., 19310., 23172., 27034.,\n",
       "        30896., 34758., 38620.]),\n",
       " <BarContainer object of 10 artists>)"
      ]
     },
     "execution_count": 75,
     "metadata": {},
     "output_type": "execute_result"
    },
    {
     "data": {
      "image/png": "[encoded data removed]",
      "text/plain": [
       "<Figure size 640x480 with 1 Axes>"
      ]
     },
     "metadata": {},
     "output_type": "display_data"
    }
   ],
   "source": [
    "# original histogram for population\n",
    "plt.hist(df[\"Population\"])"
   ]
  },
  {
   "cell_type": "code",
   "execution_count": 76,
   "id": "373fd2ba-0192-4e7b-b7f2-1c153cc3790d",
   "metadata": {
    "tags": []
   },
   "outputs": [
    {
     "data": {
      "text/plain": [
       "(array([1919., 4820.,    0., 1100.,    0., 1096.,  769.,    0.,  161.,\n",
       "         135.]),\n",
       " array([0. , 0.6, 1.2, 1.8, 2.4, 3. , 3.6, 4.2, 4.8, 5.4, 6. ]),\n",
       " <BarContainer object of 10 artists>)"
      ]
     },
     "execution_count": 76,
     "metadata": {},
     "output_type": "execute_result"
    },
    {
     "data": {
      "image/png": "[encoded data removed]",
      "text/plain": [
       "<Figure size 640x480 with 1 Axes>"
      ]
     },
     "metadata": {},
     "output_type": "display_data"
    }
   ],
   "source": [
    "# histogram for children\n",
    "plt.hist(df[\"Children\"])"
   ]
  },
  {
   "cell_type": "code",
   "execution_count": 77,
   "id": "c9dea96c-389b-4adb-81ab-2c719df69963",
   "metadata": {
    "tags": []
   },
   "outputs": [
    {
     "data": {
      "text/plain": [
       "(array([1919., 1874., 1100., 1096.,  769.,  161.,  135.,  149.,  158.,\n",
       "         144.]),\n",
       " array([ 0.,  1.,  2.,  3.,  4.,  5.,  6.,  7.,  8.,  9., 10.]),\n",
       " <BarContainer object of 10 artists>)"
      ]
     },
     "execution_count": 77,
     "metadata": {},
     "output_type": "execute_result"
    },
    {
     "data": {
      "image/png": "[encoded data removed]",
      "text/plain": [
       "<Figure size 640x480 with 1 Axes>"
      ]
     },
     "metadata": {},
     "output_type": "display_data"
    }
   ],
   "source": [
    "# original histogram for children\n",
    "plt.hist(odf[\"Children\"])"
   ]
  },
  {
   "cell_type": "code",
   "execution_count": 78,
   "id": "38fd10d1-6870-4c55-89ff-66cd31156e5d",
   "metadata": {
    "tags": []
   },
   "outputs": [
    {
     "data": {
      "text/plain": [
       "(array([ 684., 1277., 1336., 3984.,  853.,  659.,  435.,  334.,  279.,\n",
       "         159.]),\n",
       " array([  740.66 , 10329.022, 19917.384, 29505.746, 39094.108, 48682.47 ,\n",
       "        58270.832, 67859.194, 77447.556, 87035.918, 96624.28 ]),\n",
       " <BarContainer object of 10 artists>)"
      ]
     },
     "execution_count": 78,
     "metadata": {},
     "output_type": "execute_result"
    },
    {
     "data": {
      "image/png": "[encoded data removed]",
      "text/plain": [
       "<Figure size 640x480 with 1 Axes>"
      ]
     },
     "metadata": {},
     "output_type": "display_data"
    }
   ],
   "source": [
    "# histogram for income\n",
    "plt.hist(df[\"Income\"])"
   ]
  },
  {
   "cell_type": "code",
   "execution_count": 79,
   "id": "e96afc77-4f89-4e7a-a7ce-789609324b0d",
   "metadata": {
    "tags": []
   },
   "outputs": [
    {
     "data": {
      "text/plain": [
       "(array([2.912e+03, 2.642e+03, 1.193e+03, 5.080e+02, 1.670e+02, 6.000e+01,\n",
       "        2.100e+01, 4.000e+00, 1.000e+00, 2.000e+00]),\n",
       " array([   740.66 ,  26556.664,  52372.668,  78188.672, 104004.676,\n",
       "        129820.68 , 155636.684, 181452.688, 207268.692, 233084.696,\n",
       "        258900.7  ]),\n",
       " <BarContainer object of 10 artists>)"
      ]
     },
     "execution_count": 79,
     "metadata": {},
     "output_type": "execute_result"
    },
    {
     "data": {
      "image/png": "[encoded data removed]",
      "text/plain": [
       "<Figure size 640x480 with 1 Axes>"
      ]
     },
     "metadata": {},
     "output_type": "display_data"
    }
   ],
   "source": [
    "# original histogram for income\n",
    "plt.hist(odf[\"Income\"])"
   ]
  },
  {
   "cell_type": "code",
   "execution_count": 80,
   "id": "dd1084cd-50f6-46c7-b1cd-687137b8e38e",
   "metadata": {
    "tags": []
   },
   "outputs": [
    {
     "data": {
      "text/plain": [
       "(array([  18.,  112.,  549., 1475., 2530., 3055., 1511.,  599.,  137.,\n",
       "          14.]),\n",
       " array([-1.348571 ,  0.9079051,  3.1643812,  5.4208573,  7.6773334,\n",
       "         9.9338095, 12.1902856, 14.4467617, 16.7032378, 18.9597139,\n",
       "        21.21619  ]),\n",
       " <BarContainer object of 10 artists>)"
      ]
     },
     "execution_count": 80,
     "metadata": {},
     "output_type": "execute_result"
    },
    {
     "data": {
      "image/png": "[encoded data removed]",
      "text/plain": [
       "<Figure size 640x480 with 1 Axes>"
      ]
     },
     "metadata": {},
     "output_type": "display_data"
    }
   ],
   "source": [
    "# histogram for outage_sec_perweek\n",
    "plt.hist(df[\"Outage_sec_perweek\"])"
   ]
  },
  {
   "cell_type": "code",
   "execution_count": 81,
   "id": "69c6a649-e149-4098-9b64-2894237a6d20",
   "metadata": {
    "tags": []
   },
   "outputs": [
    {
     "data": {
      "text/plain": [
       "(array([ 176., 2605., 5237., 1428.,   54.,    0.,    9.,  144.,  282.,\n",
       "          65.]),\n",
       " array([-1.348571 ,  3.4912141,  8.3309992, 13.1707843, 18.0105694,\n",
       "        22.8503545, 27.6901396, 32.5299247, 37.3697098, 42.2094949,\n",
       "        47.04928  ]),\n",
       " <BarContainer object of 10 artists>)"
      ]
     },
     "execution_count": 81,
     "metadata": {},
     "output_type": "execute_result"
    },
    {
     "data": {
      "image/png": "[encoded data removed]",
      "text/plain": [
       "<Figure size 640x480 with 1 Axes>"
      ]
     },
     "metadata": {},
     "output_type": "display_data"
    }
   ],
   "source": [
    "# original histogram for outage_sec_perweek\n",
    "plt.hist(odf[\"Outage_sec_perweek\"])"
   ]
  },
  {
   "cell_type": "code",
   "execution_count": 82,
   "id": "237fe216-a109-4ab6-aa7b-3ded1eb907af",
   "metadata": {
    "tags": []
   },
   "outputs": [
    {
     "data": {
      "text/plain": [
       "(array([ 501.,  543.,  774., 1074., 1291., 2907., 1060.,  779.,  517.,\n",
       "         554.]),\n",
       " array([ 6. ,  7.2,  8.4,  9.6, 10.8, 12. , 13.2, 14.4, 15.6, 16.8, 18. ]),\n",
       " <BarContainer object of 10 artists>)"
      ]
     },
     "execution_count": 82,
     "metadata": {},
     "output_type": "execute_result"
    },
    {
     "data": {
      "image/png": "[encoded data removed]",
      "text/plain": [
       "<Figure size 640x480 with 1 Axes>"
      ]
     },
     "metadata": {},
     "output_type": "display_data"
    }
   ],
   "source": [
    "# histogram for email\n",
    "plt.hist(df[\"Email\"])"
   ]
  },
  {
   "cell_type": "code",
   "execution_count": 83,
   "id": "86e575bb-3a52-4f3a-b932-af0ed638a715",
   "metadata": {
    "tags": []
   },
   "outputs": [
    {
     "data": {
      "text/plain": [
       "(array([  23.,  140.,  501., 1317., 2365., 3638., 1296.,  554.,  151.,\n",
       "          15.]),\n",
       " array([ 1. ,  3.2,  5.4,  7.6,  9.8, 12. , 14.2, 16.4, 18.6, 20.8, 23. ]),\n",
       " <BarContainer object of 10 artists>)"
      ]
     },
     "execution_count": 83,
     "metadata": {},
     "output_type": "execute_result"
    },
    {
     "data": {
      "image/png": "[encoded data removed]",
      "text/plain": [
       "<Figure size 640x480 with 1 Axes>"
      ]
     },
     "metadata": {},
     "output_type": "display_data"
    }
   ],
   "source": [
    "# original histogram for email\n",
    "plt.hist(odf[\"Email\"])"
   ]
  },
  {
   "cell_type": "code",
   "execution_count": 84,
   "id": "b5547f86-8634-491a-a640-0413c02bc816",
   "metadata": {
    "tags": []
   },
   "outputs": [
    {
     "data": {
      "text/plain": [
       "(array([3680.,    0.,    0.,    0.,    0., 4448.,    0.,    0.,    0.,\n",
       "        1872.]),\n",
       " array([0. , 0.2, 0.4, 0.6, 0.8, 1. , 1.2, 1.4, 1.6, 1.8, 2. ]),\n",
       " <BarContainer object of 10 artists>)"
      ]
     },
     "execution_count": 84,
     "metadata": {},
     "output_type": "execute_result"
    },
    {
     "data": {
      "image/png": "[encoded data removed]",
      "text/plain": [
       "<Figure size 640x480 with 1 Axes>"
      ]
     },
     "metadata": {},
     "output_type": "display_data"
    }
   ],
   "source": [
    "# histogram for contacts\n",
    "plt.hist(df[\"Contacts\"])"
   ]
  },
  {
   "cell_type": "code",
   "execution_count": 85,
   "id": "ffd7a786-a6ab-4374-b89b-780a56567aa6",
   "metadata": {
    "tags": []
   },
   "outputs": [
    {
     "data": {
      "text/plain": [
       "(array([3.680e+03, 3.675e+03, 1.872e+03, 0.000e+00, 6.080e+02, 1.370e+02,\n",
       "        0.000e+00, 2.000e+01, 5.000e+00, 3.000e+00]),\n",
       " array([0. , 0.7, 1.4, 2.1, 2.8, 3.5, 4.2, 4.9, 5.6, 6.3, 7. ]),\n",
       " <BarContainer object of 10 artists>)"
      ]
     },
     "execution_count": 85,
     "metadata": {},
     "output_type": "execute_result"
    },
    {
     "data": {
      "image/png": "[encoded data removed]",
      "text/plain": [
       "<Figure size 640x480 with 1 Axes>"
      ]
     },
     "metadata": {},
     "output_type": "display_data"
    }
   ],
   "source": [
    "# histogram for contacts\n",
    "plt.hist(odf[\"Contacts\"])"
   ]
  },
  {
   "cell_type": "code",
   "execution_count": 86,
   "id": "66d85022-bb73-4383-a2e7-be0a1872c71f",
   "metadata": {
    "tags": []
   },
   "outputs": [
    {
     "data": {
      "text/plain": [
       "(array([7330.,    0.,    0.,    0.,    0.,    0.,    0.,    0.,    0.,\n",
       "        2670.]),\n",
       " array([0. , 0.1, 0.2, 0.3, 0.4, 0.5, 0.6, 0.7, 0.8, 0.9, 1. ]),\n",
       " <BarContainer object of 10 artists>)"
      ]
     },
     "execution_count": 86,
     "metadata": {},
     "output_type": "execute_result"
    },
    {
     "data": {
      "image/png": "[encoded data removed]",
      "text/plain": [
       "<Figure size 640x480 with 1 Axes>"
      ]
     },
     "metadata": {},
     "output_type": "display_data"
    }
   ],
   "source": [
    "# histogram for Yearly_equip_failure\n",
    "plt.hist(df[\"Yearly_equip_failure\"])"
   ]
  },
  {
   "cell_type": "code",
   "execution_count": 87,
   "id": "992b7736-b647-446f-9e62-5932c008439e",
   "metadata": {
    "tags": []
   },
   "outputs": [
    {
     "data": {
      "text/plain": [
       "(array([6.727e+03, 2.670e+03, 0.000e+00, 5.090e+02, 0.000e+00, 8.600e+01,\n",
       "        7.000e+00, 0.000e+00, 0.000e+00, 1.000e+00]),\n",
       " array([0. , 0.6, 1.2, 1.8, 2.4, 3. , 3.6, 4.2, 4.8, 5.4, 6. ]),\n",
       " <BarContainer object of 10 artists>)"
      ]
     },
     "execution_count": 87,
     "metadata": {},
     "output_type": "execute_result"
    },
    {
     "data": {
      "image/png": "[encoded data removed]",
      "text/plain": [
       "<Figure size 640x480 with 1 Axes>"
      ]
     },
     "metadata": {},
     "output_type": "display_data"
    }
   ],
   "source": [
    "# original histogram for Yearly_equip_failure\n",
    "plt.hist(odf[\"Yearly_equip_failure\"])"
   ]
  },
  {
   "cell_type": "code",
   "execution_count": 88,
   "id": "5d72b9d9-55c3-46f7-8048-0d07794f800b",
   "metadata": {
    "tags": []
   },
   "outputs": [
    {
     "data": {
      "text/plain": [
       "(array([2337., 1473.,  568.,  132.,  961.,  221.,  540.,  870., 1330.,\n",
       "        1568.]),\n",
       " array([ 1.00025934,  8.10016141, 15.20006347, 22.29996554, 29.3998676 ,\n",
       "        36.49976967, 43.59967174, 50.6995738 , 57.79947587, 64.89937793,\n",
       "        71.99928   ]),\n",
       " <BarContainer object of 10 artists>)"
      ]
     },
     "execution_count": 88,
     "metadata": {},
     "output_type": "execute_result"
    },
    {
     "data": {
      "image/png": "[encoded data removed]",
      "text/plain": [
       "<Figure size 640x480 with 1 Axes>"
      ]
     },
     "metadata": {},
     "output_type": "display_data"
    }
   ],
   "source": [
    "# histogram for tenure\n",
    "plt.hist(df[\"Tenure\"])"
   ]
  },
  {
   "cell_type": "code",
   "execution_count": 89,
   "id": "625ea798-02c5-4a8b-9e0c-f325e74a4c10",
   "metadata": {
    "tags": []
   },
   "outputs": [
    {
     "data": {
      "text/plain": [
       "(array([2337., 1473.,  568.,  132.,   30.,  221.,  540.,  870., 1330.,\n",
       "        1568.]),\n",
       " array([ 1.00025934,  8.10016141, 15.20006347, 22.29996554, 29.3998676 ,\n",
       "        36.49976967, 43.59967174, 50.6995738 , 57.79947587, 64.89937793,\n",
       "        71.99928   ]),\n",
       " <BarContainer object of 10 artists>)"
      ]
     },
     "execution_count": 89,
     "metadata": {},
     "output_type": "execute_result"
    },
    {
     "data": {
      "image/png": "[encoded data removed]",
      "text/plain": [
       "<Figure size 640x480 with 1 Axes>"
      ]
     },
     "metadata": {},
     "output_type": "display_data"
    }
   ],
   "source": [
    "# original histogram for tenure\n",
    "plt.hist(odf[\"Tenure\"])"
   ]
  },
  {
   "cell_type": "code",
   "execution_count": 90,
   "id": "00ff90b1-7985-4fb7-a93d-38c054d88f9b",
   "metadata": {
    "tags": []
   },
   "outputs": [
    {
     "data": {
      "text/plain": [
       "(array([ 359.,  655., 1417., 1395., 2109., 1213., 1006.,  764.,  635.,\n",
       "         447.]),\n",
       " array([ 89.55752604, 106.67414344, 123.79076083, 140.90737823,\n",
       "        158.02399562, 175.14061302, 192.25723042, 209.37384781,\n",
       "        226.49046521, 243.6070826 , 260.7237    ]),\n",
       " <BarContainer object of 10 artists>)"
      ]
     },
     "execution_count": 90,
     "metadata": {},
     "output_type": "execute_result"
    },
    {
     "data": {
      "image/png": "[encoded data removed]",
      "text/plain": [
       "<Figure size 640x480 with 1 Axes>"
      ]
     },
     "metadata": {},
     "output_type": "display_data"
    }
   ],
   "source": [
    "# histogram for MonthlyCharge\n",
    "plt.hist(df[\"MonthlyCharge\"])"
   ]
  },
  {
   "cell_type": "code",
   "execution_count": 91,
   "id": "44a77998-5e61-4ec5-bfb4-c24c5e31b8c0",
   "metadata": {
    "tags": []
   },
   "outputs": [
    {
     "data": {
      "text/plain": [
       "(array([ 219.,  947., 1917., 2272., 1809., 1151.,  968.,  520.,  187.,\n",
       "          10.]),\n",
       " array([ 77.50523 , 101.342567, 125.179904, 149.017241, 172.854578,\n",
       "        196.691915, 220.529252, 244.366589, 268.203926, 292.041263,\n",
       "        315.8786  ]),\n",
       " <BarContainer object of 10 artists>)"
      ]
     },
     "execution_count": 91,
     "metadata": {},
     "output_type": "execute_result"
    },
    {
     "data": {
      "image/png": "[encoded data removed]",
      "text/plain": [
       "<Figure size 640x480 with 1 Axes>"
      ]
     },
     "metadata": {},
     "output_type": "display_data"
    }
   ],
   "source": [
    "# original histogram for MonthlyCharge\n",
    "plt.hist(odf[\"MonthlyCharge\"])"
   ]
  },
  {
   "cell_type": "code",
   "execution_count": 92,
   "id": "72143f4a-9680-4014-a593-f1918ba7cba4",
   "metadata": {
    "tags": []
   },
   "outputs": [
    {
     "data": {
      "text/plain": [
       "(array([1031., 2062., 1087.,  255., 1119.,  370.,  844., 1399., 1484.,\n",
       "         349.]),\n",
       " array([ 155.5067148 ,  855.85424332, 1556.20177184, 2256.54930036,\n",
       "        2956.89682888, 3657.2443574 , 4357.59188592, 5057.93941444,\n",
       "        5758.28694296, 6458.63447148, 7158.982     ]),\n",
       " <BarContainer object of 10 artists>)"
      ]
     },
     "execution_count": 92,
     "metadata": {},
     "output_type": "execute_result"
    },
    {
     "data": {
      "image/png": "[encoded data removed]",
      "text/plain": [
       "<Figure size 640x480 with 1 Axes>"
      ]
     },
     "metadata": {},
     "output_type": "display_data"
    }
   ],
   "source": [
    "# histogram for Bandwidth_GB_year\n",
    "plt.hist(df[\"Bandwidth_GB_Year\"])"
   ]
  },
  {
   "cell_type": "code",
   "execution_count": 93,
   "id": "1df20ac0-1996-487b-8c95-5021136781f5",
   "metadata": {
    "tags": []
   },
   "outputs": [
    {
     "data": {
      "text/plain": [
       "(array([1031., 2062., 1087.,  255.,   98.,  370.,  844., 1399., 1484.,\n",
       "         349.]),\n",
       " array([ 155.5067148 ,  855.85424332, 1556.20177184, 2256.54930036,\n",
       "        2956.89682888, 3657.2443574 , 4357.59188592, 5057.93941444,\n",
       "        5758.28694296, 6458.63447148, 7158.982     ]),\n",
       " <BarContainer object of 10 artists>)"
      ]
     },
     "execution_count": 93,
     "metadata": {},
     "output_type": "execute_result"
    },
    {
     "data": {
      "image/png": "[encoded data removed]",
      "text/plain": [
       "<Figure size 640x480 with 1 Axes>"
      ]
     },
     "metadata": {},
     "output_type": "display_data"
    }
   ],
   "source": [
    "# original histogram for Bandwidth_GB_year\n",
    "plt.hist(odf[\"Bandwidth_GB_Year\"])"
   ]
  },
  {
   "cell_type": "markdown",
   "id": "48cdc8b1-ac66-40bc-850d-e1a015a17462",
   "metadata": {},
   "source": [
    "## D5. CSV"
   ]
  },
  {
   "cell_type": "code",
   "execution_count": 94,
   "id": "44a93b6d-ea5b-4a7c-a7c6-65a9fb336b6a",
   "metadata": {
    "tags": []
   },
   "outputs": [],
   "source": [
    "df.to_csv('df.csv')"
   ]
  },
  {
   "cell_type": "markdown",
   "id": "5d772c4c-058d-4a64-bc96-9d01753c6b31",
   "metadata": {
    "tags": []
   },
   "source": [
    "## Principal Component Analysis"
   ]
  },
  {
   "cell_type": "code",
   "execution_count": 95,
   "id": "5e40023a-2448-4c6a-8604-ba6b2b92e358",
   "metadata": {
    "tags": []
   },
   "outputs": [],
   "source": [
    "# start principal component analysis by defining the variables\n",
    "pca_df = df[['Income','Tenure','MonthlyCharge','Bandwidth_GB_Year']]"
   ]
  },
  {
   "cell_type": "code",
   "execution_count": 96,
   "id": "cbb04698-5c4e-4f56-a851-2457534acd08",
   "metadata": {
    "tags": []
   },
   "outputs": [
    {
     "data": {
      "text/html": [
       "<div>\n",
       "<style scoped>\n",
       "    .dataframe tbody tr th:only-of-type {\n",
       "        vertical-align: middle;\n",
       "    }\n",
       "\n",
       "    .dataframe tbody tr th {\n",
       "        vertical-align: top;\n",
       "    }\n",
       "\n",
       "    .dataframe thead th {\n",
       "        text-align: right;\n",
       "    }\n",
       "</style>\n",
       "<table border=\"1\" class=\"dataframe\">\n",
       "  <thead>\n",
       "    <tr style=\"text-align: right;\">\n",
       "      <th></th>\n",
       "      <th>Income</th>\n",
       "      <th>Tenure</th>\n",
       "      <th>MonthlyCharge</th>\n",
       "      <th>Bandwidth_GB_Year</th>\n",
       "    </tr>\n",
       "  </thead>\n",
       "  <tbody>\n",
       "    <tr>\n",
       "      <th>0</th>\n",
       "      <td>28561.990</td>\n",
       "      <td>6.795513</td>\n",
       "      <td>171.449762</td>\n",
       "      <td>904.536110</td>\n",
       "    </tr>\n",
       "    <tr>\n",
       "      <th>1</th>\n",
       "      <td>21704.770</td>\n",
       "      <td>1.156681</td>\n",
       "      <td>242.948015</td>\n",
       "      <td>800.982766</td>\n",
       "    </tr>\n",
       "    <tr>\n",
       "      <th>2</th>\n",
       "      <td>31769.615</td>\n",
       "      <td>15.754144</td>\n",
       "      <td>159.440398</td>\n",
       "      <td>2054.706961</td>\n",
       "    </tr>\n",
       "    <tr>\n",
       "      <th>3</th>\n",
       "      <td>18925.230</td>\n",
       "      <td>17.087227</td>\n",
       "      <td>120.249493</td>\n",
       "      <td>2164.579412</td>\n",
       "    </tr>\n",
       "    <tr>\n",
       "      <th>4</th>\n",
       "      <td>40074.190</td>\n",
       "      <td>1.670972</td>\n",
       "      <td>150.761216</td>\n",
       "      <td>271.493436</td>\n",
       "    </tr>\n",
       "  </tbody>\n",
       "</table>\n",
       "</div>"
      ],
      "text/plain": [
       "      Income     Tenure  MonthlyCharge  Bandwidth_GB_Year\n",
       "0  28561.990   6.795513     171.449762         904.536110\n",
       "1  21704.770   1.156681     242.948015         800.982766\n",
       "2  31769.615  15.754144     159.440398        2054.706961\n",
       "3  18925.230  17.087227     120.249493        2164.579412\n",
       "4  40074.190   1.670972     150.761216         271.493436"
      ]
     },
     "execution_count": 96,
     "metadata": {},
     "output_type": "execute_result"
    }
   ],
   "source": [
    "# preview pca df\n",
    "pca_df.head()"
   ]
  },
  {
   "cell_type": "code",
   "execution_count": 97,
   "id": "d97d6c1a-63e7-4c7c-8a0c-0c73a2849316",
   "metadata": {
    "tags": []
   },
   "outputs": [
    {
     "data": {
      "text/html": [
       "<style>#sk-container-id-1 {color: black;}#sk-container-id-1 pre{padding: 0;}#sk-container-id-1 div.sk-toggleable {background-color: white;}#sk-container-id-1 label.sk-toggleable__label {cursor: pointer;display: block;width: 100%;margin-bottom: 0;padding: 0.3em;box-sizing: border-box;text-align: center;}#sk-container-id-1 label.sk-toggleable__label-arrow:before {content: \"▸\";float: left;margin-right: 0.25em;color: #696969;}#sk-container-id-1 label.sk-toggleable__label-arrow:hover:before {color: black;}#sk-container-id-1 div.sk-estimator:hover label.sk-toggleable__label-arrow:before {color: black;}#sk-container-id-1 div.sk-toggleable__content {max-height: 0;max-width: 0;overflow: hidden;text-align: left;background-color: #f0f8ff;}#sk-container-id-1 div.sk-toggleable__content pre {margin: 0.2em;color: black;border-radius: 0.25em;background-color: #f0f8ff;}#sk-container-id-1 input.sk-toggleable__control:checked~div.sk-toggleable__content {max-height: 200px;max-width: 100%;overflow: auto;}#sk-container-id-1 input.sk-toggleable__control:checked~label.sk-toggleable__label-arrow:before {content: \"▾\";}#sk-container-id-1 div.sk-estimator input.sk-toggleable__control:checked~label.sk-toggleable__label {background-color: #d4ebff;}#sk-container-id-1 div.sk-label input.sk-toggleable__control:checked~label.sk-toggleable__label {background-color: #d4ebff;}#sk-container-id-1 input.sk-hidden--visually {border: 0;clip: rect(1px 1px 1px 1px);clip: rect(1px, 1px, 1px, 1px);height: 1px;margin: -1px;overflow: hidden;padding: 0;position: absolute;width: 1px;}#sk-container-id-1 div.sk-estimator {font-family: monospace;background-color: #f0f8ff;border: 1px dotted black;border-radius: 0.25em;box-sizing: border-box;margin-bottom: 0.5em;}#sk-container-id-1 div.sk-estimator:hover {background-color: #d4ebff;}#sk-container-id-1 div.sk-parallel-item::after {content: \"\";width: 100%;border-bottom: 1px solid gray;flex-grow: 1;}#sk-container-id-1 div.sk-label:hover label.sk-toggleable__label {background-color: #d4ebff;}#sk-container-id-1 div.sk-serial::before {content: \"\";position: absolute;border-left: 1px solid gray;box-sizing: border-box;top: 0;bottom: 0;left: 50%;z-index: 0;}#sk-container-id-1 div.sk-serial {display: flex;flex-direction: column;align-items: center;background-color: white;padding-right: 0.2em;padding-left: 0.2em;position: relative;}#sk-container-id-1 div.sk-item {position: relative;z-index: 1;}#sk-container-id-1 div.sk-parallel {display: flex;align-items: stretch;justify-content: center;background-color: white;position: relative;}#sk-container-id-1 div.sk-item::before, #sk-container-id-1 div.sk-parallel-item::before {content: \"\";position: absolute;border-left: 1px solid gray;box-sizing: border-box;top: 0;bottom: 0;left: 50%;z-index: -1;}#sk-container-id-1 div.sk-parallel-item {display: flex;flex-direction: column;z-index: 1;position: relative;background-color: white;}#sk-container-id-1 div.sk-parallel-item:first-child::after {align-self: flex-end;width: 50%;}#sk-container-id-1 div.sk-parallel-item:last-child::after {align-self: flex-start;width: 50%;}#sk-container-id-1 div.sk-parallel-item:only-child::after {width: 0;}#sk-container-id-1 div.sk-dashed-wrapped {border: 1px dashed gray;margin: 0 0.4em 0.5em 0.4em;box-sizing: border-box;padding-bottom: 0.4em;background-color: white;}#sk-container-id-1 div.sk-label label {font-family: monospace;font-weight: bold;display: inline-block;line-height: 1.2em;}#sk-container-id-1 div.sk-label-container {text-align: center;}#sk-container-id-1 div.sk-container {/* jupyter's `normalize.less` sets `[hidden] { display: none; }` but bootstrap.min.css set `[hidden] { display: none !important; }` so we also need the `!important` here to be able to override the default hidden behavior on the sphinx rendered scikit-learn.org. See: https://github.com/scikit-learn/scikit-learn/issues/21755 */display: inline-block !important;position: relative;}#sk-container-id-1 div.sk-text-repr-fallback {display: none;}</style><div id=\"sk-container-id-1\" class=\"sk-top-container\"><div class=\"sk-text-repr-fallback\"><pre>PCA(n_components=4)</pre><b>In a Jupyter environment, please rerun this cell to show the HTML representation or trust the notebook. <br />On GitHub, the HTML representation is unable to render, please try loading this page with nbviewer.org.</b></div><div class=\"sk-container\" hidden><div class=\"sk-item\"><div class=\"sk-estimator sk-toggleable\"><input class=\"sk-toggleable__control sk-hidden--visually\" id=\"sk-estimator-id-1\" type=\"checkbox\" checked><label for=\"sk-estimator-id-1\" class=\"sk-toggleable__label sk-toggleable__label-arrow\">PCA</label><div class=\"sk-toggleable__content\"><pre>PCA(n_components=4)</pre></div></div></div></div></div>"
      ],
      "text/plain": [
       "PCA(n_components=4)"
      ]
     },
     "execution_count": 97,
     "metadata": {},
     "output_type": "execute_result"
    }
   ],
   "source": [
    "# normalize the variables\n",
    "pca_normalized = (pca_df-pca_df.mean())/pca_df.std()\n",
    "pca = PCA(n_components=pca_df.shape[1])\n",
    "pca.fit(pca_normalized)"
   ]
  },
  {
   "cell_type": "code",
   "execution_count": 98,
   "id": "7e06d766-ffdd-4dec-9fc5-cfaa6a733b3e",
   "metadata": {},
   "outputs": [],
   "source": [
    "# create pca dataframe\n",
    "df_pca = pd.DataFrame(pca.transform(pca_normalized), columns=['PC1','PC2','PC3','PC4'])"
   ]
  },
  {
   "cell_type": "code",
   "execution_count": 99,
   "id": "2bd1da5e-d108-40ed-9790-b261017992e8",
   "metadata": {
    "tags": []
   },
   "outputs": [
    {
     "data": {
      "text/html": [
       "<div>\n",
       "<style scoped>\n",
       "    .dataframe tbody tr th:only-of-type {\n",
       "        vertical-align: middle;\n",
       "    }\n",
       "\n",
       "    .dataframe tbody tr th {\n",
       "        vertical-align: top;\n",
       "    }\n",
       "\n",
       "    .dataframe thead th {\n",
       "        text-align: right;\n",
       "    }\n",
       "</style>\n",
       "<table border=\"1\" class=\"dataframe\">\n",
       "  <thead>\n",
       "    <tr style=\"text-align: right;\">\n",
       "      <th></th>\n",
       "      <th>PC1</th>\n",
       "      <th>PC2</th>\n",
       "      <th>PC3</th>\n",
       "      <th>PC4</th>\n",
       "    </tr>\n",
       "  </thead>\n",
       "  <tbody>\n",
       "    <tr>\n",
       "      <th>Income</th>\n",
       "      <td>0.007122</td>\n",
       "      <td>0.680951</td>\n",
       "      <td>0.732294</td>\n",
       "      <td>-0.000238</td>\n",
       "    </tr>\n",
       "    <tr>\n",
       "      <th>Tenure</th>\n",
       "      <td>0.706112</td>\n",
       "      <td>0.037428</td>\n",
       "      <td>-0.041901</td>\n",
       "      <td>-0.705867</td>\n",
       "    </tr>\n",
       "    <tr>\n",
       "      <th>MonthlyCharge</th>\n",
       "      <td>0.034862</td>\n",
       "      <td>-0.731326</td>\n",
       "      <td>0.679697</td>\n",
       "      <td>-0.044252</td>\n",
       "    </tr>\n",
       "    <tr>\n",
       "      <th>Bandwidth_GB_Year</th>\n",
       "      <td>0.707205</td>\n",
       "      <td>-0.008178</td>\n",
       "      <td>0.000955</td>\n",
       "      <td>0.706960</td>\n",
       "    </tr>\n",
       "  </tbody>\n",
       "</table>\n",
       "</div>"
      ],
      "text/plain": [
       "                        PC1       PC2       PC3       PC4\n",
       "Income             0.007122  0.680951  0.732294 -0.000238\n",
       "Tenure             0.706112  0.037428 -0.041901 -0.705867\n",
       "MonthlyCharge      0.034862 -0.731326  0.679697 -0.044252\n",
       "Bandwidth_GB_Year  0.707205 -0.008178  0.000955  0.706960"
      ]
     },
     "execution_count": 99,
     "metadata": {},
     "output_type": "execute_result"
    }
   ],
   "source": [
    "# Create PCA loadings\n",
    "loadings = pd.DataFrame(pca.components_.T,columns=['PC1','PC2','PC3','PC4'],index=pca_df.columns)\n",
    "loadings"
   ]
  },
  {
   "cell_type": "code",
   "execution_count": 100,
   "id": "1f53d5a5-a31c-48d2-9f80-63c33c3307aa",
   "metadata": {
    "tags": []
   },
   "outputs": [],
   "source": [
    "# Selecting PCs\n",
    "cov_matrix = np.dot(pca_normalized.T, pca_normalized) / pca_df.shape[0]"
   ]
  },
  {
   "cell_type": "code",
   "execution_count": 101,
   "id": "a70b0460-9f61-4edd-9f3f-c619a7ceb886",
   "metadata": {
    "tags": []
   },
   "outputs": [
    {
     "data": {
      "text/plain": [
       "[1.8951205821625667, 1.005110659577462, 0.995309798496527, 0.1040589597634031]"
      ]
     },
     "execution_count": 101,
     "metadata": {},
     "output_type": "execute_result"
    }
   ],
   "source": [
    "# calculate eigenvalues\n",
    "eigenvalues = [np.dot(eigenvector.T,np.dot(cov_matrix,eigenvector)) for eigenvector in pca.components_]\n",
    "eigenvalues"
   ]
  },
  {
   "cell_type": "code",
   "execution_count": 102,
   "id": "ea8ca43b-2f5b-4821-ae70-f7c3df6666e0",
   "metadata": {
    "tags": []
   },
   "outputs": [
    {
     "data": {
      "image/png": "[encoded data removed]",
      "text/plain": [
       "<Figure size 640x480 with 1 Axes>"
      ]
     },
     "metadata": {},
     "output_type": "display_data"
    }
   ],
   "source": [
    "# plot scree plot\n",
    "\n",
    "plt.plot(eigenvalues)\n",
    "plt.xlabel('Number of Components')\n",
    "plt.ylabel('eigenvalue')\n",
    "plt.axhline(y=1, color=\"red\")\n",
    "plt.show()"
   ]
  }
 ],
 "metadata": {
  "kernelspec": {
   "display_name": "Python 3 (ipykernel)",
   "language": "python",
   "name": "python3"
  },
  "language_info": {
   "codemirror_mode": {
    "name": "ipython",
    "version": 3
   },
   "file_extension": ".py",
   "mimetype": "text/x-python",
   "name": "python",
   "nbconvert_exporter": "python",
   "pygments_lexer": "ipython3",
   "version": "3.11.5"
  }
 },
 "nbformat": 4,
 "nbformat_minor": 5
}
